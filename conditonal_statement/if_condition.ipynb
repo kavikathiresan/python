{
 "cells": [
  {
   "cell_type": "markdown",
   "id": "236c0ac2",
   "metadata": {},
   "source": [
    "# IF- condition satisfy then its true and if u given else part it will excute always"
   ]
  },
  {
   "cell_type": "code",
   "execution_count": 2,
   "id": "c0ba2234",
   "metadata": {},
   "outputs": [
    {
     "name": "stdout",
     "output_type": "stream",
     "text": [
      "its a evn no\n"
     ]
    }
   ],
   "source": [
    "# even or odd number\n",
    "n= 20\n",
    "if n%2==0:\n",
    "    print('its a evn no')\n",
    "else:\n",
    "    print('its a odd no')"
   ]
  },
  {
   "cell_type": "code",
   "execution_count": 1,
   "id": "01787af4",
   "metadata": {},
   "outputs": [
    {
     "name": "stdout",
     "output_type": "stream",
     "text": [
      "its a odd no\n"
     ]
    }
   ],
   "source": [
    "n= 21\n",
    "if n%2==0:\n",
    "    print('its a evn no')\n",
    "else:\n",
    "    print('its a odd no')"
   ]
  },
  {
   "cell_type": "code",
   "execution_count": 3,
   "id": "4edea956",
   "metadata": {},
   "outputs": [
    {
     "name": "stdout",
     "output_type": "stream",
     "text": [
      "b is greater than a\n"
     ]
    }
   ],
   "source": [
    "a = 33\n",
    "b = 200\n",
    "if b > a:\n",
    "    print(\"b is greater than a\")"
   ]
  },
  {
   "cell_type": "code",
   "execution_count": 4,
   "id": "68a18f8e",
   "metadata": {},
   "outputs": [
    {
     "name": "stdout",
     "output_type": "stream",
     "text": [
      "Positive number\n"
     ]
    }
   ],
   "source": [
    "number = 10\n",
    "\n",
    "if number > 0:\n",
    "    print('Positive number')\n",
    "\n",
    "else:\n",
    "    print('Negative number')"
   ]
  },
  {
   "cell_type": "code",
   "execution_count": 6,
   "id": "340c3bfd",
   "metadata": {},
   "outputs": [
    {
     "name": "stdout",
     "output_type": "stream",
     "text": [
      "15 is less than 10\n"
     ]
    }
   ],
   "source": [
    "i = 10\n",
    "  \n",
    "if (i > 15):\n",
    "    print(\"10 is less than 15\")\n",
    "else:\n",
    "    print(\"15 is less than 10\")"
   ]
  },
  {
   "cell_type": "code",
   "execution_count": 8,
   "id": "1129fc36",
   "metadata": {},
   "outputs": [
    {
     "name": "stdout",
     "output_type": "stream",
     "text": [
      "i is smaller than 15\n",
      "i'm in if Block\n",
      "i'm not in if and not in else Block\n"
     ]
    }
   ],
   "source": [
    "i = 20\n",
    "if (i < 15):\n",
    "    print(\"i is smaller than 15\")\n",
    "    print(\"i'm in if Block\")\n",
    "else:\n",
    "    print(\"i is greater than 15\")\n",
    "    print(\"i'm in else Block\")\n",
    "print(\"i'm not in if and not in else Block\")"
   ]
  },
  {
   "cell_type": "code",
   "execution_count": 10,
   "id": "72a80560",
   "metadata": {},
   "outputs": [
    {
     "name": "stdout",
     "output_type": "stream",
     "text": [
      "2\n"
     ]
    }
   ],
   "source": [
    "a = 2\n",
    "b = 1\n",
    "if a>b:\n",
    "    print(a)\n",
    "else:\n",
    "    print(\"if condition is wrong\")"
   ]
  },
  {
   "cell_type": "markdown",
   "id": "428e22ce",
   "metadata": {},
   "source": [
    "# ELIF- check the condition true or false based on conditon else part will excute"
   ]
  },
  {
   "cell_type": "code",
   "execution_count": 18,
   "id": "4749f201",
   "metadata": {},
   "outputs": [
    {
     "name": "stdout",
     "output_type": "stream",
     "text": [
      "works all\n"
     ]
    }
   ],
   "source": [
    "marks = 40\n",
    "kamal = 30\n",
    "kamal_avg=55\n",
    "kamal_high=52\n",
    "\n",
    "if kamal>marks:\n",
    "    print(\"passed\")\n",
    "elif kamal_avg <30:\n",
    "    print(\"improved\")\n",
    "elif kamal_high>50:\n",
    "    print(\"works all\")\n",
    "else:\n",
    "    print(\"good job\")"
   ]
  },
  {
   "cell_type": "markdown",
   "id": "f1f04938",
   "metadata": {},
   "source": [
    "# IF,ELIF,ELSE"
   ]
  },
  {
   "cell_type": "code",
   "execution_count": 2,
   "id": "1ac8e595",
   "metadata": {},
   "outputs": [
    {
     "name": "stdout",
     "output_type": "stream",
     "text": [
      "x=y\n"
     ]
    }
   ],
   "source": [
    "x = 10\n",
    "y = 12\n",
    "if x > y:\n",
    "    print(\"x>y\")\n",
    "elif x >= y:\n",
    "    print(\"x<y\")\n",
    "else:\n",
    "    print(\"x=y\")"
   ]
  },
  {
   "cell_type": "markdown",
   "id": "b4eeda67",
   "metadata": {},
   "source": [
    "# for and if"
   ]
  },
  {
   "cell_type": "code",
   "execution_count": 19,
   "id": "45a0781a",
   "metadata": {},
   "outputs": [
    {
     "name": "stdout",
     "output_type": "stream",
     "text": [
      "its a evn no 2\n",
      "its a evn no 4\n",
      "its a evn no 6\n",
      "its a evn no 8\n",
      "its a evn no 10\n",
      "its a evn no 12\n",
      "its a evn no 14\n",
      "its a evn no 16\n",
      "its a evn no 18\n",
      "its a evn no 20\n"
     ]
    }
   ],
   "source": [
    "#IF- condition satifes then its true and if u given else part it will excute always\n",
    "for n in range(1,21):\n",
    "    if n%2==0:\n",
    "        print('its a evn no',n)\n"
   ]
  },
  {
   "cell_type": "code",
   "execution_count": 25,
   "id": "72e049c4",
   "metadata": {},
   "outputs": [
    {
     "name": "stdout",
     "output_type": "stream",
     "text": [
      "dt scnc"
     ]
    }
   ],
   "source": [
    "a = 'data science'\n",
    "for i in a:\n",
    "    if i not in 'aeiouAEIOU':\n",
    "        print(i,end=\"\")"
   ]
  },
  {
   "cell_type": "code",
   "execution_count": null,
   "id": "65c204a5",
   "metadata": {},
   "outputs": [],
   "source": [
    "for i in range(11,14):\n",
    "    for j in range(27,30):\n",
    "        print(j)\n",
    "        if i == j:\n",
    "            break"
   ]
  },
  {
   "cell_type": "code",
   "execution_count": null,
   "id": "89f3f1af",
   "metadata": {},
   "outputs": [],
   "source": []
  }
 ],
 "metadata": {
  "kernelspec": {
   "display_name": "Python 3 (ipykernel)",
   "language": "python",
   "name": "python3"
  },
  "language_info": {
   "codemirror_mode": {
    "name": "ipython",
    "version": 3
   },
   "file_extension": ".py",
   "mimetype": "text/x-python",
   "name": "python",
   "nbconvert_exporter": "python",
   "pygments_lexer": "ipython3",
   "version": "3.10.9"
  }
 },
 "nbformat": 4,
 "nbformat_minor": 5
}
