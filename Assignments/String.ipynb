{
 "cells": [
  {
   "cell_type": "markdown",
   "id": "a7a26a5a",
   "metadata": {},
   "source": [
    "1: Write a Python program to count the number of characters in a string."
   ]
  },
  {
   "cell_type": "code",
   "execution_count": 1,
   "id": "99f7b22b",
   "metadata": {},
   "outputs": [
    {
     "name": "stdout",
     "output_type": "stream",
     "text": [
      "12\n"
     ]
    }
   ],
   "source": [
    "a = 'Data Science'\n",
    "count = 0 # for loop runs inside the loop gives no of string and count add it\n",
    "for i in a:\n",
    "    count = count +1\n",
    "print(count)    "
   ]
  },
  {
   "cell_type": "markdown",
   "id": "82470bd9",
   "metadata": {},
   "source": [
    "2.Write a Python program to reverse a string.\n",
    "\n"
   ]
  },
  {
   "cell_type": "code",
   "execution_count": 52,
   "id": "85d20087",
   "metadata": {},
   "outputs": [
    {
     "name": "stdout",
     "output_type": "stream",
     "text": [
      "orignal string:Hi I am attending a data science internship\n",
      "the reversed string is:pihsnretni ecneics atad a gnidnetta ma I iH\n"
     ]
    }
   ],
   "source": [
    "text = \"Hi I am attending a data science internship\"\n",
    "print(f'orignal string:{text}')\n",
    "print(f'the reversed string is:{text[::-1]}')"
   ]
  },
  {
   "cell_type": "code",
   "execution_count": 5,
   "id": "4a1f2688",
   "metadata": {},
   "outputs": [
    {
     "name": "stdout",
     "output_type": "stream",
     "text": [
      "orignal string:Hi I am attending a data science internship\n",
      "the reversed string is:pihsnretni ecneics atad a gnidnetta ma I iH\n"
     ]
    }
   ],
   "source": [
    "def function(x):\n",
    "    return x[::-1] # reverse\n",
    "\n",
    "text = \"Hi I am attending a data science internship\"\n",
    "print(f'orignal string:{text}')\n",
    "print(f'the reversed string is:{function(text)}')"
   ]
  },
  {
   "cell_type": "markdown",
   "id": "d21333cb",
   "metadata": {},
   "source": [
    "3.Write a Python program to check if a string is a palindrome."
   ]
  },
  {
   "cell_type": "code",
   "execution_count": 8,
   "id": "65c82c32",
   "metadata": {},
   "outputs": [
    {
     "name": "stdout",
     "output_type": "stream",
     "text": [
      "enter the string :madam\n",
      "the string is palindrome\n"
     ]
    }
   ],
   "source": [
    "s = input(\"enter the string :\")\n",
    "reverse = s[::-1]\n",
    "if s==reverse:\n",
    "    print(\"the string is palindrome\")\n",
    "else:\n",
    "    print(\"the string is not a palindrome\")"
   ]
  },
  {
   "cell_type": "markdown",
   "id": "b90e54a5",
   "metadata": {},
   "source": [
    "4.Write a Python program to find the most common character in a string."
   ]
  },
  {
   "cell_type": "code",
   "execution_count": 9,
   "id": "9963cfd9",
   "metadata": {},
   "outputs": [],
   "source": [
    "# most common character using Counter method that returns n most common elements"
   ]
  },
  {
   "cell_type": "code",
   "execution_count": 10,
   "id": "89cc7251",
   "metadata": {},
   "outputs": [],
   "source": [
    "from collections import Counter"
   ]
  },
  {
   "cell_type": "code",
   "execution_count": 12,
   "id": "4c7f01b3",
   "metadata": {},
   "outputs": [
    {
     "name": "stdout",
     "output_type": "stream",
     "text": [
      "the most common character:[('e', 3)]\n"
     ]
    }
   ],
   "source": [
    "char = \"Hello I am here\"\n",
    "character = Counter(char)\n",
    "print(f'the most common character:{character.most_common(1)}') # using most_common"
   ]
  },
  {
   "cell_type": "markdown",
   "id": "fb4ddc26",
   "metadata": {},
   "source": [
    "5.Write a Python program to check if two strings are anagrams."
   ]
  },
  {
   "cell_type": "code",
   "execution_count": 14,
   "id": "f58931a1",
   "metadata": {},
   "outputs": [],
   "source": [
    "# anagrams have same no of character but the order of character can be different"
   ]
  },
  {
   "cell_type": "code",
   "execution_count": 19,
   "id": "72a62e95",
   "metadata": {},
   "outputs": [
    {
     "name": "stdout",
     "output_type": "stream",
     "text": [
      "the strings are not anagrams\n"
     ]
    }
   ],
   "source": [
    "def check(a,b):\n",
    "    if sorted(a)==sorted(b):\n",
    "        print(\"the strings are anagrams\")\n",
    "    else:\n",
    "        print(\"the strings are not anagrams\")\n",
    "    \n",
    "a = 'bads'\n",
    "b = 'dads'\n",
    "check(a,b)"
   ]
  },
  {
   "cell_type": "code",
   "execution_count": 50,
   "id": "5017e1d5",
   "metadata": {},
   "outputs": [
    {
     "name": "stdout",
     "output_type": "stream",
     "text": [
      "the strings are anagrams\n"
     ]
    }
   ],
   "source": [
    "a = 'silent'\n",
    "b = 'listen'\n",
    "if sorted(a)==sorted(b):\n",
    "    print(\"the strings are anagrams\")\n",
    "else:\n",
    "    print(\"the strings are not anagrams\")"
   ]
  },
  {
   "cell_type": "markdown",
   "id": "23e70364",
   "metadata": {},
   "source": [
    "6.Write a Python program to remove all the vowels from a string."
   ]
  },
  {
   "cell_type": "code",
   "execution_count": 22,
   "id": "84103586",
   "metadata": {},
   "outputs": [
    {
     "name": "stdout",
     "output_type": "stream",
     "text": [
      "D t   s c n c   n d   r t f c l   n t l l g n c "
     ]
    }
   ],
   "source": [
    "a = \"Data science and Artifical Intelligence\"\n",
    "for i in a:\n",
    "    if i not in 'AEIOUaeiou':\n",
    "        print(i,end=\" \")"
   ]
  },
  {
   "cell_type": "markdown",
   "id": "3538014a",
   "metadata": {},
   "source": [
    "7.Write a Python program to find the longest word in a string."
   ]
  },
  {
   "cell_type": "code",
   "execution_count": 37,
   "id": "21793939",
   "metadata": {},
   "outputs": [
    {
     "name": "stdout",
     "output_type": "stream",
     "text": [
      "enter the longest word:belive yourself its okay not to be okay\n",
      "Longest word is : yourself\n",
      "position of string:7\n"
     ]
    }
   ],
   "source": [
    "string = input(\"enter the longest word:\")\n",
    "a = string.split()\n",
    "longest_word = max(a,key=len) # max = maximum word,len will check the length of string\n",
    "pos =string.index(longest_word)\n",
    "print(f'Longest word is : {longest_word}')\n",
    "print(f'position of string:{pos}')"
   ]
  },
  {
   "cell_type": "markdown",
   "id": "0ceb1460",
   "metadata": {},
   "source": [
    "8.Write a Python program to capitalize the first letter of each word in a string."
   ]
  },
  {
   "cell_type": "code",
   "execution_count": 24,
   "id": "e8c85a05",
   "metadata": {},
   "outputs": [
    {
     "name": "stdout",
     "output_type": "stream",
     "text": [
      "enter the stringhello! gud morning\n",
      "Hello! gud morning\n"
     ]
    }
   ],
   "source": [
    "a = input(\"enter the string\")\n",
    "print(a.capitalize()) # capitalize the first letter"
   ]
  },
  {
   "cell_type": "markdown",
   "id": "3259a3e0",
   "metadata": {},
   "source": [
    "9.Write a Python program to find the frequency of each character in a string."
   ]
  },
  {
   "cell_type": "code",
   "execution_count": 51,
   "id": "9260ba9c",
   "metadata": {},
   "outputs": [
    {
     "name": "stdout",
     "output_type": "stream",
     "text": [
      "{'P': 1, 'y': 1, 't': 1, 'h': 1, 'o': 2, 'n': 2, ' ': 1, 'p': 1, 'r': 2, 'g': 2, 'a': 1, 'm': 2, 'i': 1}\n"
     ]
    }
   ],
   "source": [
    "character = \"Python programming\"\n",
    "empty_dict ={}\n",
    "for i in character:\n",
    "    if i in empty_dict.keys():\n",
    "        empty_dict[i]=empty_dict[i]+1\n",
    "    else:\n",
    "        empty_dict[i]=1\n",
    "print(empty_dict) \n",
    "                \n"
   ]
  },
  {
   "cell_type": "code",
   "execution_count": 49,
   "id": "a31ac7ee",
   "metadata": {},
   "outputs": [
    {
     "name": "stdout",
     "output_type": "stream",
     "text": [
      "{'P': 1, 'y': 1, 't': 1, 'h': 1, 'o': 2, 'n': 2, ' ': 1, 'p': 1, 'r': 2, 'g': 2, 'a': 1, 'm': 2, 'i': 1}\n"
     ]
    }
   ],
   "source": [
    "def emp_fun(a):\n",
    "    empty_dict ={}\n",
    "    for i in a:\n",
    "        if i in empty_dict.keys():\n",
    "            empty_dict[i]=empty_dict[i]+1\n",
    "        else:\n",
    "            empty_dict[i]=1\n",
    "    return empty_dict \n",
    "                \n",
    "character = \"Python programming\"\n",
    "result = emp_fun(character)\n",
    "print(result)"
   ]
  },
  {
   "cell_type": "markdown",
   "id": "4dc8b0a4",
   "metadata": {},
   "source": [
    "10.Write a Python program to check if a string is a valid email address."
   ]
  },
  {
   "cell_type": "code",
   "execution_count": 41,
   "id": "832de782",
   "metadata": {
    "scrolled": true
   },
   "outputs": [
    {
     "name": "stdout",
     "output_type": "stream",
     "text": [
      "Requirement already satisfied: validate_email in c:\\users\\91893\\anaconda3\\lib\\site-packages (1.3)\n"
     ]
    }
   ],
   "source": [
    "! pip install validate_email"
   ]
  },
  {
   "cell_type": "code",
   "execution_count": 44,
   "id": "aeb06306",
   "metadata": {},
   "outputs": [
    {
     "name": "stdout",
     "output_type": "stream",
     "text": [
      "enter the email_id:pythoncode@gmail.com\n",
      "email_id  is valid\n"
     ]
    }
   ],
   "source": [
    "from validate_email import validate_email # import the method\n",
    "email_id = input(\"enter the email_id:\")\n",
    "is_valid = validate_email(email_id)\n",
    "if is_valid:\n",
    "    print(\"email_id  is valid\")\n",
    "else:\n",
    "    print(\"email_id  is not valid\")"
   ]
  }
 ],
 "metadata": {
  "kernelspec": {
   "display_name": "Python 3 (ipykernel)",
   "language": "python",
   "name": "python3"
  },
  "language_info": {
   "codemirror_mode": {
    "name": "ipython",
    "version": 3
   },
   "file_extension": ".py",
   "mimetype": "text/x-python",
   "name": "python",
   "nbconvert_exporter": "python",
   "pygments_lexer": "ipython3",
   "version": "3.10.9"
  }
 },
 "nbformat": 4,
 "nbformat_minor": 5
}
