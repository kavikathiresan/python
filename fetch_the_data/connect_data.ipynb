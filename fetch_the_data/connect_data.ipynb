{
 "cells": [
  {
   "cell_type": "code",
   "execution_count": null,
   "id": "9c81328a",
   "metadata": {},
   "outputs": [],
   "source": [
    "# as a developer I want to send the data to some other employee class"
   ]
  },
  {
   "cell_type": "code",
   "execution_count": 2,
   "id": "4fb60e8a",
   "metadata": {},
   "outputs": [],
   "source": [
    "from data_mul import connection"
   ]
  },
  {
   "cell_type": "code",
   "execution_count": 3,
   "id": "67b6ba4f",
   "metadata": {},
   "outputs": [
    {
     "data": {
      "text/plain": [
       "30"
      ]
     },
     "execution_count": 3,
     "metadata": {},
     "output_type": "execute_result"
    }
   ],
   "source": [
    "obj=connection()\n",
    "obj.multiplication(5,6)"
   ]
  },
  {
   "cell_type": "code",
   "execution_count": 4,
   "id": "acc8da1b",
   "metadata": {},
   "outputs": [
    {
     "data": {
      "text/plain": [
       "54"
      ]
     },
     "execution_count": 4,
     "metadata": {},
     "output_type": "execute_result"
    }
   ],
   "source": [
    "obj=connection()\n",
    "obj.multiplication(6,9)"
   ]
  },
  {
   "cell_type": "code",
   "execution_count": 5,
   "id": "35d325ed",
   "metadata": {},
   "outputs": [
    {
     "name": "stdout",
     "output_type": "stream",
     "text": [
      "161\n"
     ]
    }
   ],
   "source": [
    "obj1=connection()\n",
    "sol=obj1.add(10,151)\n",
    "print(sol)"
   ]
  },
  {
   "cell_type": "code",
   "execution_count": 6,
   "id": "f38d36c6",
   "metadata": {},
   "outputs": [
    {
     "name": "stdout",
     "output_type": "stream",
     "text": [
      "25\n"
     ]
    }
   ],
   "source": [
    "obj1=connection()\n",
    "sol=obj1.add(10,15)\n",
    "print(sol)"
   ]
  },
  {
   "cell_type": "code",
   "execution_count": null,
   "id": "76a1f790",
   "metadata": {},
   "outputs": [],
   "source": []
  }
 ],
 "metadata": {
  "kernelspec": {
   "display_name": "Python 3 (ipykernel)",
   "language": "python",
   "name": "python3"
  },
  "language_info": {
   "codemirror_mode": {
    "name": "ipython",
    "version": 3
   },
   "file_extension": ".py",
   "mimetype": "text/x-python",
   "name": "python",
   "nbconvert_exporter": "python",
   "pygments_lexer": "ipython3",
   "version": "3.10.9"
  }
 },
 "nbformat": 4,
 "nbformat_minor": 5
}
