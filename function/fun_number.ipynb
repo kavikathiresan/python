{
 "cells": [
  {
   "cell_type": "markdown",
   "id": "df3ebfa2",
   "metadata": {},
   "source": [
    "# def function"
   ]
  },
  {
   "cell_type": "code",
   "execution_count": null,
   "id": "5e507d56",
   "metadata": {},
   "outputs": [],
   "source": [
    "# add with def function\n",
    "def add(a,b):\n",
    "    print(a+ b)\n",
    "add(3,5)    "
   ]
  },
  {
   "cell_type": "code",
   "execution_count": null,
   "id": "61bc85f8",
   "metadata": {},
   "outputs": [],
   "source": [
    "add(10,14)"
   ]
  },
  {
   "cell_type": "code",
   "execution_count": null,
   "id": "77c6d4e8",
   "metadata": {},
   "outputs": [],
   "source": [
    "c= \"hi \"\n",
    "d =\"welcome\"\n",
    "add(c , d)"
   ]
  },
  {
   "cell_type": "code",
   "execution_count": null,
   "id": "c7ad91c9",
   "metadata": {},
   "outputs": [],
   "source": [
    "# diff variable can accept in function\n",
    "c=13\n",
    "d =10\n",
    "add(c,d)"
   ]
  },
  {
   "cell_type": "code",
   "execution_count": null,
   "id": "91e297cd",
   "metadata": {},
   "outputs": [],
   "source": [
    "def my_function(fname):\n",
    "    print(fname+ ' refr')\n",
    "my_function(\"email\")    \n",
    "    "
   ]
  },
  {
   "cell_type": "code",
   "execution_count": null,
   "id": "bc153520",
   "metadata": {},
   "outputs": [],
   "source": [
    "my_function(\"linus\")"
   ]
  },
  {
   "cell_type": "code",
   "execution_count": null,
   "id": "cd9ad349",
   "metadata": {},
   "outputs": [],
   "source": [
    "my_function('Tobias')"
   ]
  },
  {
   "cell_type": "code",
   "execution_count": null,
   "id": "a65ec777",
   "metadata": {},
   "outputs": [],
   "source": [
    "def my_function(fname, lname):\n",
    "    print(fname, \" \",lname)\n",
    "my_function('kavi','kathiresan')    "
   ]
  },
  {
   "cell_type": "markdown",
   "id": "e694e091",
   "metadata": {},
   "source": [
    "# perfect no in function"
   ]
  },
  {
   "cell_type": "code",
   "execution_count": null,
   "id": "6643c70b",
   "metadata": {},
   "outputs": [],
   "source": [
    "number = 6\n",
    "count = 0\n",
    "for i in range(1,number):\n",
    "    if number% i==0:\n",
    "        count=count+i\n",
    "if number==count:\n",
    "    print(\"its perfect no\",number)\n",
    "else:\n",
    "    print('its not a perfect no',number)"
   ]
  },
  {
   "cell_type": "code",
   "execution_count": null,
   "id": "adfde51b",
   "metadata": {},
   "outputs": [],
   "source": [
    "def perfect_no(number):\n",
    "    count = 0\n",
    "    for i in range(1,number):\n",
    "        if number% i==0:\n",
    "            count=count+i\n",
    "    if number==count:\n",
    "        print(\"its perfect no\",number)\n",
    "    else:\n",
    "        print('its not a perfect no',number)\n",
    "\n",
    "    \n",
    "perfect_no(28)   \n",
    "    \n"
   ]
  },
  {
   "cell_type": "markdown",
   "id": "adf90b7b",
   "metadata": {},
   "source": [
    "# sqaure root in def"
   ]
  },
  {
   "cell_type": "code",
   "execution_count": null,
   "id": "7011e21c",
   "metadata": {
    "scrolled": true
   },
   "outputs": [],
   "source": [
    "def square_no(num,num1):\n",
    "    print(num * num1)\n",
    "square_no(4,5)    "
   ]
  },
  {
   "cell_type": "markdown",
   "id": "eb3b7fe2",
   "metadata": {},
   "source": [
    "# even or odd with function"
   ]
  },
  {
   "cell_type": "code",
   "execution_count": null,
   "id": "582071ae",
   "metadata": {},
   "outputs": [],
   "source": [
    "def even_or_odd(n,m):\n",
    "    for i in range(n,m):\n",
    "        if i%2==0:\n",
    "            print(\"even\",i)\n",
    "        else:\n",
    "            print(\"odd\",i)\n",
    "even_or_odd(1,11)            "
   ]
  },
  {
   "cell_type": "code",
   "execution_count": null,
   "id": "2885b018",
   "metadata": {},
   "outputs": [],
   "source": [
    "even_or_odd(100,110)"
   ]
  },
  {
   "cell_type": "markdown",
   "id": "62810550",
   "metadata": {},
   "source": [
    "# palindrome with fun"
   ]
  },
  {
   "cell_type": "code",
   "execution_count": null,
   "id": "1ee61390",
   "metadata": {},
   "outputs": [],
   "source": [
    "number = 121\n",
    "temp = number\n",
    "count = 0\n",
    "while number > 0:\n",
    "    remainder = number % 10\n",
    "    count = count*10 + remainder\n",
    "    number = number//10\n",
    "if temp == count:\n",
    "    print(\"its a palindrome no\")\n",
    "else:\n",
    "    print(\"its not a palindrome no\")"
   ]
  },
  {
   "cell_type": "code",
   "execution_count": null,
   "id": "731c652e",
   "metadata": {},
   "outputs": [],
   "source": [
    "def palindrome(number):\n",
    "    temp = number\n",
    "    count = 0\n",
    "    while number > 0:\n",
    "        remainder = number % 10\n",
    "        count = count*10 + remainder\n",
    "        number = number//10\n",
    "    if temp == count:\n",
    "        print(\"its a palindrome no\")\n",
    "    else:\n",
    "        print(\"its not a palindrome no\")\n",
    "    \n",
    "    \n",
    "\n",
    "palindrome(123)\n",
    "\n",
    "    "
   ]
  },
  {
   "cell_type": "code",
   "execution_count": null,
   "id": "f50722e2",
   "metadata": {},
   "outputs": [],
   "source": [
    "palindrome(121)"
   ]
  },
  {
   "cell_type": "markdown",
   "id": "d4796cbf",
   "metadata": {},
   "source": [
    "# prime no with function"
   ]
  },
  {
   "cell_type": "code",
   "execution_count": null,
   "id": "5fec9d19",
   "metadata": {},
   "outputs": [],
   "source": [
    "num = 11\n",
    "if num>1:\n",
    "    for i in range(2,int(num/2)+1):\n",
    "        if num%i==0:\n",
    "            print(\"its a not  prime no\")\n",
    "    else:\n",
    "        print(\"its a prime no\")"
   ]
  },
  {
   "cell_type": "code",
   "execution_count": null,
   "id": "ec8bb830",
   "metadata": {},
   "outputs": [],
   "source": [
    "def prime_no(num):\n",
    "    if num>1:\n",
    "        for i in range(2,int(num/2)+1):\n",
    "            if num%i == 0:\n",
    "                print(num,\"its not a prime no\")\n",
    "                break\n",
    "        else:\n",
    "            print(\"its a prime no\")   \n",
    "    \n",
    "prime_no(12)    "
   ]
  },
  {
   "cell_type": "markdown",
   "id": "0f5581fd",
   "metadata": {},
   "source": [
    "# fibonacci series"
   ]
  },
  {
   "cell_type": "code",
   "execution_count": null,
   "id": "cbb5fdf9",
   "metadata": {},
   "outputs": [],
   "source": [
    "def fibo_series(num):\n",
    "    n1,n2 = 0,1\n",
    "    print(\"fibonacci series\",n1,n2,end=\" \")\n",
    "    for i in range(2,num):\n",
    "        n3 =n1+n2\n",
    "        n1 = n2\n",
    "        n2 = n3\n",
    "        print(n3,end= \" \")\n",
    "    print()\n",
    "\n",
    "fibo_series(10)    "
   ]
  },
  {
   "cell_type": "markdown",
   "id": "1828d737",
   "metadata": {},
   "source": [
    "# Armstrong no"
   ]
  },
  {
   "cell_type": "code",
   "execution_count": 16,
   "id": "3fb2da09",
   "metadata": {},
   "outputs": [
    {
     "name": "stdout",
     "output_type": "stream",
     "text": [
      "153 its a armstrong no\n"
     ]
    }
   ],
   "source": [
    "def arms_no(num):\n",
    "    order = len(str(num))\n",
    "    sum = 0\n",
    "    temp = num\n",
    "    while num >0:\n",
    "        digit = num% 10\n",
    "        sum += digit ** order\n",
    "        num = num // 10\n",
    "    if temp == sum:\n",
    "        print(temp,\"its a armstrong no\")\n",
    "    else:\n",
    "        print(temp,\"its not a armstrong no\")\n",
    "        \n",
    "        \n",
    "arms_no(153)    "
   ]
  },
  {
   "cell_type": "code",
   "execution_count": 17,
   "id": "669f602e",
   "metadata": {},
   "outputs": [
    {
     "name": "stdout",
     "output_type": "stream",
     "text": [
      "1531 its not a armstrong no\n"
     ]
    }
   ],
   "source": [
    "arms_no(1531)"
   ]
  },
  {
   "cell_type": "code",
   "execution_count": null,
   "id": "d3e9d8f5",
   "metadata": {},
   "outputs": [],
   "source": []
  }
 ],
 "metadata": {
  "kernelspec": {
   "display_name": "Python 3 (ipykernel)",
   "language": "python",
   "name": "python3"
  },
  "language_info": {
   "codemirror_mode": {
    "name": "ipython",
    "version": 3
   },
   "file_extension": ".py",
   "mimetype": "text/x-python",
   "name": "python",
   "nbconvert_exporter": "python",
   "pygments_lexer": "ipython3",
   "version": "3.10.9"
  }
 },
 "nbformat": 4,
 "nbformat_minor": 5
}
