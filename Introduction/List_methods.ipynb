{
 "cells": [
  {
   "cell_type": "markdown",
   "id": "19295b20",
   "metadata": {},
   "source": [
    "# append"
   ]
  },
  {
   "cell_type": "code",
   "execution_count": 1,
   "id": "0d4df055",
   "metadata": {},
   "outputs": [
    {
     "data": {
      "text/plain": [
       "['Dollar', 'Euro', 'Pound', 'Yen']"
      ]
     },
     "execution_count": 1,
     "metadata": {},
     "output_type": "execute_result"
    }
   ],
   "source": [
    "currencies = ['Dollar', 'Euro', 'Pound']\n",
    "currencies.append('Yen')\n",
    "currencies"
   ]
  },
  {
   "cell_type": "code",
   "execution_count": 2,
   "id": "7d102f65",
   "metadata": {},
   "outputs": [
    {
     "data": {
      "text/plain": [
       "['cat', 'dog', 'rabbit', 'guinea pig']"
      ]
     },
     "execution_count": 2,
     "metadata": {},
     "output_type": "execute_result"
    }
   ],
   "source": [
    "animals = ['cat', 'dog', 'rabbit']\n",
    "animals.append(\"guinea pig\")\n",
    "animals"
   ]
  },
  {
   "cell_type": "code",
   "execution_count": 3,
   "id": "196ebf38",
   "metadata": {},
   "outputs": [
    {
     "data": {
      "text/plain": [
       "[10, 20.2, 'Data science', 30]"
      ]
     },
     "execution_count": 3,
     "metadata": {},
     "output_type": "execute_result"
    }
   ],
   "source": [
    "a=[10,20.2,'Data science']\n",
    "a.append(30)\n",
    "a"
   ]
  },
  {
   "cell_type": "code",
   "execution_count": 6,
   "id": "3fc0ec25",
   "metadata": {},
   "outputs": [
    {
     "data": {
      "text/plain": [
       "[200, 300, 400, 400.6]"
      ]
     },
     "execution_count": 6,
     "metadata": {},
     "output_type": "execute_result"
    }
   ],
   "source": [
    "score=[200,300,400]\n",
    "score.append(400.6)\n",
    "score"
   ]
  },
  {
   "cell_type": "code",
   "execution_count": 8,
   "id": "b95fc69f",
   "metadata": {},
   "outputs": [
    {
     "data": {
      "text/plain": [
       "['January', 'February', 'March', 'April']"
      ]
     },
     "execution_count": 8,
     "metadata": {},
     "output_type": "execute_result"
    }
   ],
   "source": [
    "months = ['January', 'February', 'March']\n",
    "months.append('April')\n",
    "months"
   ]
  },
  {
   "cell_type": "code",
   "execution_count": 11,
   "id": "c6e22e46",
   "metadata": {},
   "outputs": [
    {
     "data": {
      "text/plain": [
       "['Mumbai', 'London', 'Paris', 'New York', 'Delhi']"
      ]
     },
     "execution_count": 11,
     "metadata": {},
     "output_type": "execute_result"
    }
   ],
   "source": [
    "city = 'Delhi'\n",
    "cities = ['Mumbai', 'London', 'Paris', 'New York']\n",
    "cities.append(city)\n",
    "cities"
   ]
  },
  {
   "cell_type": "code",
   "execution_count": 12,
   "id": "7a85c127",
   "metadata": {},
   "outputs": [
    {
     "data": {
      "text/plain": [
       "['Mumbai', 'London', 'Paris', 'New York', ['Delhi', 'Chennai']]"
      ]
     },
     "execution_count": 12,
     "metadata": {},
     "output_type": "execute_result"
    }
   ],
   "source": [
    "otherCities = ['Delhi','Chennai']\n",
    "cities = ['Mumbai', 'London', 'Paris', 'New York']\n",
    "cities.append(otherCities)\n",
    "cities"
   ]
  },
  {
   "cell_type": "markdown",
   "id": "21500689",
   "metadata": {},
   "source": [
    "# Extend"
   ]
  },
  {
   "cell_type": "code",
   "execution_count": 7,
   "id": "e260846a",
   "metadata": {},
   "outputs": [
    {
     "data": {
      "text/plain": [
       "['cat', 'dog', 'rabbit', 'tiger', 'fox']"
      ]
     },
     "execution_count": 7,
     "metadata": {},
     "output_type": "execute_result"
    }
   ],
   "source": [
    "animals = ['cat', 'dog', 'rabbit']\n",
    "wild_animals = ['tiger', 'fox']\n",
    "animals.extend(wild_animals)\n",
    "animals"
   ]
  },
  {
   "cell_type": "code",
   "execution_count": 9,
   "id": "e9f9faa7",
   "metadata": {},
   "outputs": [
    {
     "data": {
      "text/plain": [
       "[1, 2, 3, 4, 5, 'kavi']"
      ]
     },
     "execution_count": 9,
     "metadata": {},
     "output_type": "execute_result"
    }
   ],
   "source": [
    "x = [1, 2, 3]\n",
    "x.extend([4,5,'kavi'])\n",
    "x"
   ]
  },
  {
   "cell_type": "code",
   "execution_count": 10,
   "id": "883327d7",
   "metadata": {},
   "outputs": [
    {
     "data": {
      "text/plain": [
       "[9, 11, 7, 5, 4, 3, 9, 10]"
      ]
     },
     "execution_count": 10,
     "metadata": {},
     "output_type": "execute_result"
    }
   ],
   "source": [
    "gradeScience = [4,3,9,10] \n",
    "gradeArt = [9,11,7,5]\n",
    "gradeArt.extend(gradeScience)\n",
    "gradeArt"
   ]
  },
  {
   "cell_type": "code",
   "execution_count": 13,
   "id": "8b7f20ee",
   "metadata": {},
   "outputs": [
    {
     "data": {
      "text/plain": [
       "['Mumbai', 'London', 'Paris', 'New York', 'Delhi', 'Chicago']"
      ]
     },
     "execution_count": 13,
     "metadata": {},
     "output_type": "execute_result"
    }
   ],
   "source": [
    "cities = ['Mumbai', 'London', 'Paris', 'New York']\n",
    "newCities = ['Delhi', 'Chicago']\n",
    "cities.extend(newCities)\n",
    "cities"
   ]
  },
  {
   "cell_type": "code",
   "execution_count": 16,
   "id": "e4c82783",
   "metadata": {},
   "outputs": [
    {
     "data": {
      "text/plain": [
       "['Mumbai', 'London', 'Paris', 'New York', 'Delhi', 'Chicago']"
      ]
     },
     "execution_count": 16,
     "metadata": {},
     "output_type": "execute_result"
    }
   ],
   "source": [
    "cities = ['Mumbai', 'London', 'Paris', 'New York']\n",
    "cities.extend(['Delhi','Chicago'])\n",
    "cities"
   ]
  },
  {
   "cell_type": "code",
   "execution_count": 1,
   "id": "b7e9540a",
   "metadata": {},
   "outputs": [
    {
     "data": {
      "text/plain": [
       "[4, 3, 9, 10, 11, 13]"
      ]
     },
     "execution_count": 1,
     "metadata": {},
     "output_type": "execute_result"
    }
   ],
   "source": [
    "gradeScience = [4,3,9,10] \n",
    "gradeScience.extend([11,13])\n",
    "gradeScience"
   ]
  },
  {
   "cell_type": "code",
   "execution_count": 18,
   "id": "c70c714e",
   "metadata": {},
   "outputs": [
    {
     "data": {
      "text/plain": [
       "['Washington DC', 'Banglore', ['Paris', 'New York']]"
      ]
     },
     "execution_count": 18,
     "metadata": {},
     "output_type": "execute_result"
    }
   ],
   "source": [
    "bigcities = ['Washington DC', 'Banglore']\n",
    "favcities = ['Paris', 'New York']\n",
    "bigcities.extend([favcities])\n",
    "bigcities"
   ]
  },
  {
   "cell_type": "markdown",
   "id": "fc74dca2",
   "metadata": {},
   "source": [
    "# Insert"
   ]
  },
  {
   "cell_type": "code",
   "execution_count": 29,
   "id": "2f04074d",
   "metadata": {
    "scrolled": true
   },
   "outputs": [
    {
     "data": {
      "text/plain": [
       "['Mumbai',\n",
       " {'Chennai', 'Delhi'},\n",
       " 'London',\n",
       " ('Hyderabad', 'Bangalore'),\n",
       " 'New York']"
      ]
     },
     "execution_count": 29,
     "metadata": {},
     "output_type": "execute_result"
    }
   ],
   "source": [
    "mycities = {'Delhi','Chennai'}\n",
    "favcities = ('Hyderabad','Bangalore')\n",
    "worldcities = ['Mumbai', 'London', 'New York']\n",
    "worldcities.insert(1,mycities)\n",
    "worldcities.insert(3,favcities)\n",
    "worldcities"
   ]
  },
  {
   "cell_type": "code",
   "execution_count": 21,
   "id": "a268a0c5",
   "metadata": {},
   "outputs": [
    {
     "data": {
      "text/plain": [
       "['New Delhi', 'Mumbai', 'London', 'Paris', 'New York']"
      ]
     },
     "execution_count": 21,
     "metadata": {},
     "output_type": "execute_result"
    }
   ],
   "source": [
    "cities = ['Mumbai', 'London', 'Paris', 'New York']\n",
    "cities.insert(0,'New Delhi')\n",
    "cities"
   ]
  },
  {
   "cell_type": "code",
   "execution_count": 22,
   "id": "ee09a98d",
   "metadata": {},
   "outputs": [
    {
     "data": {
      "text/plain": [
       "['Mumbai', 'London', 'Chicago', 'Paris', 'New York']"
      ]
     },
     "execution_count": 22,
     "metadata": {},
     "output_type": "execute_result"
    }
   ],
   "source": [
    "cities = ['Mumbai', 'London', 'Paris', 'New York']\n",
    "cities.insert(2,'Chicago')\n",
    "cities"
   ]
  },
  {
   "cell_type": "code",
   "execution_count": 30,
   "id": "2c33d763",
   "metadata": {},
   "outputs": [
    {
     "data": {
      "text/plain": [
       "['kevin', 'john', 'petter', 'enow', 'tony', 'luke', 'andrew']"
      ]
     },
     "execution_count": 30,
     "metadata": {},
     "output_type": "execute_result"
    }
   ],
   "source": [
    "names = ['kevin','john','petter','tony','luke','andrew']\n",
    "new_name = 'enow'\n",
    "names.insert(3,new_name)\n",
    "names"
   ]
  },
  {
   "cell_type": "code",
   "execution_count": 34,
   "id": "3a415f15",
   "metadata": {},
   "outputs": [
    {
     "data": {
      "text/plain": [
       "['a', 'e', 'i', 'o', 'u']"
      ]
     },
     "execution_count": 34,
     "metadata": {},
     "output_type": "execute_result"
    }
   ],
   "source": [
    "vowel = ['a', 'e', 'i', 'u']\n",
    "vowel.insert(3,\"o\")\n",
    "vowel"
   ]
  },
  {
   "cell_type": "code",
   "execution_count": 35,
   "id": "5c2a1a3f",
   "metadata": {},
   "outputs": [
    {
     "data": {
      "text/plain": [
       "[2, 3, 5, 7, 11]"
      ]
     },
     "execution_count": 35,
     "metadata": {},
     "output_type": "execute_result"
    }
   ],
   "source": [
    "prime_numbers = [2, 3, 5, 7]\n",
    "prime_numbers.insert(4,11)\n",
    "prime_numbers"
   ]
  },
  {
   "cell_type": "markdown",
   "id": "74cd2015",
   "metadata": {},
   "source": [
    "# clear"
   ]
  },
  {
   "cell_type": "code",
   "execution_count": 38,
   "id": "4b77f16a",
   "metadata": {},
   "outputs": [
    {
     "data": {
      "text/plain": [
       "[]"
      ]
     },
     "execution_count": 38,
     "metadata": {},
     "output_type": "execute_result"
    }
   ],
   "source": [
    "cities = ['Mumbai', 'London', 'Paris', 'New York']\n",
    "cities.clear()\n",
    "cities"
   ]
  },
  {
   "cell_type": "code",
   "execution_count": 45,
   "id": "81f7e17b",
   "metadata": {},
   "outputs": [
    {
     "data": {
      "text/plain": [
       "[]"
      ]
     },
     "execution_count": 45,
     "metadata": {},
     "output_type": "execute_result"
    }
   ],
   "source": [
    "randomList = ['Mumbai', 1, (1, 2, 3)]\n",
    "randomList.clear()\n",
    "randomList"
   ]
  },
  {
   "cell_type": "code",
   "execution_count": 39,
   "id": "1f194c47",
   "metadata": {},
   "outputs": [
    {
     "data": {
      "text/plain": [
       "[]"
      ]
     },
     "execution_count": 39,
     "metadata": {},
     "output_type": "execute_result"
    }
   ],
   "source": [
    "prime_numbers = [2, 3, 5, 7, 9, 11]\n",
    "prime_numbers.clear()\n",
    "prime_numbers"
   ]
  },
  {
   "cell_type": "markdown",
   "id": "35cab748",
   "metadata": {},
   "source": [
    "# delete"
   ]
  },
  {
   "cell_type": "code",
   "execution_count": 42,
   "id": "759fda92",
   "metadata": {},
   "outputs": [
    {
     "data": {
      "text/plain": [
       "[]"
      ]
     },
     "execution_count": 42,
     "metadata": {},
     "output_type": "execute_result"
    }
   ],
   "source": [
    "list = [{1, 2}, ('a'), ['1.1', '2.2']]\n",
    "del list[:]\n",
    "list"
   ]
  },
  {
   "cell_type": "code",
   "execution_count": 43,
   "id": "f0cf6b44",
   "metadata": {},
   "outputs": [
    {
     "data": {
      "text/plain": [
       "[{1, 2}, 'a']"
      ]
     },
     "execution_count": 43,
     "metadata": {},
     "output_type": "execute_result"
    }
   ],
   "source": [
    "list = [{1, 2}, ('a'), ['1.1', '2.2']]\n",
    "del list[2]\n",
    "list"
   ]
  },
  {
   "cell_type": "markdown",
   "id": "c2e645cc",
   "metadata": {},
   "source": [
    "# count    "
   ]
  },
  {
   "cell_type": "code",
   "execution_count": 48,
   "id": "50f1010f",
   "metadata": {},
   "outputs": [
    {
     "data": {
      "text/plain": [
       "2"
      ]
     },
     "execution_count": 48,
     "metadata": {},
     "output_type": "execute_result"
    }
   ],
   "source": [
    "city = 'Mumbai'\n",
    "cities = ['Mumbai', 'London', 'Paris', 'New York','Mumbai']\n",
    "num = cities.count(city)\n",
    "num"
   ]
  },
  {
   "cell_type": "code",
   "execution_count": 2,
   "id": "4fe1868c",
   "metadata": {},
   "outputs": [
    {
     "data": {
      "text/plain": [
       "2"
      ]
     },
     "execution_count": 2,
     "metadata": {},
     "output_type": "execute_result"
    }
   ],
   "source": [
    "points = [1, 4, 2, 9, 7, 8, 9, 3, 1]\n",
    "points.count(9)\n"
   ]
  },
  {
   "cell_type": "code",
   "execution_count": 3,
   "id": "d48232dd",
   "metadata": {},
   "outputs": [
    {
     "data": {
      "text/plain": [
       "2"
      ]
     },
     "execution_count": 3,
     "metadata": {},
     "output_type": "execute_result"
    }
   ],
   "source": [
    "list1 = [ ('Cat', 'Bat'), ('Sat', 'Cat'), ('Cat', 'Bat'),\n",
    "          ('Cat', 'Bat', 'Sat'), [1, 2], [1, 2, 3], [1, 2] ]\n",
    "list1.count([1, 2])"
   ]
  },
  {
   "cell_type": "code",
   "execution_count": 5,
   "id": "b7411a3a",
   "metadata": {},
   "outputs": [
    {
     "data": {
      "text/plain": [
       "3"
      ]
     },
     "execution_count": 5,
     "metadata": {},
     "output_type": "execute_result"
    }
   ],
   "source": [
    "lst = ['Cat', 'Bat', 'Sat', 'Cat', 'Mat', 'Cat', 'Sat']\n",
    "lst.count('Cat')"
   ]
  },
  {
   "cell_type": "markdown",
   "id": "478b731d",
   "metadata": {},
   "source": [
    "# index"
   ]
  },
  {
   "cell_type": "code",
   "execution_count": 8,
   "id": "f63ac4d3",
   "metadata": {},
   "outputs": [
    {
     "data": {
      "text/plain": [
       "1"
      ]
     },
     "execution_count": 8,
     "metadata": {},
     "output_type": "execute_result"
    }
   ],
   "source": [
    "animals = ['cat', 'dog', 'rabbit', 'horse']\n",
    "animals.index('dog')"
   ]
  },
  {
   "cell_type": "code",
   "execution_count": 9,
   "id": "22141839",
   "metadata": {},
   "outputs": [
    {
     "data": {
      "text/plain": [
       "1"
      ]
     },
     "execution_count": 9,
     "metadata": {},
     "output_type": "execute_result"
    }
   ],
   "source": [
    "vowels = ['a', 'e', 'i', 'o', 'i', 'u']\n",
    "vowels.index('e')"
   ]
  },
  {
   "cell_type": "markdown",
   "id": "160483f4",
   "metadata": {},
   "source": [
    "# pop"
   ]
  },
  {
   "cell_type": "code",
   "execution_count": 10,
   "id": "00c6d92e",
   "metadata": {},
   "outputs": [
    {
     "data": {
      "text/plain": [
       "'New York'"
      ]
     },
     "execution_count": 10,
     "metadata": {},
     "output_type": "execute_result"
    }
   ],
   "source": [
    "cities = ['Mumbai', 'London', 'Paris', 'New York']\n",
    "cities.pop()"
   ]
  },
  {
   "cell_type": "code",
   "execution_count": 11,
   "id": "55273bd4",
   "metadata": {},
   "outputs": [
    {
     "data": {
      "text/plain": [
       "['Mumbai', 'London', 'Paris']"
      ]
     },
     "execution_count": 11,
     "metadata": {},
     "output_type": "execute_result"
    }
   ],
   "source": [
    "cities"
   ]
  },
  {
   "cell_type": "code",
   "execution_count": 12,
   "id": "3ba6c058",
   "metadata": {},
   "outputs": [
    {
     "data": {
      "text/plain": [
       "'London'"
      ]
     },
     "execution_count": 12,
     "metadata": {},
     "output_type": "execute_result"
    }
   ],
   "source": [
    "cities = ['Mumbai', 'London', 'Paris', 'New York']\n",
    "cities.pop(1)"
   ]
  },
  {
   "cell_type": "markdown",
   "id": "05cc0bc3",
   "metadata": {},
   "source": [
    "# COPY - return shadow copy of the lists"
   ]
  },
  {
   "cell_type": "code",
   "execution_count": 2,
   "id": "2d597262",
   "metadata": {},
   "outputs": [
    {
     "data": {
      "text/plain": [
       "['apple', 'banana', 'cherry', 'orange']"
      ]
     },
     "execution_count": 2,
     "metadata": {},
     "output_type": "execute_result"
    }
   ],
   "source": [
    "fruits = ['apple', 'banana', 'cherry', 'orange']\n",
    "x=fruits.copy()\n",
    "x"
   ]
  },
  {
   "cell_type": "code",
   "execution_count": 3,
   "id": "4662c69f",
   "metadata": {},
   "outputs": [
    {
     "data": {
      "text/plain": [
       "[2, 3, 5]"
      ]
     },
     "execution_count": 3,
     "metadata": {},
     "output_type": "execute_result"
    }
   ],
   "source": [
    "prime_numbers = [2, 3, 5]\n",
    "num = prime_numbers.copy()\n",
    "num"
   ]
  },
  {
   "cell_type": "code",
   "execution_count": 4,
   "id": "7e7c19a3",
   "metadata": {},
   "outputs": [
    {
     "data": {
      "text/plain": [
       "['cat', 0, 6.7]"
      ]
     },
     "execution_count": 4,
     "metadata": {},
     "output_type": "execute_result"
    }
   ],
   "source": [
    "my_list = ['cat', 0, 6.7]\n",
    "new_list = my_list.copy()\n",
    "new_list"
   ]
  },
  {
   "cell_type": "code",
   "execution_count": 7,
   "id": "08b19f89",
   "metadata": {},
   "outputs": [
    {
     "name": "stdout",
     "output_type": "stream",
     "text": [
      "copied file: ['Mumbai', 'London', 'Paris', 'New York']\n",
      "original file: ['Mumbai', 'London', 'Paris', 'New York']\n"
     ]
    }
   ],
   "source": [
    "cities = ['Mumbai', 'London', 'Paris', 'New York']\n",
    "fav_cities = cities.copy()\n",
    "print(\"copied file:\",fav_cities)\n",
    "print(\"original file:\",cities)"
   ]
  },
  {
   "cell_type": "markdown",
   "id": "06a9f293",
   "metadata": {},
   "source": [
    "# remove"
   ]
  },
  {
   "cell_type": "code",
   "execution_count": 9,
   "id": "8de86621",
   "metadata": {},
   "outputs": [
    {
     "data": {
      "text/plain": [
       "['apple', 'cherry']"
      ]
     },
     "execution_count": 9,
     "metadata": {},
     "output_type": "execute_result"
    }
   ],
   "source": [
    "fruits = ['apple', 'banana', 'cherry']\n",
    "fruits.remove('banana')\n",
    "fruits"
   ]
  },
  {
   "cell_type": "code",
   "execution_count": 10,
   "id": "bbab4a5f",
   "metadata": {},
   "outputs": [
    {
     "data": {
      "text/plain": [
       "[2, 1, 1, 4, 5]"
      ]
     },
     "execution_count": 10,
     "metadata": {},
     "output_type": "execute_result"
    }
   ],
   "source": [
    "list1 = [ 1, 2, 1, 1, 4, 5 ]\n",
    "list1.remove(1)\n",
    "list1"
   ]
  },
  {
   "cell_type": "code",
   "execution_count": 15,
   "id": "624aa5b3",
   "metadata": {},
   "outputs": [
    {
     "data": {
      "text/plain": [
       "['London', 'Paris', 'New York']"
      ]
     },
     "execution_count": 15,
     "metadata": {},
     "output_type": "execute_result"
    }
   ],
   "source": [
    "cities = ['Mumbai', 'London', 'Paris', 'New York']\n",
    "cities.remove('Mumbai')\n",
    "cities"
   ]
  },
  {
   "cell_type": "code",
   "execution_count": 16,
   "id": "4cc82098",
   "metadata": {},
   "outputs": [
    {
     "data": {
      "text/plain": [
       "[1, 2, 3, 4, 6]"
      ]
     },
     "execution_count": 16,
     "metadata": {},
     "output_type": "execute_result"
    }
   ],
   "source": [
    "numbers = [1, 2, 3, 4, 5, 6]\n",
    "numbers.remove(5)\n",
    "numbers"
   ]
  },
  {
   "cell_type": "markdown",
   "id": "f55900cf",
   "metadata": {},
   "source": [
    "# Reverse"
   ]
  },
  {
   "cell_type": "code",
   "execution_count": 18,
   "id": "7b7b9c0c",
   "metadata": {},
   "outputs": [
    {
     "data": {
      "text/plain": [
       "['cherry', 'banana', 'apple']"
      ]
     },
     "execution_count": 18,
     "metadata": {},
     "output_type": "execute_result"
    }
   ],
   "source": [
    "fruits = ['apple', 'banana', 'cherry']\n",
    "fruits.reverse()\n",
    "fruits"
   ]
  },
  {
   "cell_type": "code",
   "execution_count": 19,
   "id": "65c965f3",
   "metadata": {},
   "outputs": [
    {
     "data": {
      "text/plain": [
       "[7, 5, 3, 2]"
      ]
     },
     "execution_count": 19,
     "metadata": {},
     "output_type": "execute_result"
    }
   ],
   "source": [
    "prime_numbers = [2, 3, 5, 7]\n",
    "prime_numbers.reverse()\n",
    "prime_numbers"
   ]
  },
  {
   "cell_type": "code",
   "execution_count": 20,
   "id": "faabf759",
   "metadata": {},
   "outputs": [
    {
     "data": {
      "text/plain": [
       "['New York', 'Paris', 'Chicago', 'London', 'Mumbai']"
      ]
     },
     "execution_count": 20,
     "metadata": {},
     "output_type": "execute_result"
    }
   ],
   "source": [
    "cities = ['Mumbai', 'London', 'Chicago', 'Paris', 'New York']\n",
    "cities.reverse()\n",
    "cities"
   ]
  },
  {
   "cell_type": "markdown",
   "id": "853d43e7",
   "metadata": {},
   "source": [
    "# sort"
   ]
  },
  {
   "cell_type": "code",
   "execution_count": 25,
   "id": "b1563651",
   "metadata": {},
   "outputs": [
    {
     "data": {
      "text/plain": [
       "[1, 2, 3, 4, 5, 6, 7, 8, 9, 10]"
      ]
     },
     "execution_count": 25,
     "metadata": {},
     "output_type": "execute_result"
    }
   ],
   "source": [
    "nums = [1, 5, 3, 4, 2, 10, 6, 8, 7, 9]\n",
    "nums.sort()\n",
    "nums"
   ]
  },
  {
   "cell_type": "code",
   "execution_count": 26,
   "id": "635d5747",
   "metadata": {},
   "outputs": [
    {
     "data": {
      "text/plain": [
       "['a', 'b', 'c', 'd', 'e']"
      ]
     },
     "execution_count": 26,
     "metadata": {},
     "output_type": "execute_result"
    }
   ],
   "source": [
    "al = ['a','d','e','c','b']\n",
    "al.sort()\n",
    "al"
   ]
  },
  {
   "cell_type": "code",
   "execution_count": 27,
   "id": "d178b116",
   "metadata": {},
   "outputs": [
    {
     "data": {
      "text/plain": [
       "['London', 'Mumbai', 'New York', 'Paris']"
      ]
     },
     "execution_count": 27,
     "metadata": {},
     "output_type": "execute_result"
    }
   ],
   "source": [
    "cities = ['Mumbai', 'London', 'Paris', 'New York']\n",
    "cities.sort()\n",
    "cities"
   ]
  },
  {
   "cell_type": "code",
   "execution_count": 28,
   "id": "98cc2dce",
   "metadata": {},
   "outputs": [
    {
     "data": {
      "text/plain": [
       "['Paris', 'New York', 'Mumbai', 'London']"
      ]
     },
     "execution_count": 28,
     "metadata": {},
     "output_type": "execute_result"
    }
   ],
   "source": [
    "cities = ['Mumbai', 'London', 'Paris', 'New York']\n",
    "cities.sort(reverse = True)\n",
    "cities"
   ]
  },
  {
   "cell_type": "code",
   "execution_count": null,
   "id": "6f05be78",
   "metadata": {},
   "outputs": [],
   "source": []
  }
 ],
 "metadata": {
  "kernelspec": {
   "display_name": "Python 3 (ipykernel)",
   "language": "python",
   "name": "python3"
  },
  "language_info": {
   "codemirror_mode": {
    "name": "ipython",
    "version": 3
   },
   "file_extension": ".py",
   "mimetype": "text/x-python",
   "name": "python",
   "nbconvert_exporter": "python",
   "pygments_lexer": "ipython3",
   "version": "3.10.9"
  }
 },
 "nbformat": 4,
 "nbformat_minor": 5
}
