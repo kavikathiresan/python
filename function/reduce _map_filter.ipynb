{
 "cells": [
  {
   "cell_type": "markdown",
   "id": "bd0b90db",
   "metadata": {},
   "source": [
    "# Reduce function"
   ]
  },
  {
   "cell_type": "code",
   "execution_count": 14,
   "id": "0c2c238d",
   "metadata": {},
   "outputs": [],
   "source": [
    "from functools import reduce"
   ]
  },
  {
   "cell_type": "code",
   "execution_count": 10,
   "id": "3068f83d",
   "metadata": {},
   "outputs": [
    {
     "name": "stdout",
     "output_type": "stream",
     "text": [
      "17\n"
     ]
    }
   ],
   "source": [
    "lis = [1, 3, 5, 6, 2]\n",
    "sol = reduce(lambda x,y : x+y ,lis)\n",
    "print(sol)"
   ]
  },
  {
   "cell_type": "code",
   "execution_count": 9,
   "id": "593049e6",
   "metadata": {},
   "outputs": [
    {
     "name": "stdout",
     "output_type": "stream",
     "text": [
      "10\n"
     ]
    }
   ],
   "source": [
    "nums = [1, 2, 3, 4]\n",
    "ans = reduce(lambda x, y: x + y, nums)\n",
    "print(ans) "
   ]
  },
  {
   "cell_type": "code",
   "execution_count": 13,
   "id": "c90aa1af",
   "metadata": {},
   "outputs": [
    {
     "name": "stdout",
     "output_type": "stream",
     "text": [
      "180\n"
     ]
    }
   ],
   "source": [
    "lis = [1, 3, 5, 6, 2]\n",
    "sol = reduce(lambda x,y: x*y,lis)\n",
    "print(sol)"
   ]
  },
  {
   "cell_type": "markdown",
   "id": "6773db98",
   "metadata": {},
   "source": [
    "# Reduce with map and filter"
   ]
  },
  {
   "cell_type": "code",
   "execution_count": 17,
   "id": "54446a3e",
   "metadata": {},
   "outputs": [
    {
     "name": "stdout",
     "output_type": "stream",
     "text": [
      "66\n"
     ]
    }
   ],
   "source": [
    "a = [10,11,12,13]\n",
    "so = reduce(lambda x,y : x+y,filter(lambda x:x>20,map(lambda x:x+10,a)))\n",
    "print(so)"
   ]
  },
  {
   "cell_type": "code",
   "execution_count": null,
   "id": "88db5517",
   "metadata": {},
   "outputs": [],
   "source": []
  }
 ],
 "metadata": {
  "kernelspec": {
   "display_name": "Python 3 (ipykernel)",
   "language": "python",
   "name": "python3"
  },
  "language_info": {
   "codemirror_mode": {
    "name": "ipython",
    "version": 3
   },
   "file_extension": ".py",
   "mimetype": "text/x-python",
   "name": "python",
   "nbconvert_exporter": "python",
   "pygments_lexer": "ipython3",
   "version": "3.10.9"
  }
 },
 "nbformat": 4,
 "nbformat_minor": 5
}
