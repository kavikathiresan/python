{
 "cells": [
  {
   "cell_type": "markdown",
   "id": "19d69d06",
   "metadata": {},
   "source": [
    "1.Write a Python program to create an empty set"
   ]
  },
  {
   "cell_type": "code",
   "execution_count": 1,
   "id": "41b1288c",
   "metadata": {},
   "outputs": [
    {
     "name": "stdout",
     "output_type": "stream",
     "text": [
      "set()\n"
     ]
    }
   ],
   "source": [
    "x = set([])\n",
    "print(x)"
   ]
  },
  {
   "cell_type": "markdown",
   "id": "39798ee9",
   "metadata": {},
   "source": [
    "2.Write a Python program to check if two sets are equal"
   ]
  },
  {
   "cell_type": "code",
   "execution_count": 3,
   "id": "fa01ac1a",
   "metadata": {},
   "outputs": [
    {
     "name": "stdout",
     "output_type": "stream",
     "text": [
      "set are not equal\n",
      "False\n"
     ]
    }
   ],
   "source": [
    "a = {\"alpha\",\"beta\",\"gamma\",\"zeta\"}\n",
    "b = {\"alpha\",1,2,4}\n",
    "if a==b:\n",
    "    print(\"set are equal\")\n",
    "else:\n",
    "    print(\"set are not equal\")\n",
    "print(a == b)"
   ]
  },
  {
   "cell_type": "markdown",
   "id": "3740931a",
   "metadata": {},
   "source": [
    "3.Write a Python program to add an element to a set."
   ]
  },
  {
   "cell_type": "code",
   "execution_count": 15,
   "id": "3f362b49",
   "metadata": {},
   "outputs": [
    {
     "name": "stdout",
     "output_type": "stream",
     "text": [
      "the value of adding new element :{1, 2, 3, 4, 5, 6, 100}\n"
     ]
    }
   ],
   "source": [
    "set1 = {1,2,3,4,5,6}\n",
    "set2 = set1.copy() # copying set1 to set2\n",
    "set2.add(100)\n",
    "print(f'the value of adding new element :{set2}')"
   ]
  },
  {
   "cell_type": "code",
   "execution_count": 16,
   "id": "b2bdff14",
   "metadata": {},
   "outputs": [
    {
     "name": "stdout",
     "output_type": "stream",
     "text": [
      "the value of adding new element :{1, 2, 3, 4, 5, 6, 100}\n"
     ]
    }
   ],
   "source": [
    "set1 = {1,2,3,4,5,6}\n",
    "set2 = set(set1) # directly giving\n",
    "set2.add(100)\n",
    "print(f'the value of adding new element :{set2}')"
   ]
  },
  {
   "cell_type": "markdown",
   "id": "8d0d7d0a",
   "metadata": {},
   "source": [
    "4.Write a Python program to remove an element from a set."
   ]
  },
  {
   "cell_type": "code",
   "execution_count": 17,
   "id": "1c67975f",
   "metadata": {},
   "outputs": [
    {
     "name": "stdout",
     "output_type": "stream",
     "text": [
      "{1, 2, 3, 4, 6}\n"
     ]
    }
   ],
   "source": [
    "set1 = {1,2,3,4,5,6}\n",
    "set1.remove(5)\n",
    "print(set1)"
   ]
  },
  {
   "cell_type": "markdown",
   "id": "e2bf28fc",
   "metadata": {},
   "source": [
    "5.Write a Python program to find the union of two sets."
   ]
  },
  {
   "cell_type": "code",
   "execution_count": 18,
   "id": "f9e6acd0",
   "metadata": {},
   "outputs": [
    {
     "name": "stdout",
     "output_type": "stream",
     "text": [
      "the union of two sets:{1, 2, 3, 4, 5, 6, 8, 13, 14}\n"
     ]
    }
   ],
   "source": [
    "set1 = {1,2,3,4,5,6}\n",
    "set2 = {6,8,13,14,5,6} # sets removes duplicates\n",
    "print(f'the union of two sets:{set1 | set2}') "
   ]
  },
  {
   "cell_type": "code",
   "execution_count": 19,
   "id": "abeab630",
   "metadata": {},
   "outputs": [
    {
     "name": "stdout",
     "output_type": "stream",
     "text": [
      "the union of two sets:{1, 2, 3, 4, 5, 6, 8, 13, 14}\n"
     ]
    }
   ],
   "source": [
    "set1 = {1,2,3,4,5,6}\n",
    "set2 = {6,8,13,14,5,6} # sets removes duplicates\n",
    "print(f'the union of two sets:{set1.union(set2)}') "
   ]
  },
  {
   "cell_type": "markdown",
   "id": "826072a9",
   "metadata": {},
   "source": [
    "6.Write a Python program to find the intersection of two sets."
   ]
  },
  {
   "cell_type": "code",
   "execution_count": 20,
   "id": "3a2e302a",
   "metadata": {},
   "outputs": [
    {
     "name": "stdout",
     "output_type": "stream",
     "text": [
      "the intersection of two sets:{3, 5, 6}\n"
     ]
    }
   ],
   "source": [
    "set1 = {1,2,3,4,5,6}\n",
    "set2 = {6,8,13,14,5,3}\n",
    "print(f'the intersection of two sets:{set1 & set2}')"
   ]
  },
  {
   "cell_type": "code",
   "execution_count": 22,
   "id": "90556705",
   "metadata": {},
   "outputs": [
    {
     "name": "stdout",
     "output_type": "stream",
     "text": [
      "the intersection of two sets:{3, 5, 6}\n"
     ]
    }
   ],
   "source": [
    "set1 = {1,2,3,4,5,6}\n",
    "set2 = {6,8,13,14,5,3}\n",
    "print(f'the intersection of two sets:{set1.intersection(set2)}')"
   ]
  },
  {
   "cell_type": "markdown",
   "id": "34b77b37",
   "metadata": {},
   "source": [
    "7.Write a Python program to find the difference between two sets."
   ]
  },
  {
   "cell_type": "code",
   "execution_count": 24,
   "id": "627199f2",
   "metadata": {},
   "outputs": [
    {
     "name": "stdout",
     "output_type": "stream",
     "text": [
      "{46, 33, 78, 55}\n",
      "{77, 99, 68, 12}\n"
     ]
    }
   ],
   "source": [
    "num1 = {55,33,11,34,23,46,78}\n",
    "num2 ={23,12,11,34,68,77,99}\n",
    "print(num1 - num2)\n",
    "print(num2.difference(num1))"
   ]
  },
  {
   "cell_type": "markdown",
   "id": "1a617634",
   "metadata": {},
   "source": [
    "8: Write a Python program to check if a set is a subset of another set."
   ]
  },
  {
   "cell_type": "code",
   "execution_count": 25,
   "id": "9526fb1d",
   "metadata": {},
   "outputs": [
    {
     "name": "stdout",
     "output_type": "stream",
     "text": [
      "True\n"
     ]
    }
   ],
   "source": [
    "a={1,2,3}\n",
    "b={1,2,3,4,5}\n",
    "print(a.issubset(b))"
   ]
  },
  {
   "cell_type": "code",
   "execution_count": 27,
   "id": "c0029d74",
   "metadata": {},
   "outputs": [
    {
     "name": "stdout",
     "output_type": "stream",
     "text": [
      "False\n"
     ]
    }
   ],
   "source": [
    "a={4,5,9}\n",
    "b={1,2,3,4,5}\n",
    "print(b.issubset(a))"
   ]
  },
  {
   "cell_type": "markdown",
   "id": "ee0dd0fd",
   "metadata": {},
   "source": [
    "9.Write a Python program to remove all duplicate elements from a set."
   ]
  },
  {
   "cell_type": "code",
   "execution_count": 28,
   "id": "571e4955",
   "metadata": {},
   "outputs": [
    {
     "name": "stdout",
     "output_type": "stream",
     "text": [
      "{'beta', 'gamma', 'alpha', 'zeta'}\n"
     ]
    }
   ],
   "source": [
    "a = {\"alpha\",\"beta\",\"gamma\",\"zeta\",\"alpha\"}\n",
    "print(a)\n",
    "# set doesnt allow duplicates "
   ]
  },
  {
   "cell_type": "markdown",
   "id": "51afbe12",
   "metadata": {},
   "source": [
    "10.Write a Python program to find the maximum and minimum elements in a set."
   ]
  },
  {
   "cell_type": "code",
   "execution_count": 34,
   "id": "3d2ff923",
   "metadata": {},
   "outputs": [
    {
     "name": "stdout",
     "output_type": "stream",
     "text": [
      "Maximum element in the set:65\n",
      "Minimum element in the set:1\n"
     ]
    }
   ],
   "source": [
    "# using function\n",
    "def Maxi_num(x):\n",
    "    return max(x)\n",
    "def Mini_num(x):\n",
    "    return min(x)\n",
    "\n",
    "sets_values =set([8, 16, 24, 1, 25, 3, 10, 65, 55])\n",
    "print(f'Maximum element in the set:{Maxi_num(sets_values)}')\n",
    "print(f'Minimum element in the set:{Mini_num(sets_values)}')\n"
   ]
  },
  {
   "cell_type": "code",
   "execution_count": 35,
   "id": "d8b359a2",
   "metadata": {},
   "outputs": [
    {
     "name": "stdout",
     "output_type": "stream",
     "text": [
      "Maximum element in the set:65\n",
      "Minimum element in the set:1\n"
     ]
    }
   ],
   "source": [
    "sets_values =set([8, 16, 24, 1, 25, 3, 10, 65, 55])\n",
    "print(f'Maximum element in the set:{Maxi_num(sets_values)}')\n",
    "print(f'Minimum element in the set:{Mini_num(sets_values)}')"
   ]
  },
  {
   "cell_type": "code",
   "execution_count": null,
   "id": "e0a41923",
   "metadata": {},
   "outputs": [],
   "source": []
  }
 ],
 "metadata": {
  "kernelspec": {
   "display_name": "Python 3 (ipykernel)",
   "language": "python",
   "name": "python3"
  },
  "language_info": {
   "codemirror_mode": {
    "name": "ipython",
    "version": 3
   },
   "file_extension": ".py",
   "mimetype": "text/x-python",
   "name": "python",
   "nbconvert_exporter": "python",
   "pygments_lexer": "ipython3",
   "version": "3.10.9"
  }
 },
 "nbformat": 4,
 "nbformat_minor": 5
}
