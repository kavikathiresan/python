{
 "cells": [
  {
   "cell_type": "markdown",
   "id": "4b1cc870",
   "metadata": {},
   "source": [
    "## Varible - store data information\n"
   ]
  },
  {
   "cell_type": "markdown",
   "id": "51b24775",
   "metadata": {},
   "source": [
    "can start with alphabet a-z,A-Z,_(underscore)\n",
    "not with number,space"
   ]
  },
  {
   "cell_type": "code",
   "execution_count": 1,
   "id": "0675dc75",
   "metadata": {},
   "outputs": [
    {
     "name": "stdout",
     "output_type": "stream",
     "text": [
      "karthick\n"
     ]
    }
   ],
   "source": [
    "a_name = 'karthick'\n",
    "print(a_name)"
   ]
  },
  {
   "cell_type": "code",
   "execution_count": 2,
   "id": "d1583a7d",
   "metadata": {},
   "outputs": [
    {
     "name": "stdout",
     "output_type": "stream",
     "text": [
      "50\n"
     ]
    }
   ],
   "source": [
    "_12a = 50\n",
    "print(_12a)"
   ]
  },
  {
   "cell_type": "markdown",
   "id": "cb523f1e",
   "metadata": {},
   "source": [
    "# Type Conversion"
   ]
  },
  {
   "cell_type": "code",
   "execution_count": 3,
   "id": "20c995d5",
   "metadata": {},
   "outputs": [
    {
     "name": "stdout",
     "output_type": "stream",
     "text": [
      "<class 'int'>\n"
     ]
    }
   ],
   "source": [
    "a = 150 \n",
    "print(type(a))"
   ]
  },
  {
   "cell_type": "code",
   "execution_count": 4,
   "id": "64a48185",
   "metadata": {},
   "outputs": [
    {
     "name": "stdout",
     "output_type": "stream",
     "text": [
      "<class 'float'>\n"
     ]
    }
   ],
   "source": [
    "c = 13.6\n",
    "print(type(c))"
   ]
  },
  {
   "cell_type": "code",
   "execution_count": 5,
   "id": "a6594e64",
   "metadata": {},
   "outputs": [
    {
     "name": "stdout",
     "output_type": "stream",
     "text": [
      "<class 'str'>\n"
     ]
    }
   ],
   "source": [
    "d = 'strange'\n",
    "print(type(d))"
   ]
  },
  {
   "cell_type": "markdown",
   "id": "1776ded6",
   "metadata": {},
   "source": [
    "int = % d\n",
    "float = % f\n",
    "string = %s"
   ]
  },
  {
   "cell_type": "code",
   "execution_count": 3,
   "id": "e25b61ed",
   "metadata": {},
   "outputs": [
    {
     "name": "stdout",
     "output_type": "stream",
     "text": [
      "I got 100.2rs salary and learning a course in udemy which charge 20rs per day\n"
     ]
    }
   ],
   "source": [
    "salary = 100.2\n",
    "spend = 20\n",
    "course ='udemy'\n",
    "# output:i got 100.2rs salary and learning a course in udemy which charge 20rs per day\n",
    "# adding\n",
    "print('I got'+' '+ str(salary)+'rs'+' '+'salary and learning a course in'+' '+course+' '+'which charge'+' '+str(spend)+'rs per day')"
   ]
  },
  {
   "cell_type": "code",
   "execution_count": 4,
   "id": "89aee933",
   "metadata": {},
   "outputs": [
    {
     "name": "stdout",
     "output_type": "stream",
     "text": [
      "I got 100.2rs salary and learning a course in udemy which charge 20 rs per day\n"
     ]
    }
   ],
   "source": [
    "salary = 100.2\n",
    "spend = 20\n",
    "course ='udemy'\n",
    "# output:i got 100.2rs salary and learning a course in udemy which charge 20rs per day\n",
    "# formartting\n",
    "print(f'I got {salary}rs salary and learning a course in {course} which charge {spend} rs per day',)"
   ]
  },
  {
   "cell_type": "code",
   "execution_count": 7,
   "id": "a6d54b7d",
   "metadata": {},
   "outputs": [
    {
     "name": "stdout",
     "output_type": "stream",
     "text": [
      "I got 100.2rs salary and learning a course in udemy which charge 20 rs per day\n"
     ]
    }
   ],
   "source": [
    "salary = 100.2\n",
    "spend = 20\n",
    "course ='udemy'\n",
    "# output:i got 100.2rs salary and learning a course in udemy which charge 20rs per day\n",
    "# formartting\n",
    "print('I got {}rs salary and learning a course in {} which charge {} rs per day'.format(salary,course,spend))"
   ]
  },
  {
   "cell_type": "code",
   "execution_count": 9,
   "id": "f222b387",
   "metadata": {},
   "outputs": [
    {
     "name": "stdout",
     "output_type": "stream",
     "text": [
      "I got 100.200000 rs salary and learning a course in udemy which charge 20 rs per day\n"
     ]
    }
   ],
   "source": [
    "salary = 100.2\n",
    "spend = 20\n",
    "course ='udemy'\n",
    "print('I got %f rs salary and learning a course in %s which charge %d rs per day'%(salary,course,spend))"
   ]
  },
  {
   "cell_type": "code",
   "execution_count": null,
   "id": "d5267270",
   "metadata": {},
   "outputs": [],
   "source": []
  }
 ],
 "metadata": {
  "kernelspec": {
   "display_name": "Python 3 (ipykernel)",
   "language": "python",
   "name": "python3"
  },
  "language_info": {
   "codemirror_mode": {
    "name": "ipython",
    "version": 3
   },
   "file_extension": ".py",
   "mimetype": "text/x-python",
   "name": "python",
   "nbconvert_exporter": "python",
   "pygments_lexer": "ipython3",
   "version": "3.10.9"
  }
 },
 "nbformat": 4,
 "nbformat_minor": 5
}
