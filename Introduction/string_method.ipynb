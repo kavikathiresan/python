{
 "cells": [
  {
   "cell_type": "markdown",
   "id": "13e63f6c",
   "metadata": {},
   "source": [
    "# capitalize"
   ]
  },
  {
   "cell_type": "code",
   "execution_count": 1,
   "id": "5f8083e9",
   "metadata": {},
   "outputs": [
    {
     "data": {
      "text/plain": [
       "'Hello, and welcome to my world.'"
      ]
     },
     "execution_count": 1,
     "metadata": {},
     "output_type": "execute_result"
    }
   ],
   "source": [
    "txt = \"hello, and welcome to my world.\"\n",
    "txt.capitalize()"
   ]
  },
  {
   "cell_type": "code",
   "execution_count": 2,
   "id": "5a6dc345",
   "metadata": {},
   "outputs": [
    {
     "data": {
      "text/plain": [
       "'Python is fun!'"
      ]
     },
     "execution_count": 2,
     "metadata": {},
     "output_type": "execute_result"
    }
   ],
   "source": [
    "txt = \"python is FUN!\"\n",
    "txt.capitalize()"
   ]
  },
  {
   "cell_type": "code",
   "execution_count": 3,
   "id": "e33c05b8",
   "metadata": {},
   "outputs": [
    {
     "data": {
      "text/plain": [
       "'Geeks for geeks'"
      ]
     },
     "execution_count": 3,
     "metadata": {},
     "output_type": "execute_result"
    }
   ],
   "source": [
    "text = 'geeKs For geEkS'\n",
    "text.capitalize()"
   ]
  },
  {
   "cell_type": "code",
   "execution_count": 4,
   "id": "f16b045f",
   "metadata": {},
   "outputs": [
    {
     "data": {
      "text/plain": [
       "'I love python'"
      ]
     },
     "execution_count": 4,
     "metadata": {},
     "output_type": "execute_result"
    }
   ],
   "source": [
    "sentence = \"i love PYTHON\"\n",
    "sentence.capitalize()"
   ]
  },
  {
   "cell_type": "markdown",
   "id": "917fe11b",
   "metadata": {},
   "source": [
    "# count"
   ]
  },
  {
   "cell_type": "code",
   "execution_count": 7,
   "id": "1cbae962",
   "metadata": {},
   "outputs": [
    {
     "data": {
      "text/plain": [
       "2"
      ]
     },
     "execution_count": 7,
     "metadata": {},
     "output_type": "execute_result"
    }
   ],
   "source": [
    "string = \"geeks for geeks\"\n",
    "string.count('geeks')"
   ]
  },
  {
   "cell_type": "code",
   "execution_count": 8,
   "id": "5140163f",
   "metadata": {},
   "outputs": [
    {
     "data": {
      "text/plain": [
       "1"
      ]
     },
     "execution_count": 8,
     "metadata": {},
     "output_type": "execute_result"
    }
   ],
   "source": [
    "txt = \"I love apples, apple are my favorite fruit\"\n",
    "txt.count(\"apples\")"
   ]
  },
  {
   "cell_type": "code",
   "execution_count": 9,
   "id": "e6f1ea10",
   "metadata": {},
   "outputs": [
    {
     "data": {
      "text/plain": [
       "2"
      ]
     },
     "execution_count": 9,
     "metadata": {},
     "output_type": "execute_result"
    }
   ],
   "source": [
    "str = \"Hello Javatpoint\"\n",
    "str.count(\"t\")"
   ]
  },
  {
   "cell_type": "code",
   "execution_count": 10,
   "id": "743423b9",
   "metadata": {},
   "outputs": [
    {
     "data": {
      "text/plain": [
       "4"
      ]
     },
     "execution_count": 10,
     "metadata": {},
     "output_type": "execute_result"
    }
   ],
   "source": [
    "message = 'python is popular programming language'\n",
    "message.count(\"p\")"
   ]
  },
  {
   "cell_type": "code",
   "execution_count": 12,
   "id": "00bf1b70",
   "metadata": {},
   "outputs": [
    {
     "data": {
      "text/plain": [
       "2"
      ]
     },
     "execution_count": 12,
     "metadata": {},
     "output_type": "execute_result"
    }
   ],
   "source": [
    "string = \"Python is awesome, isn't it?\"\n",
    "string.count('i',8,26)"
   ]
  },
  {
   "cell_type": "markdown",
   "id": "2dec8120",
   "metadata": {},
   "source": [
    "## replace"
   ]
  },
  {
   "cell_type": "code",
   "execution_count": 13,
   "id": "01dd17c1",
   "metadata": {},
   "outputs": [
    {
     "data": {
      "text/plain": [
       "'geeks FOR geeks'"
      ]
     },
     "execution_count": 13,
     "metadata": {},
     "output_type": "execute_result"
    }
   ],
   "source": [
    "string = \"grrks FOR grrks\"\n",
    "string.replace('r','e')"
   ]
  },
  {
   "cell_type": "code",
   "execution_count": 14,
   "id": "bbbcdcb3",
   "metadata": {},
   "outputs": [
    {
     "data": {
      "text/plain": [
       "'rot roll'"
      ]
     },
     "execution_count": 14,
     "metadata": {},
     "output_type": "execute_result"
    }
   ],
   "source": [
    "text = 'bat ball'\n",
    "text.replace('ba','ro')"
   ]
  },
  {
   "cell_type": "code",
   "execution_count": 20,
   "id": "71f2a2d2",
   "metadata": {},
   "outputs": [
    {
     "data": {
      "text/plain": [
       "'celd, celd heart'"
      ]
     },
     "execution_count": 20,
     "metadata": {},
     "output_type": "execute_result"
    }
   ],
   "source": [
    "song = 'cold, cold heart'\n",
    "song.replace('o','e')"
   ]
  },
  {
   "cell_type": "markdown",
   "id": "b74af8f7",
   "metadata": {},
   "source": [
    "# startswith"
   ]
  },
  {
   "cell_type": "code",
   "execution_count": 25,
   "id": "e2a6c2f0",
   "metadata": {},
   "outputs": [
    {
     "data": {
      "text/plain": [
       "True"
      ]
     },
     "execution_count": 25,
     "metadata": {},
     "output_type": "execute_result"
    }
   ],
   "source": [
    "txt = \"Hello, welcome to my world.\"\n",
    "txt.startswith('welcome',7,20)"
   ]
  },
  {
   "cell_type": "code",
   "execution_count": 30,
   "id": "94d50590",
   "metadata": {},
   "outputs": [
    {
     "data": {
      "text/plain": [
       "True"
      ]
     },
     "execution_count": 30,
     "metadata": {},
     "output_type": "execute_result"
    }
   ],
   "source": [
    "text = \"geeks for geeks.\"\n",
    "text.startswith(\"for geeks\",6,15)"
   ]
  },
  {
   "cell_type": "markdown",
   "id": "a38fa1e0",
   "metadata": {},
   "source": [
    "# Endwith"
   ]
  },
  {
   "cell_type": "code",
   "execution_count": 34,
   "id": "03ea7102",
   "metadata": {},
   "outputs": [
    {
     "data": {
      "text/plain": [
       "True"
      ]
     },
     "execution_count": 34,
     "metadata": {},
     "output_type": "execute_result"
    }
   ],
   "source": [
    "txt = \"Hello, welcome to my world.\"\n",
    "txt.endswith('.')\n"
   ]
  },
  {
   "cell_type": "code",
   "execution_count": 43,
   "id": "497d85e5",
   "metadata": {},
   "outputs": [
    {
     "data": {
      "text/plain": [
       "True"
      ]
     },
     "execution_count": 43,
     "metadata": {},
     "output_type": "execute_result"
    }
   ],
   "source": [
    "message = 'Python is fun'\n",
    "message.endswith('fun')"
   ]
  },
  {
   "cell_type": "code",
   "execution_count": 44,
   "id": "e23b8547",
   "metadata": {},
   "outputs": [
    {
     "data": {
      "text/plain": [
       "True"
      ]
     },
     "execution_count": 44,
     "metadata": {},
     "output_type": "execute_result"
    }
   ],
   "source": [
    "text = 'geeks for geeks'\n",
    "text.endswith('s')"
   ]
  },
  {
   "cell_type": "code",
   "execution_count": 45,
   "id": "bad21ae6",
   "metadata": {},
   "outputs": [
    {
     "data": {
      "text/plain": [
       "True"
      ]
     },
     "execution_count": 45,
     "metadata": {},
     "output_type": "execute_result"
    }
   ],
   "source": [
    "message = 'Python is fun'\n",
    "message.endswith('thon',2,6)"
   ]
  },
  {
   "cell_type": "markdown",
   "id": "8d62e3a0",
   "metadata": {},
   "source": [
    "# isalpha"
   ]
  },
  {
   "cell_type": "code",
   "execution_count": 47,
   "id": "43fc1be3",
   "metadata": {},
   "outputs": [
    {
     "data": {
      "text/plain": [
       "True"
      ]
     },
     "execution_count": 47,
     "metadata": {},
     "output_type": "execute_result"
    }
   ],
   "source": [
    "name = \"Monica\"\n",
    "name.isalpha()"
   ]
  },
  {
   "cell_type": "code",
   "execution_count": 48,
   "id": "915dbeae",
   "metadata": {},
   "outputs": [
    {
     "data": {
      "text/plain": [
       "False"
      ]
     },
     "execution_count": 48,
     "metadata": {},
     "output_type": "execute_result"
    }
   ],
   "source": [
    "string = 'Ayush0212'\n",
    "string.isalpha()"
   ]
  },
  {
   "cell_type": "markdown",
   "id": "1edf79c9",
   "metadata": {},
   "source": [
    "# isalnum"
   ]
  },
  {
   "cell_type": "code",
   "execution_count": 49,
   "id": "58cbb9b0",
   "metadata": {},
   "outputs": [
    {
     "data": {
      "text/plain": [
       "True"
      ]
     },
     "execution_count": 49,
     "metadata": {},
     "output_type": "execute_result"
    }
   ],
   "source": [
    "name1 = \"Python3\"\n",
    "name1.isalnum()"
   ]
  },
  {
   "cell_type": "markdown",
   "id": "7b15c69d",
   "metadata": {},
   "source": [
    "# isdecimal"
   ]
  },
  {
   "cell_type": "code",
   "execution_count": 50,
   "id": "6d78c04e",
   "metadata": {},
   "outputs": [
    {
     "data": {
      "text/plain": [
       "False"
      ]
     },
     "execution_count": 50,
     "metadata": {},
     "output_type": "execute_result"
    }
   ],
   "source": [
    "s = \"32ladk3\"\n",
    "s.isdecimal()"
   ]
  },
  {
   "cell_type": "code",
   "execution_count": 51,
   "id": "2776a0bf",
   "metadata": {},
   "outputs": [
    {
     "data": {
      "text/plain": [
       "True"
      ]
     },
     "execution_count": 51,
     "metadata": {},
     "output_type": "execute_result"
    }
   ],
   "source": [
    "s = \"32\"\n",
    "s.isdecimal()"
   ]
  },
  {
   "cell_type": "code",
   "execution_count": 52,
   "id": "a944abdf",
   "metadata": {},
   "outputs": [
    {
     "data": {
      "text/plain": [
       "False"
      ]
     },
     "execution_count": 52,
     "metadata": {},
     "output_type": "execute_result"
    }
   ],
   "source": [
    "s = \"32.8\"\n",
    "s.isdecimal()"
   ]
  },
  {
   "cell_type": "markdown",
   "id": "4b20d0a6",
   "metadata": {},
   "source": [
    "# title"
   ]
  },
  {
   "cell_type": "code",
   "execution_count": 55,
   "id": "b0b85ef5",
   "metadata": {},
   "outputs": [
    {
     "data": {
      "text/plain": [
       "'My Favorite Number Is 25.'"
      ]
     },
     "execution_count": 55,
     "metadata": {},
     "output_type": "execute_result"
    }
   ],
   "source": [
    "text = 'My favorite number is 25.'\n",
    "text.title()"
   ]
  },
  {
   "cell_type": "code",
   "execution_count": 56,
   "id": "d4ab00fb",
   "metadata": {},
   "outputs": [
    {
     "data": {
      "text/plain": [
       "\"He'S An Engineer, Isn'T He?\""
      ]
     },
     "execution_count": 56,
     "metadata": {},
     "output_type": "execute_result"
    }
   ],
   "source": [
    "text = \"He's an engineer, isn't he?\"\n",
    "text.title()"
   ]
  },
  {
   "cell_type": "markdown",
   "id": "ec186917",
   "metadata": {},
   "source": [
    "# find"
   ]
  },
  {
   "cell_type": "code",
   "execution_count": 58,
   "id": "bffd9117",
   "metadata": {},
   "outputs": [
    {
     "data": {
      "text/plain": [
       "7"
      ]
     },
     "execution_count": 58,
     "metadata": {},
     "output_type": "execute_result"
    }
   ],
   "source": [
    "txt = \"Hello, welcome to my world.\"\n",
    "\n",
    "x = txt.find(\"welcome\")\n",
    "x"
   ]
  },
  {
   "cell_type": "code",
   "execution_count": 59,
   "id": "9f63476c",
   "metadata": {},
   "outputs": [
    {
     "name": "stdout",
     "output_type": "stream",
     "text": [
      "8\n"
     ]
    }
   ],
   "source": [
    "txt = \"Hello, welcome to my world.\"\n",
    "\n",
    "x = txt.find(\"e\", 5, 10)\n",
    "\n",
    "print(x)"
   ]
  },
  {
   "cell_type": "markdown",
   "id": "c7393aa7",
   "metadata": {},
   "source": [
    "# index"
   ]
  },
  {
   "cell_type": "code",
   "execution_count": 60,
   "id": "8f786b66",
   "metadata": {},
   "outputs": [
    {
     "name": "stdout",
     "output_type": "stream",
     "text": [
      "7\n"
     ]
    }
   ],
   "source": [
    "txt = \"Hello, welcome to my world.\"\n",
    "\n",
    "x = txt.index(\"welcome\")\n",
    "\n",
    "print(x)"
   ]
  },
  {
   "cell_type": "code",
   "execution_count": 61,
   "id": "b3532a93",
   "metadata": {},
   "outputs": [
    {
     "name": "stdout",
     "output_type": "stream",
     "text": [
      "1\n"
     ]
    }
   ],
   "source": [
    "txt = \"Hello, welcome to my world.\"\n",
    "\n",
    "x = txt.index(\"e\")\n",
    "\n",
    "print(x)"
   ]
  },
  {
   "cell_type": "markdown",
   "id": "64bb6fa5",
   "metadata": {},
   "source": [
    "# Math Operation in String"
   ]
  },
  {
   "cell_type": "code",
   "execution_count": 2,
   "id": "4e01646a",
   "metadata": {},
   "outputs": [
    {
     "name": "stdout",
     "output_type": "stream",
     "text": [
      "True\n"
     ]
    }
   ],
   "source": [
    "value1 = 'ab'\n",
    "value = 'AB'\n",
    "print(value1> value)"
   ]
  },
  {
   "cell_type": "code",
   "execution_count": 3,
   "id": "3c11a989",
   "metadata": {},
   "outputs": [
    {
     "name": "stdout",
     "output_type": "stream",
     "text": [
      "True\n"
     ]
    }
   ],
   "source": [
    "value1 = 'hat'\n",
    "value = 'Hat'\n",
    "print(value1> value)"
   ]
  },
  {
   "cell_type": "code",
   "execution_count": 4,
   "id": "3fbc9c8e",
   "metadata": {},
   "outputs": [
    {
     "name": "stdout",
     "output_type": "stream",
     "text": [
      "False\n"
     ]
    }
   ],
   "source": [
    "value1 = 'hat'\n",
    "value = 'Hat'\n",
    "print(value1< value)"
   ]
  },
  {
   "cell_type": "markdown",
   "id": "f57f1f9c",
   "metadata": {},
   "source": [
    "## split"
   ]
  },
  {
   "cell_type": "code",
   "execution_count": 5,
   "id": "45efb129",
   "metadata": {},
   "outputs": [
    {
     "data": {
      "text/plain": [
       "['welcome', 'to', 'the', 'jungle']"
      ]
     },
     "execution_count": 5,
     "metadata": {},
     "output_type": "execute_result"
    }
   ],
   "source": [
    "txt = \"welcome to the jungle\"\n",
    "txt.split()"
   ]
  },
  {
   "cell_type": "code",
   "execution_count": 6,
   "id": "4e8f02b1",
   "metadata": {},
   "outputs": [
    {
     "data": {
      "text/plain": [
       "['BMW-Telsa-Range', 'Rover']"
      ]
     },
     "execution_count": 6,
     "metadata": {},
     "output_type": "execute_result"
    }
   ],
   "source": [
    "cars = 'BMW-Telsa-Range Rover'\n",
    "cars.split()"
   ]
  },
  {
   "cell_type": "code",
   "execution_count": 7,
   "id": "37a8ec93",
   "metadata": {},
   "outputs": [
    {
     "data": {
      "text/plain": [
       "['hello,', 'my', 'name', 'is', 'Peter,', 'I', 'am', '26', 'years', 'old']"
      ]
     },
     "execution_count": 7,
     "metadata": {},
     "output_type": "execute_result"
    }
   ],
   "source": [
    "text = \"hello, my name is Peter, I am 26 years old\"\n",
    "text.split()"
   ]
  },
  {
   "cell_type": "code",
   "execution_count": 12,
   "id": "b658e54d",
   "metadata": {},
   "outputs": [
    {
     "name": "stdout",
     "output_type": "stream",
     "text": [
      "['I worked in microsoft for 1.5', ' years']\n"
     ]
    }
   ],
   "source": [
    "a = 'I worked in microsoft for 1.5, years'\n",
    "b= a.split(',')\n",
    "print(b)"
   ]
  },
  {
   "cell_type": "code",
   "execution_count": 10,
   "id": "82aefaa0",
   "metadata": {},
   "outputs": [
    {
     "data": {
      "text/plain": [
       "['Love', 'thy', 'neighbor']"
      ]
     },
     "execution_count": 10,
     "metadata": {},
     "output_type": "execute_result"
    }
   ],
   "source": [
    "text= 'Love thy neighbor'\n",
    "text.split()"
   ]
  },
  {
   "cell_type": "code",
   "execution_count": 11,
   "id": "d6209369",
   "metadata": {},
   "outputs": [
    {
     "data": {
      "text/plain": [
       "['Milk', ' Chicken', ' Bread']"
      ]
     },
     "execution_count": 11,
     "metadata": {},
     "output_type": "execute_result"
    }
   ],
   "source": [
    "grocery = 'Milk, Chicken, Bread'\n",
    "grocery.split(',')"
   ]
  },
  {
   "cell_type": "code",
   "execution_count": 13,
   "id": "ac6980dd",
   "metadata": {},
   "outputs": [
    {
     "name": "stdout",
     "output_type": "stream",
     "text": [
      "['I', 'am', 'live.india']\n"
     ]
    }
   ],
   "source": [
    "a = 'I.am.live.india'\n",
    "b= a.split('.',2)\n",
    "print(b)"
   ]
  },
  {
   "cell_type": "code",
   "execution_count": 21,
   "id": "defe2da6",
   "metadata": {},
   "outputs": [
    {
     "data": {
      "text/plain": [
       "['Apple', 'Banana', 'Grapes.Apple']"
      ]
     },
     "execution_count": 21,
     "metadata": {},
     "output_type": "execute_result"
    }
   ],
   "source": [
    "str = \"Apple.Banana.Grapes.Apple\"\n",
    "str = str.split('.',2)\n",
    "str "
   ]
  },
  {
   "cell_type": "code",
   "execution_count": 36,
   "id": "caf27916",
   "metadata": {},
   "outputs": [
    {
     "name": "stdout",
     "output_type": "stream",
     "text": [
      "['I', 'am', 'from', 'India', 'and', 'living', 'in', 'the', 'year', 'is']\n"
     ]
    }
   ],
   "source": [
    "a = \"I am from India and living in the year is\"\n",
    "d = a.split()\n",
    "print(d)"
   ]
  },
  {
   "cell_type": "code",
   "execution_count": 48,
   "id": "2143d120",
   "metadata": {},
   "outputs": [
    {
     "name": "stdout",
     "output_type": "stream",
     "text": [
      "['I', 'am', 'from', 'India', 'and', 'living', 'in', 'the', 'year', 'is', '1991', '1991']\n"
     ]
    }
   ],
   "source": [
    "d.append('1991')\n",
    "print(d)"
   ]
  },
  {
   "cell_type": "code",
   "execution_count": 49,
   "id": "26420807",
   "metadata": {},
   "outputs": [
    {
     "data": {
      "text/plain": [
       "['I',\n",
       " 'am',\n",
       " 'from',\n",
       " 'India',\n",
       " 'and',\n",
       " 'living',\n",
       " 'in',\n",
       " 'the',\n",
       " 'year',\n",
       " 'is',\n",
       " '1991']"
      ]
     },
     "execution_count": 49,
     "metadata": {},
     "output_type": "execute_result"
    }
   ],
   "source": [
    "d.pop(10)\n",
    "d"
   ]
  },
  {
   "cell_type": "markdown",
   "id": "76945dc1",
   "metadata": {},
   "source": [
    "# Join"
   ]
  },
  {
   "cell_type": "code",
   "execution_count": 45,
   "id": "739fe8c2",
   "metadata": {
    "collapsed": true
   },
   "outputs": [
    {
     "name": "stdout",
     "output_type": "stream",
     "text": [
      "I am from India and living in the year is 1991\n"
     ]
    }
   ],
   "source": [
    "sol = ' '.join(d)\n",
    "print(sol)"
   ]
  },
  {
   "cell_type": "code",
   "execution_count": 51,
   "id": "52476aa3",
   "metadata": {},
   "outputs": [
    {
     "data": {
      "text/plain": [
       "'g@ e@ e@ k@ s'"
      ]
     },
     "execution_count": 51,
     "metadata": {},
     "output_type": "execute_result"
    }
   ],
   "source": [
    "list1 = ['g', 'e', 'e', 'k', 's']\n",
    "list = \"@ \".join(list1)\n",
    "list"
   ]
  },
  {
   "cell_type": "code",
   "execution_count": 52,
   "id": "adc75780",
   "metadata": {},
   "outputs": [
    {
     "data": {
      "text/plain": [
       "'1-2-3-4'"
      ]
     },
     "execution_count": 52,
     "metadata": {},
     "output_type": "execute_result"
    }
   ],
   "source": [
    "list1 = ('1', '2', '3', '4')\n",
    "l = \"-\".join(list1)\n",
    "l"
   ]
  },
  {
   "cell_type": "code",
   "execution_count": 79,
   "id": "5ea2916a",
   "metadata": {},
   "outputs": [
    {
     "data": {
      "text/plain": [
       "'language.programming.love.I'"
      ]
     },
     "execution_count": 79,
     "metadata": {},
     "output_type": "execute_result"
    }
   ],
   "source": [
    "value ='I.love.programming.language'\n",
    "values = value.split(\".\")\n",
    "d=values[::-1]\n",
    "sols = \".\".join(d)\n",
    "sols"
   ]
  },
  {
   "cell_type": "code",
   "execution_count": null,
   "id": "8f505596",
   "metadata": {},
   "outputs": [],
   "source": []
  }
 ],
 "metadata": {
  "kernelspec": {
   "display_name": "Python 3 (ipykernel)",
   "language": "python",
   "name": "python3"
  },
  "language_info": {
   "codemirror_mode": {
    "name": "ipython",
    "version": 3
   },
   "file_extension": ".py",
   "mimetype": "text/x-python",
   "name": "python",
   "nbconvert_exporter": "python",
   "pygments_lexer": "ipython3",
   "version": "3.10.9"
  }
 },
 "nbformat": 4,
 "nbformat_minor": 5
}
