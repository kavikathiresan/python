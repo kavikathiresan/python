{
 "cells": [
  {
   "cell_type": "markdown",
   "id": "ea98ea2c",
   "metadata": {},
   "source": [
    "# comprehension"
   ]
  },
  {
   "cell_type": "code",
   "execution_count": null,
   "id": "46e7d88c",
   "metadata": {},
   "outputs": [],
   "source": [
    "# list comprehension"
   ]
  },
  {
   "cell_type": "markdown",
   "id": "47c87ef6",
   "metadata": {},
   "source": [
    "# for in list"
   ]
  },
  {
   "cell_type": "code",
   "execution_count": 10,
   "id": "5f67f87e",
   "metadata": {},
   "outputs": [
    {
     "name": "stdout",
     "output_type": "stream",
     "text": [
      "['apple', 'banana', 'cherry', 'kiwi', 'mango']\n"
     ]
    }
   ],
   "source": [
    "# adding fruits value in newlist\n",
    "fruits = [\"apple\", \"banana\", \"cherry\", \"kiwi\", \"mango\"]\n",
    "newlist = [i for i in fruits]   \n",
    "print(newlist)"
   ]
  },
  {
   "cell_type": "code",
   "execution_count": 17,
   "id": "322494ed",
   "metadata": {},
   "outputs": [
    {
     "name": "stdout",
     "output_type": "stream",
     "text": [
      "gud morning\n",
      "gud morning\n",
      "gud morning\n",
      "gud morning\n",
      "gud morning\n",
      "gud morning\n",
      "gud morning\n",
      "gud morning\n",
      "gud morning\n",
      "gud morning\n",
      "gud morning\n",
      "gud morning\n",
      "gud morning\n",
      "gud morning\n",
      "gud morning\n",
      "gud morning\n",
      "gud morning\n",
      "gud morning\n",
      "gud morning\n",
      "gud morning\n"
     ]
    }
   ],
   "source": [
    "for i in range(1,21):\n",
    "    print(\"gud morning\")"
   ]
  },
  {
   "cell_type": "code",
   "execution_count": 1,
   "id": "6978745a",
   "metadata": {},
   "outputs": [
    {
     "name": "stdout",
     "output_type": "stream",
     "text": [
      "[1, 8, 27, 64, 125, 216, 343, 512, 729, 1000]\n"
     ]
    }
   ],
   "source": [
    "cune = [i**3 for i in range(1,11)]\n",
    "print(cune)"
   ]
  },
  {
   "cell_type": "markdown",
   "id": "f996321c",
   "metadata": {},
   "source": [
    "# for and if in list"
   ]
  },
  {
   "cell_type": "code",
   "execution_count": 12,
   "id": "83600066",
   "metadata": {},
   "outputs": [
    {
     "name": "stdout",
     "output_type": "stream",
     "text": [
      "['banana', 'cherry', 'kiwi', 'mango']\n"
     ]
    }
   ],
   "source": [
    "# Only accept items that are not \"apple\":\n",
    "fruits = [\"apple\", \"banana\", \"cherry\", \"kiwi\", \"mango\"]\n",
    "newlis=[i for i in fruits if i!='apple']\n",
    "print(newlis)"
   ]
  },
  {
   "cell_type": "code",
   "execution_count": null,
   "id": "2663dc9a",
   "metadata": {},
   "outputs": [],
   "source": [
    "# we are printing the even numbers from 0 to 10."
   ]
  },
  {
   "cell_type": "code",
   "execution_count": 20,
   "id": "d87a45b9",
   "metadata": {},
   "outputs": [
    {
     "name": "stdout",
     "output_type": "stream",
     "text": [
      "[2, 4, 6, 8]\n"
     ]
    }
   ],
   "source": [
    "even_no = [i for i in range(1,10)if i%2==0]\n",
    "print(even_no)"
   ]
  },
  {
   "cell_type": "code",
   "execution_count": 13,
   "id": "207469e4",
   "metadata": {},
   "outputs": [
    {
     "name": "stdout",
     "output_type": "stream",
     "text": [
      "[0, 1, 2, 3, 4, 5, 6, 7, 8, 9]\n"
     ]
    }
   ],
   "source": [
    "\n",
    "num = [a for a in range(10)]\n",
    "print(num)"
   ]
  },
  {
   "cell_type": "code",
   "execution_count": 14,
   "id": "f072ddc0",
   "metadata": {},
   "outputs": [
    {
     "name": "stdout",
     "output_type": "stream",
     "text": [
      "[0, 1, 2, 3, 4]\n"
     ]
    }
   ],
   "source": [
    "# Accept only numbers lower than 5:\n",
    "num = [a for a in range(10) if a<5]\n",
    "print(num)"
   ]
  },
  {
   "cell_type": "markdown",
   "id": "97b804e4",
   "metadata": {},
   "source": [
    "# for and if then else in list"
   ]
  },
  {
   "cell_type": "code",
   "execution_count": 16,
   "id": "b00e7b01",
   "metadata": {},
   "outputs": [
    {
     "name": "stdout",
     "output_type": "stream",
     "text": [
      "['apple', 'orange', 'cherry', 'kiwi', 'mango']\n"
     ]
    }
   ],
   "source": [
    "# Return \"orange\" instead of \"banana\":\n",
    "fruits = [\"apple\", \"banana\", \"cherry\", \"kiwi\", \"mango\"]\n",
    "new = [l if l!='banana' else 'orange' for l in fruits]\n",
    "print(new)"
   ]
  },
  {
   "cell_type": "code",
   "execution_count": 45,
   "id": "8363de25",
   "metadata": {
    "scrolled": true
   },
   "outputs": [
    {
     "name": "stdout",
     "output_type": "stream",
     "text": [
      "['odd 51', 'even 52', 'odd 53', 'even 54', 'odd 55', 'even 56', 'odd 57', 'even 58', 'odd 59', 'even 60']\n"
     ]
    }
   ],
   "source": [
    "sol_evnno = ['even ' +str(i) if i%2 == 0 else 'odd ' +str(i) for i in range(51,61)]\n",
    "print(sol_evnno)"
   ]
  },
  {
   "cell_type": "code",
   "execution_count": null,
   "id": "bd559d42",
   "metadata": {},
   "outputs": [],
   "source": [
    "result = []\n",
    "\n",
    "for num in range(1, 11):\n",
    "    if num % 2 == 0:\n",
    "        result.append(num ** 2)\n",
    "    else:\n",
    "        result.append(num ** 3)\n",
    "print(result)"
   ]
  },
  {
   "cell_type": "code",
   "execution_count": 2,
   "id": "a5288e23",
   "metadata": {},
   "outputs": [
    {
     "name": "stdout",
     "output_type": "stream",
     "text": [
      "[1, 4, 27, 16, 125, 36, 343, 64, 729, 100]\n"
     ]
    }
   ],
   "source": [
    "result = [num **2 if num%2==0 else num**3 for num in range(1,11)]\n",
    "print(result)"
   ]
  },
  {
   "cell_type": "markdown",
   "id": "75988020",
   "metadata": {},
   "source": [
    "# 2 for loops in list comprehension"
   ]
  },
  {
   "cell_type": "code",
   "execution_count": 4,
   "id": "e0119bfa",
   "metadata": {},
   "outputs": [
    {
     "name": "stdout",
     "output_type": "stream",
     "text": [
      "[1, 4]\n"
     ]
    }
   ],
   "source": [
    "list1 = [1, 2, 3, 4]\n",
    "list2 = [1, 20, 30, 4]\n",
    "res =[y for x in list1 for y in list2 if x==y ]\n",
    "print(res)"
   ]
  },
  {
   "cell_type": "markdown",
   "id": "abdf91e8",
   "metadata": {},
   "source": [
    "# Dictionary comprehension"
   ]
  },
  {
   "cell_type": "markdown",
   "id": "7bdb06ec",
   "metadata": {},
   "source": [
    "# for in dict"
   ]
  },
  {
   "cell_type": "code",
   "execution_count": 50,
   "id": "42dc319f",
   "metadata": {},
   "outputs": [
    {
     "name": "stdout",
     "output_type": "stream",
     "text": [
      "{'apple': 120, 'banana': 65}\n"
     ]
    }
   ],
   "source": [
    "fruits = {'apple':100,'banana':45}\n",
    "fruit = {i:j+ 20 for i,j in fruits.items()}\n",
    "print(fruit)"
   ]
  },
  {
   "cell_type": "code",
   "execution_count": null,
   "id": "39c8507b",
   "metadata": {},
   "outputs": [],
   "source": [
    "cubes = {}\n",
    "\n",
    "for num in range(1, 11):\n",
    "    cubes[num] = num**3\n",
    "\n",
    "print(cubes)"
   ]
  },
  {
   "cell_type": "code",
   "execution_count": 6,
   "id": "9e7181bd",
   "metadata": {},
   "outputs": [
    {
     "name": "stdout",
     "output_type": "stream",
     "text": [
      "{1: 1, 2: 8, 3: 27, 4: 64, 5: 125, 6: 216, 7: 343, 8: 512, 9: 729, 10: 1000}\n"
     ]
    }
   ],
   "source": [
    "cube = {num:num **3 for num in range(1,11)}\n",
    "print(cube)"
   ]
  },
  {
   "cell_type": "markdown",
   "id": "82d331dc",
   "metadata": {},
   "source": [
    "# for and if and else in dict"
   ]
  },
  {
   "cell_type": "code",
   "execution_count": 1,
   "id": "0b726841",
   "metadata": {},
   "outputs": [
    {
     "name": "stdout",
     "output_type": "stream",
     "text": [
      "{'apple': 'pass', 'banana': 'fail'}\n"
     ]
    }
   ],
   "source": [
    "fruits = {'apple':100,'banana':45}\n",
    "fruit = {i:'pass' if j>60 else 'fail' for i,j in fruits.items()}\n",
    "print(fruit)"
   ]
  },
  {
   "cell_type": "code",
   "execution_count": null,
   "id": "7dd4c276",
   "metadata": {},
   "outputs": [],
   "source": []
  }
 ],
 "metadata": {
  "kernelspec": {
   "display_name": "Python 3 (ipykernel)",
   "language": "python",
   "name": "python3"
  },
  "language_info": {
   "codemirror_mode": {
    "name": "ipython",
    "version": 3
   },
   "file_extension": ".py",
   "mimetype": "text/x-python",
   "name": "python",
   "nbconvert_exporter": "python",
   "pygments_lexer": "ipython3",
   "version": "3.10.9"
  }
 },
 "nbformat": 4,
 "nbformat_minor": 5
}
