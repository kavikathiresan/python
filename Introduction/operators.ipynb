{
 "cells": [
  {
   "cell_type": "markdown",
   "id": "080e0d2b",
   "metadata": {},
   "source": [
    "# ARTHMETHIC OPERATORS"
   ]
  },
  {
   "cell_type": "code",
   "execution_count": 2,
   "id": "bf1df3be",
   "metadata": {},
   "outputs": [
    {
     "name": "stdout",
     "output_type": "stream",
     "text": [
      "enter the num:3\n",
      "enter the number:5\n",
      "8\n"
     ]
    }
   ],
   "source": [
    "# add\n",
    "a=int(input('enter the num:'))\n",
    "b=int(input('enter the number:'))\n",
    "print(a+b)"
   ]
  },
  {
   "cell_type": "code",
   "execution_count": 3,
   "id": "3bbf1a3f",
   "metadata": {},
   "outputs": [
    {
     "name": "stdout",
     "output_type": "stream",
     "text": [
      "enter the num:7\n",
      "enter the number:5\n",
      "2\n"
     ]
    }
   ],
   "source": [
    "# sub\n",
    "a=int(input('enter the num:'))\n",
    "b=int(input('enter the number:'))\n",
    "print(a-b)"
   ]
  },
  {
   "cell_type": "code",
   "execution_count": 4,
   "id": "2ae0bc46",
   "metadata": {},
   "outputs": [
    {
     "name": "stdout",
     "output_type": "stream",
     "text": [
      "enter the num:5\n",
      "enter the number:5\n",
      "25\n"
     ]
    }
   ],
   "source": [
    "# mul\n",
    "a=int(input('enter the num:'))\n",
    "b=int(input('enter the number:'))\n",
    "print(a*b)"
   ]
  },
  {
   "cell_type": "code",
   "execution_count": 6,
   "id": "6fb513c2",
   "metadata": {},
   "outputs": [
    {
     "name": "stdout",
     "output_type": "stream",
     "text": [
      "enter the num:4\n",
      "enter the number:2\n",
      "2.0\n"
     ]
    }
   ],
   "source": [
    "#divide -quoitent with decimal point\n",
    "a=int(input('enter the num:'))\n",
    "b=int(input('enter the number:'))\n",
    "print(a/b)"
   ]
  },
  {
   "cell_type": "code",
   "execution_count": 7,
   "id": "63412b91",
   "metadata": {},
   "outputs": [
    {
     "name": "stdout",
     "output_type": "stream",
     "text": [
      "enter the num:4\n",
      "enter the number:2\n",
      "2\n"
     ]
    }
   ],
   "source": [
    "# floor -int value only take\n",
    "a=int(input('enter the num:'))\n",
    "b=int(input('enter the number:'))\n",
    "print(a//b)"
   ]
  },
  {
   "cell_type": "code",
   "execution_count": 8,
   "id": "2bff526d",
   "metadata": {},
   "outputs": [
    {
     "name": "stdout",
     "output_type": "stream",
     "text": [
      "enter the num:4\n",
      "enter the number:2\n",
      "0\n"
     ]
    }
   ],
   "source": [
    "# Module remainder\n",
    "a=int(input('enter the num:'))\n",
    "b=int(input('enter the number:'))\n",
    "print(a%b)"
   ]
  },
  {
   "cell_type": "markdown",
   "id": "35d2d095",
   "metadata": {},
   "source": [
    "# RELATIONAL OPERATOR OR Comparsion "
   ]
  },
  {
   "cell_type": "code",
   "execution_count": 9,
   "id": "829173e3",
   "metadata": {},
   "outputs": [
    {
     "name": "stdout",
     "output_type": "stream",
     "text": [
      "False\n"
     ]
    }
   ],
   "source": [
    "# greater <\n",
    "a = 0\n",
    "b = 1\n",
    "print(a>b)"
   ]
  },
  {
   "cell_type": "code",
   "execution_count": 11,
   "id": "f4755f69",
   "metadata": {},
   "outputs": [
    {
     "name": "stdout",
     "output_type": "stream",
     "text": [
      "True\n"
     ]
    }
   ],
   "source": [
    "# greater <\n",
    "a = 10\n",
    "b = 1\n",
    "print(a>b)"
   ]
  },
  {
   "cell_type": "code",
   "execution_count": 13,
   "id": "9eb3b365",
   "metadata": {},
   "outputs": [
    {
     "name": "stdout",
     "output_type": "stream",
     "text": [
      "True\n"
     ]
    }
   ],
   "source": [
    "# lesser >\n",
    "a= 7\n",
    "b=15\n",
    "print(a<b)"
   ]
  },
  {
   "cell_type": "code",
   "execution_count": 14,
   "id": "55a10fe2",
   "metadata": {},
   "outputs": [
    {
     "name": "stdout",
     "output_type": "stream",
     "text": [
      "True\n"
     ]
    }
   ],
   "source": [
    "# eaual to ==\n",
    "a = 10\n",
    "b = 1\n",
    "print(a>=b)"
   ]
  },
  {
   "cell_type": "code",
   "execution_count": 15,
   "id": "7ac04310",
   "metadata": {},
   "outputs": [
    {
     "name": "stdout",
     "output_type": "stream",
     "text": [
      "True\n"
     ]
    }
   ],
   "source": [
    "a = 10\n",
    "b = 10\n",
    "print(a==b)"
   ]
  },
  {
   "cell_type": "code",
   "execution_count": 17,
   "id": "b746d760",
   "metadata": {},
   "outputs": [
    {
     "name": "stdout",
     "output_type": "stream",
     "text": [
      "True\n"
     ]
    }
   ],
   "source": [
    "a = 10\n",
    "b = 10\n",
    "print(a>=b)"
   ]
  },
  {
   "cell_type": "code",
   "execution_count": 18,
   "id": "433f7f64",
   "metadata": {},
   "outputs": [
    {
     "name": "stdout",
     "output_type": "stream",
     "text": [
      "True\n"
     ]
    }
   ],
   "source": [
    "a = 10\n",
    "b = 10\n",
    "print(a<=b)"
   ]
  },
  {
   "cell_type": "code",
   "execution_count": 22,
   "id": "14f57dcc",
   "metadata": {},
   "outputs": [
    {
     "name": "stdout",
     "output_type": "stream",
     "text": [
      "True\n"
     ]
    }
   ],
   "source": [
    "# not equal to\n",
    "a= 30\n",
    "b =20\n",
    "print(a!=b)"
   ]
  },
  {
   "cell_type": "code",
   "execution_count": 23,
   "id": "4f8a5802",
   "metadata": {},
   "outputs": [
    {
     "name": "stdout",
     "output_type": "stream",
     "text": [
      "False\n"
     ]
    }
   ],
   "source": [
    "a= 30\n",
    "b =30\n",
    "print(a!=b)"
   ]
  },
  {
   "cell_type": "markdown",
   "id": "4b086969",
   "metadata": {},
   "source": [
    "# pow function"
   ]
  },
  {
   "cell_type": "code",
   "execution_count": 26,
   "id": "54507b54",
   "metadata": {
    "scrolled": false
   },
   "outputs": [
    {
     "name": "stdout",
     "output_type": "stream",
     "text": [
      "3\n"
     ]
    }
   ],
   "source": [
    "# 2*2*2=8 8/5=3 remainder\n",
    "print(pow(2,3,5)) "
   ]
  },
  {
   "cell_type": "code",
   "execution_count": 28,
   "id": "39bb0c75",
   "metadata": {},
   "outputs": [
    {
     "name": "stdout",
     "output_type": "stream",
     "text": [
      "6\n"
     ]
    }
   ],
   "source": [
    "print(pow(3,3,7))"
   ]
  },
  {
   "cell_type": "code",
   "execution_count": 27,
   "id": "a3e7345d",
   "metadata": {
    "scrolled": true
   },
   "outputs": [
    {
     "name": "stdout",
     "output_type": "stream",
     "text": [
      "3\n"
     ]
    }
   ],
   "source": [
    "print(pow(3,3,4))"
   ]
  },
  {
   "cell_type": "code",
   "execution_count": 25,
   "id": "429c1741",
   "metadata": {},
   "outputs": [
    {
     "name": "stdout",
     "output_type": "stream",
     "text": [
      "8\n"
     ]
    }
   ],
   "source": [
    "print(pow(2,3))"
   ]
  },
  {
   "cell_type": "markdown",
   "id": "235950b1",
   "metadata": {},
   "source": [
    "# Membership"
   ]
  },
  {
   "cell_type": "code",
   "execution_count": 31,
   "id": "890f577f",
   "metadata": {},
   "outputs": [
    {
     "name": "stdout",
     "output_type": "stream",
     "text": [
      "True\n"
     ]
    }
   ],
   "source": [
    "x = \"Hello world\"\n",
    "print('Hello' in x)"
   ]
  },
  {
   "cell_type": "code",
   "execution_count": 32,
   "id": "083d2664",
   "metadata": {},
   "outputs": [
    {
     "name": "stdout",
     "output_type": "stream",
     "text": [
      "True\n"
     ]
    }
   ],
   "source": [
    "x = \"Hello world\"\n",
    "print('w' in x)"
   ]
  },
  {
   "cell_type": "code",
   "execution_count": 33,
   "id": "7e81f6d3",
   "metadata": {},
   "outputs": [
    {
     "name": "stdout",
     "output_type": "stream",
     "text": [
      "False\n"
     ]
    }
   ],
   "source": [
    "x = \"Hello world\"\n",
    "print('f' in x)"
   ]
  },
  {
   "cell_type": "code",
   "execution_count": 39,
   "id": "b476f093",
   "metadata": {},
   "outputs": [
    {
     "name": "stdout",
     "output_type": "stream",
     "text": [
      "True\n"
     ]
    }
   ],
   "source": [
    "x = \"Hello world\"\n",
    "print('f' not in x)"
   ]
  },
  {
   "cell_type": "markdown",
   "id": "d27209bc",
   "metadata": {},
   "source": [
    "# Identify "
   ]
  },
  {
   "cell_type": "code",
   "execution_count": 35,
   "id": "619696c5",
   "metadata": {},
   "outputs": [
    {
     "name": "stdout",
     "output_type": "stream",
     "text": [
      "False\n"
     ]
    }
   ],
   "source": [
    "x = [1,2,3,4,5]\n",
    "y = [6,2,3,4,5]\n",
    "print(x is y)"
   ]
  },
  {
   "cell_type": "code",
   "execution_count": 37,
   "id": "92888ab1",
   "metadata": {},
   "outputs": [
    {
     "name": "stdout",
     "output_type": "stream",
     "text": [
      "True\n"
     ]
    }
   ],
   "source": [
    "x = [1,2,3,4,5]\n",
    "y = [6,2,3,4,5]\n",
    "print(x is not y)"
   ]
  },
  {
   "cell_type": "markdown",
   "id": "c85e892a",
   "metadata": {},
   "source": [
    "# Import module\n"
   ]
  },
  {
   "cell_type": "code",
   "execution_count": 40,
   "id": "3638da1f",
   "metadata": {},
   "outputs": [
    {
     "name": "stdout",
     "output_type": "stream",
     "text": [
      "1\n"
     ]
    }
   ],
   "source": [
    "import math\n",
    "# ceil - round off\n",
    "\n",
    "a = 7\n",
    "b=9\n",
    "print(math.ceil(a/b))"
   ]
  },
  {
   "cell_type": "code",
   "execution_count": 41,
   "id": "17c36e80",
   "metadata": {},
   "outputs": [
    {
     "data": {
      "text/plain": [
       "120"
      ]
     },
     "execution_count": 41,
     "metadata": {},
     "output_type": "execute_result"
    }
   ],
   "source": [
    "import math\n",
    "math.factorial(5)"
   ]
  },
  {
   "cell_type": "code",
   "execution_count": 42,
   "id": "1f5e51c5",
   "metadata": {},
   "outputs": [
    {
     "data": {
      "text/plain": [
       "3"
      ]
     },
     "execution_count": 42,
     "metadata": {},
     "output_type": "execute_result"
    }
   ],
   "source": [
    "math.floor(10/3)"
   ]
  },
  {
   "cell_type": "code",
   "execution_count": null,
   "id": "9cb6f374",
   "metadata": {},
   "outputs": [],
   "source": []
  }
 ],
 "metadata": {
  "kernelspec": {
   "display_name": "Python 3 (ipykernel)",
   "language": "python",
   "name": "python3"
  },
  "language_info": {
   "codemirror_mode": {
    "name": "ipython",
    "version": 3
   },
   "file_extension": ".py",
   "mimetype": "text/x-python",
   "name": "python",
   "nbconvert_exporter": "python",
   "pygments_lexer": "ipython3",
   "version": "3.10.9"
  }
 },
 "nbformat": 4,
 "nbformat_minor": 5
}
