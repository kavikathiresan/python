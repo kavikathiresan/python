{
 "cells": [
  {
   "cell_type": "code",
   "execution_count": 3,
   "id": "7a72fd42",
   "metadata": {},
   "outputs": [],
   "source": [
    "import os\n"
   ]
  },
  {
   "cell_type": "code",
   "execution_count": 6,
   "id": "cc84f291",
   "metadata": {},
   "outputs": [
    {
     "name": "stdout",
     "output_type": "stream",
     "text": [
      "T:\\Top Mentor\\GitHub\n"
     ]
    }
   ],
   "source": [
    "os.getcwd # get current directory\n",
    "print(os.getcwd())"
   ]
  },
  {
   "cell_type": "code",
   "execution_count": 7,
   "id": "e522e4a2",
   "metadata": {},
   "outputs": [
    {
     "data": {
      "text/plain": [
       "['.ipynb_checkpoints',\n",
       " 'List_methods.ipynb',\n",
       " 'operators.ipynb',\n",
       " 'path_os.ipynb',\n",
       " 'print_values.ipynb',\n",
       " 'string_method.ipynb',\n",
       " 'tuple_set_dict.ipynb',\n",
       " 'Variable.ipynb']"
      ]
     },
     "execution_count": 7,
     "metadata": {},
     "output_type": "execute_result"
    }
   ],
   "source": [
    "os.listdir()"
   ]
  },
  {
   "cell_type": "code",
   "execution_count": 8,
   "id": "9f9e88b5",
   "metadata": {},
   "outputs": [
    {
     "data": {
      "text/plain": [
       "['.ipynb_checkpoints',\n",
       " 'List_methods.ipynb',\n",
       " 'operators.ipynb',\n",
       " 'path_os.ipynb',\n",
       " 'print_values.ipynb',\n",
       " 'string_method.ipynb',\n",
       " 'tuple_set_dict.ipynb',\n",
       " 'Variable.ipynb']"
      ]
     },
     "execution_count": 8,
     "metadata": {},
     "output_type": "execute_result"
    }
   ],
   "source": [
    "os.listdir('./')"
   ]
  },
  {
   "cell_type": "code",
   "execution_count": 9,
   "id": "5317cc49",
   "metadata": {},
   "outputs": [
    {
     "data": {
      "text/plain": [
       "['GitHub', 'Python']"
      ]
     },
     "execution_count": 9,
     "metadata": {},
     "output_type": "execute_result"
    }
   ],
   "source": [
    "os.listdir('./../')"
   ]
  },
  {
   "cell_type": "code",
   "execution_count": 10,
   "id": "b5a45ea0",
   "metadata": {},
   "outputs": [
    {
     "data": {
      "text/plain": [
       "['$RECYCLE.BIN',\n",
       " 'python',\n",
       " 'Software',\n",
       " 'System Volume Information',\n",
       " 'Top Mentor']"
      ]
     },
     "execution_count": 10,
     "metadata": {},
     "output_type": "execute_result"
    }
   ],
   "source": [
    "os.listdir('./../../')"
   ]
  },
  {
   "cell_type": "code",
   "execution_count": 11,
   "id": "bec08c94",
   "metadata": {},
   "outputs": [
    {
     "data": {
      "text/plain": [
       "['$RECYCLE.BIN',\n",
       " 'python',\n",
       " 'Software',\n",
       " 'System Volume Information',\n",
       " 'Top Mentor']"
      ]
     },
     "execution_count": 11,
     "metadata": {},
     "output_type": "execute_result"
    }
   ],
   "source": [
    "os.listdir('./../../../')"
   ]
  },
  {
   "cell_type": "code",
   "execution_count": null,
   "id": "d8387b9c",
   "metadata": {},
   "outputs": [],
   "source": []
  }
 ],
 "metadata": {
  "kernelspec": {
   "display_name": "Python 3 (ipykernel)",
   "language": "python",
   "name": "python3"
  },
  "language_info": {
   "codemirror_mode": {
    "name": "ipython",
    "version": 3
   },
   "file_extension": ".py",
   "mimetype": "text/x-python",
   "name": "python",
   "nbconvert_exporter": "python",
   "pygments_lexer": "ipython3",
   "version": "3.10.9"
  }
 },
 "nbformat": 4,
 "nbformat_minor": 5
}
