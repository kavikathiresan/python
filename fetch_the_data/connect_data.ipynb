{
 "cells": [
  {
   "cell_type": "code",
   "execution_count": null,
   "id": "9c81328a",
   "metadata": {},
   "outputs": [],
   "source": [
    "# as a developer I want to send the data to some other employee class"
   ]
  },
  {
   "cell_type": "code",
   "execution_count": 27,
   "id": "4fb60e8a",
   "metadata": {},
   "outputs": [],
   "source": [
    "from data_mul import connection"
   ]
  },
  {
   "cell_type": "code",
   "execution_count": 32,
   "id": "67b6ba4f",
   "metadata": {},
   "outputs": [
    {
     "data": {
      "text/plain": [
       "30"
      ]
     },
     "execution_count": 32,
     "metadata": {},
     "output_type": "execute_result"
    }
   ],
   "source": [
    "obj=connection()\n",
    "obj.multiplication(5,6)"
   ]
  },
  {
   "cell_type": "code",
   "execution_count": 29,
   "id": "acc8da1b",
   "metadata": {},
   "outputs": [
    {
     "data": {
      "text/plain": [
       "54"
      ]
     },
     "execution_count": 29,
     "metadata": {},
     "output_type": "execute_result"
    }
   ],
   "source": [
    "obj=connection()\n",
    "obj.multiplication(6,9)"
   ]
  },
  {
   "cell_type": "code",
   "execution_count": 33,
   "id": "35d325ed",
   "metadata": {},
   "outputs": [
    {
     "ename": "AttributeError",
     "evalue": "'connection' object has no attribute 'add'",
     "output_type": "error",
     "traceback": [
      "\u001b[1;31m---------------------------------------------------------------------------\u001b[0m",
      "\u001b[1;31mAttributeError\u001b[0m                            Traceback (most recent call last)",
      "Cell \u001b[1;32mIn[33], line 2\u001b[0m\n\u001b[0;32m      1\u001b[0m obj\u001b[38;5;241m=\u001b[39mconnection()\n\u001b[1;32m----> 2\u001b[0m \u001b[43mobj\u001b[49m\u001b[38;5;241;43m.\u001b[39;49m\u001b[43madd\u001b[49m(\u001b[38;5;241m10\u001b[39m,\u001b[38;5;241m151\u001b[39m)\n",
      "\u001b[1;31mAttributeError\u001b[0m: 'connection' object has no attribute 'add'"
     ]
    }
   ],
   "source": [
    "obj=connection()\n",
    "obj.add(10,151)"
   ]
  },
  {
   "cell_type": "code",
   "execution_count": null,
   "id": "f38d36c6",
   "metadata": {},
   "outputs": [],
   "source": []
  }
 ],
 "metadata": {
  "kernelspec": {
   "display_name": "Python 3 (ipykernel)",
   "language": "python",
   "name": "python3"
  },
  "language_info": {
   "codemirror_mode": {
    "name": "ipython",
    "version": 3
   },
   "file_extension": ".py",
   "mimetype": "text/x-python",
   "name": "python",
   "nbconvert_exporter": "python",
   "pygments_lexer": "ipython3",
   "version": "3.10.9"
  }
 },
 "nbformat": 4,
 "nbformat_minor": 5
}
