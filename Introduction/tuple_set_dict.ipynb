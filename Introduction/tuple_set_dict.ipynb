{
 "cells": [
  {
   "cell_type": "markdown",
   "id": "77f22572",
   "metadata": {},
   "source": [
    "## Tuple"
   ]
  },
  {
   "cell_type": "code",
   "execution_count": 2,
   "id": "e8f82d12",
   "metadata": {},
   "outputs": [
    {
     "name": "stdout",
     "output_type": "stream",
     "text": [
      "<class 'tuple'>\n"
     ]
    }
   ],
   "source": [
    "var = (\"Geeks\", \"for\", \"Geeks\")\n",
    "print(type(var))"
   ]
  },
  {
   "cell_type": "code",
   "execution_count": 1,
   "id": "5cb5ef30",
   "metadata": {},
   "outputs": [
    {
     "data": {
      "text/plain": [
       "('apple', 'banana', 'cherry', 'apple', 'cherry')"
      ]
     },
     "execution_count": 1,
     "metadata": {},
     "output_type": "execute_result"
    }
   ],
   "source": [
    "thistuple = (\"apple\", \"banana\", \"cherry\", \"apple\", \"cherry\")\n",
    "thistuple "
   ]
  },
  {
   "cell_type": "markdown",
   "id": "74bbe1a9",
   "metadata": {},
   "source": [
    "# index"
   ]
  },
  {
   "cell_type": "code",
   "execution_count": 2,
   "id": "f04882be",
   "metadata": {},
   "outputs": [
    {
     "name": "stdout",
     "output_type": "stream",
     "text": [
      "cherry\n"
     ]
    }
   ],
   "source": [
    "thistuple = (\"apple\", \"banana\", \"cherry\")\n",
    "print(thistuple[2])"
   ]
  },
  {
   "cell_type": "code",
   "execution_count": 3,
   "id": "ebab9872",
   "metadata": {},
   "outputs": [
    {
     "name": "stdout",
     "output_type": "stream",
     "text": [
      "banana\n"
     ]
    }
   ],
   "source": [
    "thistuple = (\"apple\", \"banana\", \"cherry\")\n",
    "print(thistuple[-2])"
   ]
  },
  {
   "cell_type": "code",
   "execution_count": 4,
   "id": "f15a016a",
   "metadata": {},
   "outputs": [
    {
     "name": "stdout",
     "output_type": "stream",
     "text": [
      "('cherry', 'orange', 'kiwi', 'melon')\n"
     ]
    }
   ],
   "source": [
    "thistuple = (\"apple\", \"banana\", \"cherry\", \"orange\", \"kiwi\", \"melon\", \"mango\")\n",
    "print(thistuple[2:6])"
   ]
  },
  {
   "cell_type": "code",
   "execution_count": 5,
   "id": "4f357aad",
   "metadata": {},
   "outputs": [
    {
     "data": {
      "text/plain": [
       "3"
      ]
     },
     "execution_count": 5,
     "metadata": {},
     "output_type": "execute_result"
    }
   ],
   "source": [
    "mytuple = (1, 2, 3, 4, 5)\n",
    "mytuple[2]"
   ]
  },
  {
   "cell_type": "markdown",
   "id": "33875498",
   "metadata": {},
   "source": [
    "# count"
   ]
  },
  {
   "cell_type": "code",
   "execution_count": 6,
   "id": "73307a2b",
   "metadata": {},
   "outputs": [
    {
     "data": {
      "text/plain": [
       "2"
      ]
     },
     "execution_count": 6,
     "metadata": {},
     "output_type": "execute_result"
    }
   ],
   "source": [
    "mytuple = (1, 2, 3, 4, 2, 3)\n",
    "mytuple.count(2)"
   ]
  },
  {
   "cell_type": "code",
   "execution_count": 7,
   "id": "07a38ea6",
   "metadata": {},
   "outputs": [
    {
     "data": {
      "text/plain": [
       "2"
      ]
     },
     "execution_count": 7,
     "metadata": {},
     "output_type": "execute_result"
    }
   ],
   "source": [
    "my_tuple = ('a', 'p', 'p', 'l', 'e',)\n",
    "my_tuple.count('p')"
   ]
  },
  {
   "cell_type": "markdown",
   "id": "a5a88a19",
   "metadata": {},
   "source": [
    "# SET"
   ]
  },
  {
   "cell_type": "code",
   "execution_count": 8,
   "id": "a3131526",
   "metadata": {},
   "outputs": [
    {
     "name": "stdout",
     "output_type": "stream",
     "text": [
      "{'banana', 'apple', 'cherry'}\n"
     ]
    }
   ],
   "source": [
    "# randomly allocated\n",
    "thisset = {\"apple\", \"banana\", \"cherry\"}\n",
    "print(thisset)"
   ]
  },
  {
   "cell_type": "code",
   "execution_count": 9,
   "id": "92d9ee8b",
   "metadata": {},
   "outputs": [
    {
     "name": "stdout",
     "output_type": "stream",
     "text": [
      "{'banana', 'apple', 'cherry'}\n"
     ]
    }
   ],
   "source": [
    "# duplicate not allowed\n",
    "thisset = {\"apple\", \"banana\", \"cherry\", \"apple\"}\n",
    "print(thisset)"
   ]
  },
  {
   "cell_type": "code",
   "execution_count": 10,
   "id": "6494b260",
   "metadata": {},
   "outputs": [
    {
     "name": "stdout",
     "output_type": "stream",
     "text": [
      "<class 'set'>\n"
     ]
    }
   ],
   "source": [
    "thisset = {\"apple\", \"banana\", \"cherry\"}\n",
    "print(type(thisset))"
   ]
  },
  {
   "cell_type": "markdown",
   "id": "e9479967",
   "metadata": {},
   "source": [
    "# add"
   ]
  },
  {
   "cell_type": "code",
   "execution_count": 11,
   "id": "c509f836",
   "metadata": {},
   "outputs": [
    {
     "data": {
      "text/plain": [
       "{'Archi', 'Daxit', 'Idrish', 'Jay'}"
      ]
     },
     "execution_count": 11,
     "metadata": {},
     "output_type": "execute_result"
    }
   ],
   "source": [
    "people = {\"Jay\", \"Idrish\", \"Archi\"}\n",
    "people.add(\"Daxit\")\n",
    "people"
   ]
  },
  {
   "cell_type": "code",
   "execution_count": 17,
   "id": "422fb753",
   "metadata": {},
   "outputs": [
    {
     "data": {
      "text/plain": [
       "{'April', 'February', 'January', 'June', 'March', 'May', 'november'}"
      ]
     },
     "execution_count": 17,
     "metadata": {},
     "output_type": "execute_result"
    }
   ],
   "source": [
    "month={\"January\",\"February\", \"March\", \"April\", \"May\", \"June\"}\n",
    "month.add(\"november\")\n",
    "month"
   ]
  },
  {
   "cell_type": "markdown",
   "id": "76c15bef",
   "metadata": {},
   "source": [
    "month={\"January\",\"February\", \"March\", \"April\", \"May\", \"June\"}\n",
    "month.update('9')\n",
    "month"
   ]
  },
  {
   "cell_type": "code",
   "execution_count": 26,
   "id": "a7d3d6c7",
   "metadata": {},
   "outputs": [
    {
     "data": {
      "text/plain": [
       "{12, 21, 24, 34, 54}"
      ]
     },
     "execution_count": 26,
     "metadata": {},
     "output_type": "execute_result"
    }
   ],
   "source": [
    "numbers = {21, 34, 54, 12}\n",
    "numbers.add(24)\n",
    "numbers"
   ]
  },
  {
   "cell_type": "markdown",
   "id": "aa4c488f",
   "metadata": {},
   "source": [
    "# update"
   ]
  },
  {
   "cell_type": "code",
   "execution_count": 28,
   "id": "439af01f",
   "metadata": {},
   "outputs": [
    {
     "data": {
      "text/plain": [
       "{'Lacoste', 'Ralph Lauren', 'apple', 'google'}"
      ]
     },
     "execution_count": 28,
     "metadata": {},
     "output_type": "execute_result"
    }
   ],
   "source": [
    "companies = {'Lacoste', 'Ralph Lauren'}\n",
    "tech_companies = ['apple', 'google', 'apple']\n",
    "companies.update(tech_companies)\n",
    "companies"
   ]
  },
  {
   "cell_type": "markdown",
   "id": "d133bc26",
   "metadata": {},
   "source": [
    "# union"
   ]
  },
  {
   "cell_type": "code",
   "execution_count": 12,
   "id": "dea784de",
   "metadata": {},
   "outputs": [
    {
     "name": "stdout",
     "output_type": "stream",
     "text": [
      "{'Idrish', 'Archil', 'Karan', 'Jay', 'Arjun'}\n"
     ]
    }
   ],
   "source": [
    "people = {\"Jay\", \"Idrish\", \"Archil\"}\n",
    "vampires = {\"Karan\", \"Arjun\"}\n",
    "print(people.union(vampires))"
   ]
  },
  {
   "cell_type": "markdown",
   "id": "3133181a",
   "metadata": {},
   "source": [
    "# Intersection"
   ]
  },
  {
   "cell_type": "code",
   "execution_count": 13,
   "id": "d91a8b31",
   "metadata": {},
   "outputs": [
    {
     "name": "stdout",
     "output_type": "stream",
     "text": [
      "{43, 6, 7}\n"
     ]
    }
   ],
   "source": [
    "set1 = {4,5,6,7,43,42}\n",
    "set2 = {3,6,7,43,21,10}\n",
    "print(set2.intersection(set1))"
   ]
  },
  {
   "cell_type": "markdown",
   "id": "7f53c5be",
   "metadata": {},
   "source": [
    "# DELETE"
   ]
  },
  {
   "cell_type": "code",
   "execution_count": 21,
   "id": "64e14609",
   "metadata": {},
   "outputs": [
    {
     "data": {
      "text/plain": [
       "{'April', 'February', 'January', 'June', 'March', 'May'}"
      ]
     },
     "execution_count": 21,
     "metadata": {},
     "output_type": "execute_result"
    }
   ],
   "source": [
    "# delete\n",
    " # discard\n",
    "    \n",
    "month={\"January\",\"February\", \"March\", \"April\", \"May\", \"June\"}\n",
    "month.discard('july')\n",
    "month"
   ]
  },
  {
   "cell_type": "code",
   "execution_count": 29,
   "id": "d2755d62",
   "metadata": {},
   "outputs": [
    {
     "data": {
      "text/plain": [
       "{'Java', 'Swift'}"
      ]
     },
     "execution_count": 29,
     "metadata": {},
     "output_type": "execute_result"
    }
   ],
   "source": [
    "languages = {'Swift', 'Java', 'Python'}\n",
    "languages.remove('Python')\n",
    "languages"
   ]
  },
  {
   "cell_type": "code",
   "execution_count": 22,
   "id": "ff619548",
   "metadata": {},
   "outputs": [
    {
     "data": {
      "text/plain": [
       "{'April', 'February', 'January', 'June', 'March'}"
      ]
     },
     "execution_count": 22,
     "metadata": {},
     "output_type": "execute_result"
    }
   ],
   "source": [
    "month={\"January\",\"February\", \"March\", \"April\", \"May\", \"June\"}\n",
    "month.discard('May')\n",
    "month"
   ]
  },
  {
   "cell_type": "code",
   "execution_count": 24,
   "id": "4dd05479",
   "metadata": {},
   "outputs": [
    {
     "data": {
      "text/plain": [
       "{'April', 'February', 'January', 'June', 'May'}"
      ]
     },
     "execution_count": 24,
     "metadata": {},
     "output_type": "execute_result"
    }
   ],
   "source": [
    "month={\"January\",\"February\", \"March\", \"April\", \"May\", \"June\"}\n",
    "month.remove('March')\n",
    "month"
   ]
  },
  {
   "cell_type": "code",
   "execution_count": 25,
   "id": "0023f56d",
   "metadata": {},
   "outputs": [
    {
     "data": {
      "text/plain": [
       "{'April', 'February', 'January', 'June', 'May'}"
      ]
     },
     "execution_count": 25,
     "metadata": {},
     "output_type": "execute_result"
    }
   ],
   "source": [
    "month={\"January\",\"February\", \"March\", \"April\", \"May\", \"June\"}\n",
    "month.pop()\n",
    "month"
   ]
  },
  {
   "cell_type": "markdown",
   "id": "24882b8b",
   "metadata": {},
   "source": [
    "# Dictionary"
   ]
  },
  {
   "cell_type": "code",
   "execution_count": 30,
   "id": "759b330a",
   "metadata": {},
   "outputs": [
    {
     "name": "stdout",
     "output_type": "stream",
     "text": [
      "{'Name': 'John', 'Age': 29, 'salary': 25000, 'Company': 'GOOGLE'}\n"
     ]
    }
   ],
   "source": [
    "Employee = {\"Name\": \"John\", \"Age\": 29, \"salary\":25000,\"Company\":\"GOOGLE\"}\n",
    "print(Employee)"
   ]
  },
  {
   "cell_type": "code",
   "execution_count": 31,
   "id": "182da654",
   "metadata": {},
   "outputs": [
    {
     "data": {
      "text/plain": [
       "dict_keys(['fname', 'lname', 'age', 'spouse', 'children', 'pets'])"
      ]
     },
     "execution_count": 31,
     "metadata": {},
     "output_type": "execute_result"
    }
   ],
   "source": [
    "person={'fname': 'Joe', 'lname': 'Fonebone', 'age': 51, 'spouse': 'Edna',\n",
    "'children': ['Ralph', 'Betty', 'Joey'], 'pets': {'dog': 'Fido', 'cat': 'Sox'}}\n",
    "person.keys()"
   ]
  },
  {
   "cell_type": "code",
   "execution_count": 32,
   "id": "84bc863b",
   "metadata": {},
   "outputs": [
    {
     "data": {
      "text/plain": [
       "dict_values(['Joe', 'Fonebone', 51, 'Edna', ['Ralph', 'Betty', 'Joey'], {'dog': 'Fido', 'cat': 'Sox'}])"
      ]
     },
     "execution_count": 32,
     "metadata": {},
     "output_type": "execute_result"
    }
   ],
   "source": [
    "person={'fname': 'Joe', 'lname': 'Fonebone', 'age': 51, 'spouse': 'Edna',\n",
    "'children': ['Ralph', 'Betty', 'Joey'], 'pets': {'dog': 'Fido', 'cat': 'Sox'}}\n",
    "person.values()"
   ]
  },
  {
   "cell_type": "code",
   "execution_count": null,
   "id": "7fc82dab",
   "metadata": {},
   "outputs": [],
   "source": [
    "# get\n",
    "# to get a single value"
   ]
  },
  {
   "cell_type": "code",
   "execution_count": 35,
   "id": "ebb43839",
   "metadata": {},
   "outputs": [
    {
     "data": {
      "text/plain": [
       "'Joe'"
      ]
     },
     "execution_count": 35,
     "metadata": {},
     "output_type": "execute_result"
    }
   ],
   "source": [
    "person['fname']"
   ]
  },
  {
   "cell_type": "code",
   "execution_count": 36,
   "id": "f50d77a0",
   "metadata": {},
   "outputs": [
    {
     "data": {
      "text/plain": [
       "{'dog': 'Fido', 'cat': 'Sox'}"
      ]
     },
     "execution_count": 36,
     "metadata": {},
     "output_type": "execute_result"
    }
   ],
   "source": [
    "person['pets']"
   ]
  },
  {
   "cell_type": "code",
   "execution_count": 2,
   "id": "63a5e80c",
   "metadata": {},
   "outputs": [
    {
     "data": {
      "text/plain": [
       "['Ralph', 'Betty', 'Joey']"
      ]
     },
     "execution_count": 2,
     "metadata": {},
     "output_type": "execute_result"
    }
   ],
   "source": [
    "person.get('children')"
   ]
  },
  {
   "cell_type": "code",
   "execution_count": 3,
   "id": "741fc3fe",
   "metadata": {},
   "outputs": [
    {
     "data": {
      "text/plain": [
       "{'dog': 'Fido', 'cat': 'Sox'}"
      ]
     },
     "execution_count": 3,
     "metadata": {},
     "output_type": "execute_result"
    }
   ],
   "source": [
    "person['pets']"
   ]
  },
  {
   "cell_type": "markdown",
   "id": "27697fe2",
   "metadata": {},
   "source": [
    "# update"
   ]
  },
  {
   "cell_type": "code",
   "execution_count": 19,
   "id": "74f21096",
   "metadata": {},
   "outputs": [
    {
     "data": {
      "text/plain": [
       "{'fname': 'Joe',\n",
       " 'lname': 'Fonebone',\n",
       " 'age': 51,\n",
       " 'spouse': 'Edna',\n",
       " 'children': ['Ralph', 'Betty', 'Joey'],\n",
       " 'pets': {'dog': 'Fido', 'cat': 'Sox'},\n",
       " 'color': ('blue', 'red', 'yellow'),\n",
       " 'chocolate': ('dairymilk', 'kit-kat')}"
      ]
     },
     "execution_count": 19,
     "metadata": {},
     "output_type": "execute_result"
    }
   ],
   "source": [
    "# 2 type of method\n",
    "person.update({'chocolate':('dairymilk','kit-kat')})\n",
    "person"
   ]
  },
  {
   "cell_type": "code",
   "execution_count": 23,
   "id": "eb6ff179",
   "metadata": {},
   "outputs": [
    {
     "data": {
      "text/plain": [
       "{'fname': 'Joe',\n",
       " 'lname': 'Fonebone',\n",
       " 'age': 51,\n",
       " 'spouse': 'Edna',\n",
       " 'children': ['Ralph', 'Betty', 'Joey'],\n",
       " 'pets': {'dog': 'Fido', 'cat': 'Sox'},\n",
       " 'color': ('blue', 'red', 'yellow')}"
      ]
     },
     "execution_count": 23,
     "metadata": {},
     "output_type": "execute_result"
    }
   ],
   "source": [
    "person={'fname': 'Joe', 'lname': 'Fonebone', 'age': 51, 'spouse': 'Edna',\n",
    "'children': ['Ralph', 'Betty', 'Joey'], 'pets': {'dog': 'Fido', 'cat': 'Sox'}}\n",
    "person['color']=('blue','red','yellow')\n",
    "person\n"
   ]
  },
  {
   "cell_type": "markdown",
   "id": "1a1923f2",
   "metadata": {},
   "source": [
    "# pop"
   ]
  },
  {
   "cell_type": "code",
   "execution_count": 24,
   "id": "3494e11d",
   "metadata": {},
   "outputs": [
    {
     "data": {
      "text/plain": [
       "{'fname': 'Joe',\n",
       " 'lname': 'Fonebone',\n",
       " 'age': 51,\n",
       " 'spouse': 'Edna',\n",
       " 'children': ['Ralph', 'Betty', 'Joey'],\n",
       " 'pets': {'dog': 'Fido', 'cat': 'Sox'},\n",
       " 'color': ('blue', 'red', 'yellow')}"
      ]
     },
     "execution_count": 24,
     "metadata": {},
     "output_type": "execute_result"
    }
   ],
   "source": [
    "# pop,pop items\n",
    "person"
   ]
  },
  {
   "cell_type": "code",
   "execution_count": 26,
   "id": "3339363e",
   "metadata": {},
   "outputs": [
    {
     "data": {
      "text/plain": [
       "{'fname': 'Joe',\n",
       " 'lname': 'Fonebone',\n",
       " 'age': 51,\n",
       " 'spouse': 'Edna',\n",
       " 'children': ['Ralph', 'Betty', 'Joey'],\n",
       " 'pets': {'dog': 'Fido', 'cat': 'Sox'}}"
      ]
     },
     "execution_count": 26,
     "metadata": {},
     "output_type": "execute_result"
    }
   ],
   "source": [
    "person.pop('color')\n",
    "person"
   ]
  },
  {
   "cell_type": "code",
   "execution_count": 27,
   "id": "75340b29",
   "metadata": {},
   "outputs": [
    {
     "data": {
      "text/plain": [
       "{'fname': 'Joe',\n",
       " 'lname': 'Fonebone',\n",
       " 'age': 51,\n",
       " 'spouse': 'Edna',\n",
       " 'children': ['Ralph', 'Betty', 'Joey']}"
      ]
     },
     "execution_count": 27,
     "metadata": {},
     "output_type": "execute_result"
    }
   ],
   "source": [
    "person.popitem()\n",
    "person"
   ]
  },
  {
   "cell_type": "markdown",
   "id": "c797d5a7",
   "metadata": {},
   "source": [
    "# normal delete"
   ]
  },
  {
   "cell_type": "code",
   "execution_count": 34,
   "id": "a60a1322",
   "metadata": {},
   "outputs": [
    {
     "data": {
      "text/plain": [
       "{'fname': 'Joe',\n",
       " 'lname': 'Fonebone',\n",
       " 'age': 51,\n",
       " 'spouse': 'Edna',\n",
       " 'children': ['Ralph', 'Betty', 'Joey']}"
      ]
     },
     "execution_count": 34,
     "metadata": {},
     "output_type": "execute_result"
    }
   ],
   "source": [
    "person"
   ]
  },
  {
   "cell_type": "code",
   "execution_count": 40,
   "id": "83f90285",
   "metadata": {},
   "outputs": [],
   "source": [
    "del person['age']"
   ]
  },
  {
   "cell_type": "code",
   "execution_count": 41,
   "id": "48ad9096",
   "metadata": {},
   "outputs": [
    {
     "data": {
      "text/plain": [
       "{'fname': 'Joe', 'lname': 'Fonebone', 'children': ['Ralph', 'Betty', 'Joey']}"
      ]
     },
     "execution_count": 41,
     "metadata": {},
     "output_type": "execute_result"
    }
   ],
   "source": [
    "person"
   ]
  },
  {
   "cell_type": "markdown",
   "id": "5530327d",
   "metadata": {},
   "source": [
    "# copy"
   ]
  },
  {
   "cell_type": "code",
   "execution_count": 32,
   "id": "0f32787e",
   "metadata": {},
   "outputs": [
    {
     "data": {
      "text/plain": [
       "{'fname': 'Joe',\n",
       " 'lname': 'Fonebone',\n",
       " 'age': 51,\n",
       " 'spouse': 'Edna',\n",
       " 'children': ['Ralph', 'Betty', 'Joey']}"
      ]
     },
     "execution_count": 32,
     "metadata": {},
     "output_type": "execute_result"
    }
   ],
   "source": [
    "persons=person.copy()\n",
    "persons\n"
   ]
  },
  {
   "cell_type": "code",
   "execution_count": 31,
   "id": "e28dc3c5",
   "metadata": {},
   "outputs": [
    {
     "data": {
      "text/plain": [
       "{'fname': 'Joe',\n",
       " 'lname': 'Fonebone',\n",
       " 'age': 51,\n",
       " 'spouse': 'Edna',\n",
       " 'children': ['Ralph', 'Betty', 'Joey']}"
      ]
     },
     "execution_count": 31,
     "metadata": {},
     "output_type": "execute_result"
    }
   ],
   "source": [
    "person"
   ]
  },
  {
   "cell_type": "code",
   "execution_count": null,
   "id": "d4781f22",
   "metadata": {},
   "outputs": [],
   "source": []
  }
 ],
 "metadata": {
  "kernelspec": {
   "display_name": "Python 3 (ipykernel)",
   "language": "python",
   "name": "python3"
  },
  "language_info": {
   "codemirror_mode": {
    "name": "ipython",
    "version": 3
   },
   "file_extension": ".py",
   "mimetype": "text/x-python",
   "name": "python",
   "nbconvert_exporter": "python",
   "pygments_lexer": "ipython3",
   "version": "3.10.9"
  }
 },
 "nbformat": 4,
 "nbformat_minor": 5
}
