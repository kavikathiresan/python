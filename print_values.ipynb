{
 "cells": [
  {
   "cell_type": "code",
   "execution_count": 9,
   "id": "b0fed496",
   "metadata": {},
   "outputs": [
    {
     "name": "stdout",
     "output_type": "stream",
     "text": [
      "23\n"
     ]
    }
   ],
   "source": [
    "e = 23\n",
    "print(e)"
   ]
  },
  {
   "cell_type": "markdown",
   "id": "7c199265",
   "metadata": {},
   "source": [
    "## python is case senitive"
   ]
  },
  {
   "cell_type": "code",
   "execution_count": 11,
   "id": "6bfa5f71",
   "metadata": {},
   "outputs": [
    {
     "ename": "NameError",
     "evalue": "name 'g' is not defined",
     "output_type": "error",
     "traceback": [
      "\u001b[1;31m---------------------------------------------------------------------------\u001b[0m",
      "\u001b[1;31mNameError\u001b[0m                                 Traceback (most recent call last)",
      "Cell \u001b[1;32mIn[11], line 2\u001b[0m\n\u001b[0;32m      1\u001b[0m G \u001b[38;5;241m=\u001b[39m \u001b[38;5;241m34\u001b[39m\n\u001b[1;32m----> 2\u001b[0m \u001b[38;5;28mprint\u001b[39m(\u001b[43mg\u001b[49m)\n",
      "\u001b[1;31mNameError\u001b[0m: name 'g' is not defined"
     ]
    }
   ],
   "source": [
    "G = 34\n",
    "print(g)"
   ]
  },
  {
   "cell_type": "code",
   "execution_count": 12,
   "id": "12ad0000",
   "metadata": {},
   "outputs": [
    {
     "data": {
      "text/plain": [
       "'Hello world'"
      ]
     },
     "execution_count": 12,
     "metadata": {},
     "output_type": "execute_result"
    }
   ],
   "source": [
    "L = \"Hello world\"\n",
    "L"
   ]
  },
  {
   "cell_type": "code",
   "execution_count": 13,
   "id": "c586fb85",
   "metadata": {},
   "outputs": [
    {
     "name": "stdout",
     "output_type": "stream",
     "text": [
      "257\n"
     ]
    }
   ],
   "source": [
    "b = 134 + 123\n",
    "print(b)"
   ]
  },
  {
   "cell_type": "markdown",
   "id": "20c9ba0b",
   "metadata": {},
   "source": [
    "# deep in print condition"
   ]
  },
  {
   "cell_type": "markdown",
   "id": "ad3b49e8",
   "metadata": {},
   "source": [
    "comma (,) are separted by one space"
   ]
  },
  {
   "cell_type": "code",
   "execution_count": 1,
   "id": "2ab487c7",
   "metadata": {},
   "outputs": [
    {
     "name": "stdout",
     "output_type": "stream",
     "text": [
      "my age is: 23\n"
     ]
    }
   ],
   "source": [
    "age = 23\n",
    "print(\"my age is:\",age)"
   ]
  },
  {
   "cell_type": "markdown",
   "id": "2f861549",
   "metadata": {},
   "source": [
    "+  not given space"
   ]
  },
  {
   "cell_type": "code",
   "execution_count": 4,
   "id": "27b1908d",
   "metadata": {},
   "outputs": [
    {
     "name": "stdout",
     "output_type": "stream",
     "text": [
      "my age is:23\n"
     ]
    }
   ],
   "source": [
    "age = 23\n",
    "print(\"my age is:\"+str(age))"
   ]
  },
  {
   "cell_type": "code",
   "execution_count": null,
   "id": "5cedba36",
   "metadata": {},
   "outputs": [],
   "source": []
  }
 ],
 "metadata": {
  "kernelspec": {
   "display_name": "Python 3 (ipykernel)",
   "language": "python",
   "name": "python3"
  },
  "language_info": {
   "codemirror_mode": {
    "name": "ipython",
    "version": 3
   },
   "file_extension": ".py",
   "mimetype": "text/x-python",
   "name": "python",
   "nbconvert_exporter": "python",
   "pygments_lexer": "ipython3",
   "version": "3.10.9"
  }
 },
 "nbformat": 4,
 "nbformat_minor": 5
}
