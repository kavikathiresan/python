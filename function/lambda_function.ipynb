{
 "cells": [
  {
   "cell_type": "code",
   "execution_count": 9,
   "id": "4bf7b72e",
   "metadata": {},
   "outputs": [
    {
     "name": "stdout",
     "output_type": "stream",
     "text": [
      "30\n"
     ]
    }
   ],
   "source": [
    "lam = lambda x,y : x+ y\n",
    "a = 10\n",
    "b = 20\n",
    "print(lam(a,b))"
   ]
  },
  {
   "cell_type": "code",
   "execution_count": 10,
   "id": "db032aeb",
   "metadata": {},
   "outputs": [
    {
     "name": "stdout",
     "output_type": "stream",
     "text": [
      "15\n"
     ]
    }
   ],
   "source": [
    "x = lambda a : a + 10\n",
    "print(x(5))"
   ]
  },
  {
   "cell_type": "code",
   "execution_count": 11,
   "id": "560c0a28",
   "metadata": {},
   "outputs": [
    {
     "name": "stdout",
     "output_type": "stream",
     "text": [
      "30\n"
     ]
    }
   ],
   "source": [
    "x = lambda x ,y: x * y\n",
    "print(x(5,6))"
   ]
  },
  {
   "cell_type": "code",
   "execution_count": 12,
   "id": "2f0cc9f1",
   "metadata": {},
   "outputs": [
    {
     "name": "stdout",
     "output_type": "stream",
     "text": [
      "13\n"
     ]
    }
   ],
   "source": [
    "x =  lambda a,b,c:a+b+c\n",
    "print(x(5,6,2))"
   ]
  },
  {
   "cell_type": "code",
   "execution_count": 13,
   "id": "a5e44e4e",
   "metadata": {},
   "outputs": [
    {
     "name": "stdout",
     "output_type": "stream",
     "text": [
      "Hello World\n"
     ]
    }
   ],
   "source": [
    "greet = lambda : print('Hello World')\n",
    "greet()"
   ]
  },
  {
   "cell_type": "code",
   "execution_count": 14,
   "id": "29d8ba6a",
   "metadata": {},
   "outputs": [
    {
     "name": "stdout",
     "output_type": "stream",
     "text": [
      "Hey there, kavi\n"
     ]
    }
   ],
   "source": [
    "greet_user = lambda name : print('Hey there,', name)\n",
    "greet_user(\"kavi\")"
   ]
  },
  {
   "cell_type": "code",
   "execution_count": 17,
   "id": "96266e21",
   "metadata": {},
   "outputs": [
    {
     "name": "stdout",
     "output_type": "stream",
     "text": [
      "14\n"
     ]
    }
   ],
   "source": [
    "adds = lambda num : num+4\n",
    "print(adds(10))    "
   ]
  },
  {
   "cell_type": "code",
   "execution_count": 19,
   "id": "6166488e",
   "metadata": {},
   "outputs": [
    {
     "name": "stdout",
     "output_type": "stream",
     "text": [
      "125\n"
     ]
    }
   ],
   "source": [
    "cube = lambda num : num*num*num\n",
    "print(cube(5))"
   ]
  },
  {
   "cell_type": "code",
   "execution_count": 20,
   "id": "452b4329",
   "metadata": {},
   "outputs": [
    {
     "name": "stdout",
     "output_type": "stream",
     "text": [
      "64\n"
     ]
    }
   ],
   "source": [
    "cube = lambda num : num*num*num\n",
    "a =4\n",
    "print(cube(a))"
   ]
  },
  {
   "cell_type": "markdown",
   "id": "899c2244",
   "metadata": {},
   "source": [
    "# for loop with lambda"
   ]
  },
  {
   "cell_type": "code",
   "execution_count": 32,
   "id": "3c7e9426",
   "metadata": {},
   "outputs": [
    {
     "name": "stdout",
     "output_type": "stream",
     "text": [
      "2\n",
      "4\n",
      "6\n",
      "8\n",
      "10\n",
      "12\n",
      "14\n",
      "16\n",
      "18\n",
      "20\n"
     ]
    }
   ],
   "source": [
    "for i in range(1,11):\n",
    "        print(i*2)"
   ]
  },
  {
   "cell_type": "code",
   "execution_count": 1,
   "id": "ca2fa927",
   "metadata": {},
   "outputs": [
    {
     "name": "stdout",
     "output_type": "stream",
     "text": [
      "2 * 1 = 2\n",
      "2 * 2 = 4\n",
      "2 * 3 = 6\n",
      "2 * 4 = 8\n",
      "2 * 5 = 10\n",
      "2 * 6 = 12\n",
      "2 * 7 = 14\n",
      "2 * 8 = 16\n",
      "2 * 9 = 18\n",
      "2 * 10 = 20\n"
     ]
    }
   ],
   "source": [
    "sol = lambda x,y : x*y\n",
    "x= 2\n",
    "for i in range(1,11):\n",
    "    print(x,'*',i,'=',i*2)\n"
   ]
  },
  {
   "cell_type": "markdown",
   "id": "6991857a",
   "metadata": {},
   "source": [
    "# 2 table with fun"
   ]
  },
  {
   "cell_type": "code",
   "execution_count": 43,
   "id": "81bcbe6c",
   "metadata": {},
   "outputs": [
    {
     "name": "stdout",
     "output_type": "stream",
     "text": [
      "2 * 1 = 2\n",
      "2 * 2 = 4\n",
      "2 * 3 = 6\n",
      "2 * 4 = 8\n",
      "2 * 5 = 10\n",
      "2 * 6 = 12\n",
      "2 * 7 = 14\n",
      "2 * 8 = 16\n",
      "2 * 9 = 18\n",
      "2 * 10 = 20\n"
     ]
    }
   ],
   "source": [
    "def table(a):\n",
    "    for i in range(1,11):\n",
    "        print(a,'*',i,'=',i*2)\n",
    "   \n",
    "    \n",
    "a= 2\n",
    "table(a)\n",
    "    "
   ]
  },
  {
   "cell_type": "markdown",
   "id": "8603368f",
   "metadata": {},
   "source": [
    "# Lambda in Map"
   ]
  },
  {
   "cell_type": "code",
   "execution_count": 13,
   "id": "9352cd05",
   "metadata": {},
   "outputs": [
    {
     "name": "stdout",
     "output_type": "stream",
     "text": [
      "[20, 30, 40, 50]\n"
     ]
    }
   ],
   "source": [
    "# give in single line dnt need for fun name\n",
    "a = [10,20,30,40]\n",
    "sol =list(map(lambda a :a +10,a))\n",
    "print(sol)"
   ]
  },
  {
   "cell_type": "code",
   "execution_count": 15,
   "id": "8abec9c5",
   "metadata": {},
   "outputs": [
    {
     "name": "stdout",
     "output_type": "stream",
     "text": [
      "[100, 400, 900, 1600]\n"
     ]
    }
   ],
   "source": [
    "a = [10,20,30,40]\n",
    "sol =map(lambda a :a * a,a)\n",
    "print(list(sol))"
   ]
  },
  {
   "cell_type": "code",
   "execution_count": 20,
   "id": "b9926bd7",
   "metadata": {},
   "outputs": [
    {
     "name": "stdout",
     "output_type": "stream",
     "text": [
      "[5, 7, 9]\n"
     ]
    }
   ],
   "source": [
    "numbers1 = [1, 2, 3]\n",
    "numbers2 = [4, 5, 6]\n",
    "add = map(lambda x,y : x + y,numbers1,numbers2)\n",
    "print(list(add))"
   ]
  },
  {
   "cell_type": "code",
   "execution_count": 5,
   "id": "9ce101b0",
   "metadata": {},
   "outputs": [
    {
     "name": "stdout",
     "output_type": "stream",
     "text": [
      "[False, True, True, False, False, True, True]\n"
     ]
    }
   ],
   "source": [
    "a=[3, 20, 18, 6, 14, 25, 19]\n",
    "age = map(lambda x : x>=18 ,a)\n",
    "print(list(age))"
   ]
  },
  {
   "cell_type": "markdown",
   "id": "6a12a297",
   "metadata": {},
   "source": [
    "# Lambda in filter"
   ]
  },
  {
   "cell_type": "code",
   "execution_count": 30,
   "id": "7dd2fda2",
   "metadata": {},
   "outputs": [
    {
     "name": "stdout",
     "output_type": "stream",
     "text": [
      "[2, 4, 6]\n"
     ]
    }
   ],
   "source": [
    "# even\n",
    "numbers = [1, 2, 3, 4, 5, 6, 7]\n",
    "even_number = filter(lambda x:x%2 == 0,numbers)\n",
    "\n",
    "print(list(even_number))"
   ]
  },
  {
   "cell_type": "code",
   "execution_count": 33,
   "id": "a42b4b07",
   "metadata": {},
   "outputs": [
    {
     "name": "stdout",
     "output_type": "stream",
     "text": [
      "[5, 23, 53, 93, -13]\n"
     ]
    }
   ],
   "source": [
    "# odd\n",
    "nums = [5, 10, 23, 64, 42, 53, 93, 2, 0, -14, 6, -22, -13]\n",
    "odd_no = filter(lambda x : x%2!=0,nums)\n",
    "print(list(odd_no))"
   ]
  },
  {
   "cell_type": "code",
   "execution_count": 4,
   "id": "54fff811",
   "metadata": {},
   "outputs": [
    {
     "name": "stdout",
     "output_type": "stream",
     "text": [
      "[20, 18, 25, 19]\n"
     ]
    }
   ],
   "source": [
    "a=[3, 20, 18, 6, 14, 25, 19]\n",
    "age = filter(lambda x : x>=18 ,a)\n",
    "print(list(age))"
   ]
  },
  {
   "cell_type": "markdown",
   "id": "98233f58",
   "metadata": {},
   "source": [
    "# lamda filter with map"
   ]
  },
  {
   "cell_type": "code",
   "execution_count": 1,
   "id": "610f1af5",
   "metadata": {},
   "outputs": [
    {
     "name": "stdout",
     "output_type": "stream",
     "text": [
      "[65, 76, 87, 98, 100]\n"
     ]
    }
   ],
   "source": [
    "# filter operation will taken first then goes to map\n",
    "a = [11,22,33,44,55,66,77,88,90]\n",
    "solution = map(lambda x : x +10,filter(lambda x:x>50,a))\n",
    "print(list(solution))"
   ]
  },
  {
   "cell_type": "markdown",
   "id": "dbab5eb7",
   "metadata": {},
   "source": [
    "# lambda map with filter"
   ]
  },
  {
   "cell_type": "code",
   "execution_count": 6,
   "id": "f6be306a",
   "metadata": {},
   "outputs": [
    {
     "name": "stdout",
     "output_type": "stream",
     "text": [
      "[20, 22]\n"
     ]
    }
   ],
   "source": [
    "a = [10,11,12,13]\n",
    "sol = filter(lambda x: x %2==0,map(lambda x:x+10,a))\n",
    "print(list(sol))"
   ]
  },
  {
   "cell_type": "code",
   "execution_count": null,
   "id": "761a02c6",
   "metadata": {},
   "outputs": [],
   "source": []
  }
 ],
 "metadata": {
  "kernelspec": {
   "display_name": "Python 3 (ipykernel)",
   "language": "python",
   "name": "python3"
  },
  "language_info": {
   "codemirror_mode": {
    "name": "ipython",
    "version": 3
   },
   "file_extension": ".py",
   "mimetype": "text/x-python",
   "name": "python",
   "nbconvert_exporter": "python",
   "pygments_lexer": "ipython3",
   "version": "3.10.9"
  }
 },
 "nbformat": 4,
 "nbformat_minor": 5
}
