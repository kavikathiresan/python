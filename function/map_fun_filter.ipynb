{
 "cells": [
  {
   "cell_type": "markdown",
   "id": "c49c2771",
   "metadata": {},
   "source": [
    "# function"
   ]
  },
  {
   "cell_type": "code",
   "execution_count": 6,
   "id": "54e57258",
   "metadata": {},
   "outputs": [],
   "source": [
    "def greatfruites(fruit):\n",
    "    fruit[0] == 'Apple'\n",
    "    print(fruit[0])\n",
    "\n",
    "    "
   ]
  },
  {
   "cell_type": "code",
   "execution_count": 7,
   "id": "8d6dbe1c",
   "metadata": {},
   "outputs": [
    {
     "name": "stdout",
     "output_type": "stream",
     "text": [
      "Apple\n"
     ]
    }
   ],
   "source": [
    "fruit = [\"Apple\", \"Banana\", \"Pear\", \"Apricot\", \"Orange\"]\n",
    "greatfruites(fruit)"
   ]
  },
  {
   "cell_type": "markdown",
   "id": "d099fbb3",
   "metadata": {},
   "source": [
    "# map fun"
   ]
  },
  {
   "cell_type": "code",
   "execution_count": 10,
   "id": "12556056",
   "metadata": {},
   "outputs": [],
   "source": [
    "def greatfruites(fruit):\n",
    "    return fruit[0] == 'A'\n",
    "    "
   ]
  },
  {
   "cell_type": "code",
   "execution_count": 11,
   "id": "cfeadbfa",
   "metadata": {
    "scrolled": true
   },
   "outputs": [
    {
     "name": "stdout",
     "output_type": "stream",
     "text": [
      "[True, False, False, True, False]\n"
     ]
    }
   ],
   "source": [
    "fruit = [\"Apple\", \"Banana\", \"Pear\", \"Apricot\", \"Orange\"]\n",
    "sol = map(greatfruites,fruit)\n",
    "print(list(sol))"
   ]
  },
  {
   "cell_type": "code",
   "execution_count": 22,
   "id": "36ca51b0",
   "metadata": {},
   "outputs": [],
   "source": [
    "def fruity(x, y):\n",
    "    return x +y"
   ]
  },
  {
   "cell_type": "code",
   "execution_count": 23,
   "id": "8d3d7649",
   "metadata": {},
   "outputs": [
    {
     "name": "stdout",
     "output_type": "stream",
     "text": [
      "['apple orange ', 'banana lemon ', 'cherry pineapple ']\n"
     ]
    }
   ],
   "source": [
    "f1 = map(fruity,('apple ', 'banana ', 'cherry '), ('orange ', 'lemon ', 'pineapple '))\n",
    "print(list(f1))"
   ]
  },
  {
   "cell_type": "code",
   "execution_count": 12,
   "id": "1bd06850",
   "metadata": {},
   "outputs": [],
   "source": [
    "def fruity(a):\n",
    "    return len(a)"
   ]
  },
  {
   "cell_type": "code",
   "execution_count": 13,
   "id": "de73e6d8",
   "metadata": {
    "scrolled": true
   },
   "outputs": [
    {
     "name": "stdout",
     "output_type": "stream",
     "text": [
      "[5, 6, 6]\n"
     ]
    }
   ],
   "source": [
    "a= 'apple', 'banana', 'cherry'\n",
    "f = map(fruity,a)\n",
    "print(list(f))"
   ]
  },
  {
   "cell_type": "markdown",
   "id": "2a3fc65f",
   "metadata": {},
   "source": [
    "# num in map"
   ]
  },
  {
   "cell_type": "code",
   "execution_count": 14,
   "id": "a3732a69",
   "metadata": {},
   "outputs": [],
   "source": [
    "def addition(numbers):\n",
    "    return numbers + numbers"
   ]
  },
  {
   "cell_type": "code",
   "execution_count": 15,
   "id": "449d475d",
   "metadata": {},
   "outputs": [
    {
     "name": "stdout",
     "output_type": "stream",
     "text": [
      "[2, 4, 6, 8]\n"
     ]
    }
   ],
   "source": [
    "numbers = (1, 2, 3, 4)\n",
    "sol = map(addition,numbers)\n",
    "print(list(sol))"
   ]
  },
  {
   "cell_type": "code",
   "execution_count": 8,
   "id": "f8ccc471",
   "metadata": {},
   "outputs": [],
   "source": [
    "def squnum(a):\n",
    "    return a*a"
   ]
  },
  {
   "cell_type": "code",
   "execution_count": 9,
   "id": "230ec4d4",
   "metadata": {},
   "outputs": [
    {
     "name": "stdout",
     "output_type": "stream",
     "text": [
      "[1, 4, 9, 16, 25, 36]\n"
     ]
    }
   ],
   "source": [
    "a=[1,2,3,4,5,6]\n",
    "sol = map(squnum,a)\n",
    "print(list(sol))"
   ]
  },
  {
   "cell_type": "code",
   "execution_count": 45,
   "id": "0ac6894d",
   "metadata": {},
   "outputs": [],
   "source": [
    "# find even num\n",
    "\n",
    "def even_no(a):\n",
    "    if a % 2 == 0:\n",
    "        return a"
   ]
  },
  {
   "cell_type": "code",
   "execution_count": 46,
   "id": "94e23d98",
   "metadata": {},
   "outputs": [
    {
     "name": "stdout",
     "output_type": "stream",
     "text": [
      "[12]\n"
     ]
    }
   ],
   "source": [
    "a = [12]\n",
    "sol2 = map(even_no,a)\n",
    "print(list(sol2))"
   ]
  },
  {
   "cell_type": "code",
   "execution_count": 1,
   "id": "85a51300",
   "metadata": {},
   "outputs": [],
   "source": [
    "def multino(n):\n",
    "    return n*3"
   ]
  },
  {
   "cell_type": "code",
   "execution_count": 2,
   "id": "56845d89",
   "metadata": {},
   "outputs": [
    {
     "name": "stdout",
     "output_type": "stream",
     "text": [
      "[3, 9, 15, 6, 18, 30]\n"
     ]
    }
   ],
   "source": [
    "givenNumbers = map(multino,[1, 3, 5, 2, 6, 10])\n",
    "print(list(givenNumbers))"
   ]
  },
  {
   "cell_type": "markdown",
   "id": "6f34d22b",
   "metadata": {},
   "source": [
    "\n",
    "# with range"
   ]
  },
  {
   "cell_type": "code",
   "execution_count": 47,
   "id": "1facaf7d",
   "metadata": {},
   "outputs": [
    {
     "name": "stdout",
     "output_type": "stream",
     "text": [
      "[None, 2, None, 4, None, 6, None, 8, None, 10, None]\n"
     ]
    }
   ],
   "source": [
    "def even(a):\n",
    "    if a % 2==0:\n",
    "        return a\n",
    "    \n",
    "sol3 = map(even,range(1,12))    \n",
    "print(list(sol3))"
   ]
  },
  {
   "cell_type": "markdown",
   "id": "b2b5262f",
   "metadata": {},
   "source": [
    "# giving values in list"
   ]
  },
  {
   "cell_type": "code",
   "execution_count": 62,
   "id": "13534f39",
   "metadata": {},
   "outputs": [
    {
     "name": "stdout",
     "output_type": "stream",
     "text": [
      "[1, 2, 3, 4, 5, 6, 7, 8, 9, 10, 11, 12, 13, 14, 15, 16, 17, 18, 19, 20]\n"
     ]
    }
   ],
   "source": [
    "values= []\n",
    "for i in range(1,21):\n",
    "    values.append(i)\n",
    "print(values)\n"
   ]
  },
  {
   "cell_type": "code",
   "execution_count": 67,
   "id": "e32112b5",
   "metadata": {},
   "outputs": [],
   "source": [
    "def map_fun(num):\n",
    "    if num%2==0:\n",
    "        print(\"even\",num)\n",
    "    else:\n",
    "        print(\"odd\",num)\n"
   ]
  },
  {
   "cell_type": "code",
   "execution_count": 68,
   "id": "ad490ebc",
   "metadata": {},
   "outputs": [
    {
     "name": "stdout",
     "output_type": "stream",
     "text": [
      "odd 1\n",
      "even 2\n",
      "odd 3\n",
      "even 4\n",
      "odd 5\n",
      "even 6\n",
      "odd 7\n",
      "even 8\n",
      "odd 9\n",
      "even 10\n",
      "odd 11\n",
      "even 12\n",
      "odd 13\n",
      "even 14\n",
      "odd 15\n",
      "even 16\n",
      "odd 17\n",
      "even 18\n",
      "odd 19\n",
      "even 20\n",
      "[None, None, None, None, None, None, None, None, None, None, None, None, None, None, None, None, None, None, None, None]\n"
     ]
    }
   ],
   "source": [
    "sol = map(map_fun,values)\n",
    "print(list(sol))"
   ]
  },
  {
   "cell_type": "markdown",
   "id": "87dcc0fd",
   "metadata": {},
   "source": [
    "# FILTER"
   ]
  },
  {
   "cell_type": "code",
   "execution_count": 23,
   "id": "19f9f5a3",
   "metadata": {},
   "outputs": [],
   "source": [
    "def variable(sequence):\n",
    "    letters=['a','e','i','o','u']\n",
    "    if sequence in letters:\n",
    "        return True\n",
    "    else:\n",
    "        return False"
   ]
  },
  {
   "cell_type": "code",
   "execution_count": 25,
   "id": "0abdabb6",
   "metadata": {},
   "outputs": [
    {
     "name": "stdout",
     "output_type": "stream",
     "text": [
      "['e', 'e']\n"
     ]
    }
   ],
   "source": [
    "sequence = ['g', 'e', 'e', 'j', 'k', 's', 'p', 'r']\n",
    "filtered = filter(variable,sequence)\n",
    "print(list(filtered))"
   ]
  },
  {
   "cell_type": "code",
   "execution_count": 26,
   "id": "184c6341",
   "metadata": {},
   "outputs": [],
   "source": [
    "def even(numbers):\n",
    "    if numbers %2==0:\n",
    "        return True\n",
    "    else:\n",
    "        return False"
   ]
  },
  {
   "cell_type": "code",
   "execution_count": 27,
   "id": "568985cf",
   "metadata": {},
   "outputs": [
    {
     "name": "stdout",
     "output_type": "stream",
     "text": [
      "[2, 4, 6, 8, 10]\n"
     ]
    }
   ],
   "source": [
    "numbers = [1, 2, 3, 4, 5, 6, 7, 8, 9, 10]\n",
    "sol = filter(even,numbers)\n",
    "print(list(sol))"
   ]
  },
  {
   "cell_type": "code",
   "execution_count": 5,
   "id": "dc00a3d7",
   "metadata": {},
   "outputs": [],
   "source": [
    "def age(a):\n",
    "    if a>=18:\n",
    "        return a"
   ]
  },
  {
   "cell_type": "code",
   "execution_count": 6,
   "id": "8364016d",
   "metadata": {},
   "outputs": [
    {
     "name": "stdout",
     "output_type": "stream",
     "text": [
      "[20, 18, 25, 19]\n"
     ]
    }
   ],
   "source": [
    "inputList = [3, 20, 18, 6, 14, 25, 19]\n",
    "so = filter(age,inputList)\n",
    "print(list(so))"
   ]
  },
  {
   "cell_type": "code",
   "execution_count": null,
   "id": "0ff646c3",
   "metadata": {},
   "outputs": [],
   "source": []
  }
 ],
 "metadata": {
  "kernelspec": {
   "display_name": "Python 3 (ipykernel)",
   "language": "python",
   "name": "python3"
  },
  "language_info": {
   "codemirror_mode": {
    "name": "ipython",
    "version": 3
   },
   "file_extension": ".py",
   "mimetype": "text/x-python",
   "name": "python",
   "nbconvert_exporter": "python",
   "pygments_lexer": "ipython3",
   "version": "3.10.9"
  }
 },
 "nbformat": 4,
 "nbformat_minor": 5
}
