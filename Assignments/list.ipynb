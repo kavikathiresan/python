{
 "cells": [
  {
   "cell_type": "markdown",
   "id": "25efe654",
   "metadata": {},
   "source": [
    "1.Write a Python program to count the number of elements in a list."
   ]
  },
  {
   "cell_type": "code",
   "execution_count": 5,
   "id": "b7a9ae78",
   "metadata": {},
   "outputs": [
    {
     "name": "stdout",
     "output_type": "stream",
     "text": [
      "the number of elements in a list:6\n"
     ]
    }
   ],
   "source": [
    "list_values = ['apple','grapes','mango','pineapple','orange','watermelon']\n",
    "count =0\n",
    "for i in list_values:\n",
    "    count=count+1\n",
    "print(f'the number of elements in a list:{count}')"
   ]
  },
  {
   "cell_type": "markdown",
   "id": "2827718a",
   "metadata": {},
   "source": [
    "2.Write a Python program to find the maximum and minimum values in a given list."
   ]
  },
  {
   "cell_type": "code",
   "execution_count": 21,
   "id": "f367ad0b",
   "metadata": {},
   "outputs": [
    {
     "name": "stdout",
     "output_type": "stream",
     "text": [
      "the maximun value:90\n",
      "the minimun value:1\n"
     ]
    }
   ],
   "source": [
    "def max_value(x):\n",
    "    max_count=x[0] # need only one indices value\n",
    "    for value in x:\n",
    "        if value > max_count:\n",
    "            max_count=value  # save it\n",
    "    return max_count\n",
    "        \n",
    "def min_value(y):\n",
    "    min_count = y[0] # need only one indices value\n",
    "    for values in y:\n",
    "        if values < min_count:\n",
    "            min_count =values\n",
    "    return min_count\n",
    "  \n",
    "    \n",
    "mylist = [1,2,3,4,8,89,79,56,90]\n",
    "\n",
    "print(f'the maximun value:{max_value(mylist)}')\n",
    "print(f'the minimun value:{min_value(mylist)}')"
   ]
  },
  {
   "cell_type": "code",
   "execution_count": 68,
   "id": "4005efaa",
   "metadata": {},
   "outputs": [
    {
     "name": "stdout",
     "output_type": "stream",
     "text": [
      "90\n",
      "1\n"
     ]
    }
   ],
   "source": [
    "#2.Write a Python program to find the maximum and minimum values in a given list.\n",
    "mylist = [1,2,3,4,8,89,79,56,90]\n",
    "print(max(mylist))\n",
    "print(min(mylist))"
   ]
  },
  {
   "cell_type": "markdown",
   "id": "9d55cfad",
   "metadata": {},
   "source": [
    "3.Write a Python program to remove the first occurrence of a specified element from a list."
   ]
  },
  {
   "cell_type": "code",
   "execution_count": 22,
   "id": "41bddc60",
   "metadata": {},
   "outputs": [
    {
     "name": "stdout",
     "output_type": "stream",
     "text": [
      "[23, 67, 45, 68, 3, 6, 8, 9, 31]\n"
     ]
    }
   ],
   "source": [
    "a = [23,45,67,45,68,3,6,8,9,31]\n",
    "a.remove(45)\n",
    "print(a)"
   ]
  },
  {
   "cell_type": "markdown",
   "id": "9e78863c",
   "metadata": {},
   "source": [
    "4.Write a Python program to find the average of all the elements in a list."
   ]
  },
  {
   "cell_type": "code",
   "execution_count": 71,
   "id": "332a1c79",
   "metadata": {},
   "outputs": [
    {
     "name": "stdout",
     "output_type": "stream",
     "text": [
      "30.5\n",
      "average of all elements from list:30.5\n"
     ]
    }
   ],
   "source": [
    "a_list = [23,45,67,45,68,3,6,8,9,31]\n",
    "a=Average(a_list)\n",
    "print(sum(a_list)/len(a_list))\n",
    "print(f'average of all elements from list:{round(a,2)}') # round off\n"
   ]
  },
  {
   "cell_type": "markdown",
   "id": "cd8094f9",
   "metadata": {},
   "source": [
    "5.Write a Python program to check if a list is empty or not."
   ]
  },
  {
   "cell_type": "code",
   "execution_count": 64,
   "id": "7a00fef4",
   "metadata": {},
   "outputs": [
    {
     "name": "stdout",
     "output_type": "stream",
     "text": [
      "list is empty\n"
     ]
    }
   ],
   "source": [
    "lst = []\n",
    "if not lst:\n",
    "    print(\"list is empty\")\n",
    "else:\n",
    "    print(\"list is not empty\")"
   ]
  },
  {
   "cell_type": "code",
   "execution_count": 65,
   "id": "82ee53be",
   "metadata": {},
   "outputs": [
    {
     "name": "stdout",
     "output_type": "stream",
     "text": [
      "list is empty\n"
     ]
    }
   ],
   "source": [
    "# using len()\n",
    "lst = []\n",
    "if (len(lst)==0):\n",
    "    print(\"list is empty\")\n",
    "else:\n",
    "    print(\"list is not empty\")"
   ]
  },
  {
   "cell_type": "markdown",
   "id": "c4055d91",
   "metadata": {},
   "source": [
    "6: Write a Python program to find the index of a specified element in a list."
   ]
  },
  {
   "cell_type": "code",
   "execution_count": 27,
   "id": "0dc539f4",
   "metadata": {},
   "outputs": [
    {
     "name": "stdout",
     "output_type": "stream",
     "text": [
      "9\n"
     ]
    }
   ],
   "source": [
    "a = [23,45,67,45,68,3,6,8,9,31]\n",
    "print(a.index(31))\n"
   ]
  },
  {
   "cell_type": "markdown",
   "id": "8dd5088f",
   "metadata": {},
   "source": [
    "7.Write a Python program to concatenate two lists."
   ]
  },
  {
   "cell_type": "code",
   "execution_count": 32,
   "id": "53abb634",
   "metadata": {},
   "outputs": [
    {
     "name": "stdout",
     "output_type": "stream",
     "text": [
      "[11, 12, 13, 'python', 'a', 'b', 'c', 'd']\n"
     ]
    }
   ],
   "source": [
    "x1 = ['a','b','c','d']\n",
    "x2 = [11,12,13,\"python\"]\n",
    "x2.extend(x1)\n",
    "print(x2)"
   ]
  },
  {
   "cell_type": "markdown",
   "id": "356a1e24",
   "metadata": {},
   "source": [
    "8.Write a Python program to find the common elements between two lists."
   ]
  },
  {
   "cell_type": "code",
   "execution_count": 53,
   "id": "176e3113",
   "metadata": {
    "scrolled": true
   },
   "outputs": [
    {
     "name": "stdout",
     "output_type": "stream",
     "text": [
      "45 68 3 "
     ]
    }
   ],
   "source": [
    "a = [23,45,67,51,68,3]\n",
    "b = [68,3,1,2,45,64]\n",
    "for i in a:\n",
    "    if i in b:\n",
    "        print(i,end=\" \")       # here used loop but output didnt come in list form"
   ]
  },
  {
   "cell_type": "code",
   "execution_count": 51,
   "id": "5548c70b",
   "metadata": {},
   "outputs": [
    {
     "name": "stdout",
     "output_type": "stream",
     "text": [
      "[45, 68, 3]\n"
     ]
    }
   ],
   "source": [
    "a = [23,45,67,51,68,3]\n",
    "b = [68,3,1,2,45,64]\n",
    "common_lists = [i for i in a if i in b] # list comphresions\n",
    "print(common_lists)"
   ]
  },
  {
   "cell_type": "markdown",
   "id": "068968bc",
   "metadata": {},
   "source": [
    "9:Write a Python program to remove the duplicates from a list while preserving the order of elements."
   ]
  },
  {
   "cell_type": "code",
   "execution_count": 61,
   "id": "ec713106",
   "metadata": {},
   "outputs": [
    {
     "name": "stdout",
     "output_type": "stream",
     "text": [
      "duplicates removed from a list [21, 44, 33, 22, 55, 51]\n"
     ]
    }
   ],
   "source": [
    "# list comphresions\n",
    "values=[21,44,33,22,33,55,44,21,51]\n",
    "new_values=[]\n",
    "[new_values.append(i) for i in values if i not in new_values]\n",
    "print('duplicates removed from a list',new_values)"
   ]
  },
  {
   "cell_type": "markdown",
   "id": "d89ec3e5",
   "metadata": {},
   "source": [
    "10.Write a Python program to sort a list of strings in alphabetical order"
   ]
  },
  {
   "cell_type": "code",
   "execution_count": 3,
   "id": "8b8fab30",
   "metadata": {},
   "outputs": [
    {
     "name": "stdout",
     "output_type": "stream",
     "text": [
      "['Blue', 'Brown', 'Green', 'Orange', 'Red', 'Yellow']\n"
     ]
    }
   ],
   "source": [
    "colors = [\"Blue\", \"Green\", \"Red\", \"Orange\", \"Yellow\", \"Brown\"]\n",
    "colors.sort()\n",
    "print(colors)"
   ]
  }
 ],
 "metadata": {
  "kernelspec": {
   "display_name": "Python 3 (ipykernel)",
   "language": "python",
   "name": "python3"
  },
  "language_info": {
   "codemirror_mode": {
    "name": "ipython",
    "version": 3
   },
   "file_extension": ".py",
   "mimetype": "text/x-python",
   "name": "python",
   "nbconvert_exporter": "python",
   "pygments_lexer": "ipython3",
   "version": "3.10.9"
  }
 },
 "nbformat": 4,
 "nbformat_minor": 5
}
