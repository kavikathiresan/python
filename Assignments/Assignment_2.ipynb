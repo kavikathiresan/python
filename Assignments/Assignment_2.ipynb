{
 "cells": [
  {
   "cell_type": "raw",
   "id": "144f8dd9",
   "metadata": {},
   "source": [
    "1 . Print the input text without vowels \n",
    "\n",
    "input = 'hai'\n",
    "\n",
    "Expected output = h"
   ]
  },
  {
   "cell_type": "code",
   "execution_count": null,
   "id": "af18f3d3",
   "metadata": {},
   "outputs": [],
   "source": [
    "input = 'hai'\n",
    "for i in input:\n",
    "    if i not in 'aeiouAEIOU':\n",
    "        print(i)"
   ]
  },
  {
   "cell_type": "raw",
   "id": "9f0cbac6",
   "metadata": {},
   "source": [
    "2 . Print only vowels from the text \n",
    "\n",
    "input = data \n",
    "\n",
    "Expected output = dt "
   ]
  },
  {
   "cell_type": "code",
   "execution_count": 1,
   "id": "64736b70",
   "metadata": {},
   "outputs": [
    {
     "name": "stdout",
     "output_type": "stream",
     "text": [
      "dt"
     ]
    }
   ],
   "source": [
    "input = 'data'\n",
    "for i in input:\n",
    "    if i not in 'aeiouAEIOU':\n",
    "        print(i,end=\"\")"
   ]
  },
  {
   "cell_type": "raw",
   "id": "6cbfe6e1",
   "metadata": {},
   "source": [
    "3 . print each value from the list with its index \n",
    "\n",
    "\n",
    "input = [10,11,50,34]\n",
    "\n",
    "Expected output = [100 , 111 , 502 , 343]"
   ]
  },
  {
   "cell_type": "code",
   "execution_count": null,
   "id": "b1a18146",
   "metadata": {},
   "outputs": [],
   "source": [
    "input = [10,11,50,34]\n",
    "for x in enumerate(input):\n",
    "    print(x[::-1])\n",
    "   "
   ]
  },
  {
   "cell_type": "raw",
   "id": "de670ddc",
   "metadata": {},
   "source": [
    "4 . This is a Python Program to print all integers that aren’t divisible by either 2 or 3 and lies between 1 and 50."
   ]
  },
  {
   "cell_type": "code",
   "execution_count": null,
   "id": "4f67452e",
   "metadata": {},
   "outputs": [],
   "source": [
    "integr = [i for i in range(1,51) if i%2!=0 and i%3!=0]\n",
    "print(integr)"
   ]
  },
  {
   "cell_type": "raw",
   "id": "9f9b54af",
   "metadata": {},
   "source": [
    "5 . The program takes in an integer and prints the smallest divisor of the integer."
   ]
  },
  {
   "cell_type": "code",
   "execution_count": 6,
   "id": "73d4ccae",
   "metadata": {},
   "outputs": [
    {
     "name": "stdout",
     "output_type": "stream",
     "text": [
      "smallest divisior 3\n"
     ]
    }
   ],
   "source": [
    "n=75\n",
    "a = []\n",
    "for i in range(2,n+1):\n",
    "    if n%i==0:\n",
    "        a.append(i)\n",
    "    else:\n",
    "        pass\n",
    "\n",
    "print(f'smallest divisior {a[0]}')"
   ]
  },
  {
   "cell_type": "raw",
   "id": "fe7c7e96",
   "metadata": {},
   "source": [
    "6 . Write a Python program to check if it is a strong number or not .\n",
    "# logic dont know\n",
    "# 145 : 5! 4! 1!"
   ]
  },
  {
   "cell_type": "raw",
   "id": "6fccfd65",
   "metadata": {},
   "source": [
    "7 . Write a Python program that takes input from the user and displays that input back in upper and lower cases.\n"
   ]
  },
  {
   "cell_type": "code",
   "execution_count": 2,
   "id": "b8f22548",
   "metadata": {},
   "outputs": [
    {
     "name": "stdout",
     "output_type": "stream",
     "text": [
      "5\n",
      "4\n",
      "3\n",
      "2\n",
      "1\n"
     ]
    }
   ],
   "source": [
    "for i in range(5,0,-1):\n",
    "    print(i)"
   ]
  },
  {
   "cell_type": "code",
   "execution_count": 3,
   "id": "faafafc3",
   "metadata": {},
   "outputs": [
    {
     "name": "stdout",
     "output_type": "stream",
     "text": [
      "its a strong number\n"
     ]
    }
   ],
   "source": [
    "number = 145\n",
    "temp = number\n",
    "sum = 0\n",
    "while number >0:\n",
    "    rem = number % 10\n",
    "    count = 1\n",
    "    for i in range(rem,0,-1):\n",
    "        count = count * i\n",
    "    sum = sum + count\n",
    "    number =number // 10\n",
    "if temp == sum:\n",
    "    print(\"its a strong number\")\n",
    "else:\n",
    "    print(\"its not a strong number\")\n",
    "    "
   ]
  },
  {
   "cell_type": "code",
   "execution_count": 1,
   "id": "024854f8",
   "metadata": {
    "scrolled": true
   },
   "outputs": [
    {
     "name": "stdout",
     "output_type": "stream",
     "text": [
      "enter the name:HarI PriYa\n",
      "lowercase in name=  hari priya\n",
      "Uppercase in name=  HARI PRIYA\n"
     ]
    }
   ],
   "source": [
    "x =input(\"enter the name:\")\n",
    "print(\"lowercase in name= \",x.lower())\n",
    "print(\"Uppercase in name= \",x.upper())"
   ]
  },
  {
   "cell_type": "raw",
   "id": "8e92ebb5",
   "metadata": {},
   "source": [
    "8 . Write a Python program to remove spaces from a given string"
   ]
  },
  {
   "cell_type": "code",
   "execution_count": 7,
   "id": "dfed9540",
   "metadata": {},
   "outputs": [
    {
     "name": "stdout",
     "output_type": "stream",
     "text": [
      "heloo,gud morning\n",
      "Hiiamfromchennai\n"
     ]
    }
   ],
   "source": [
    "# strip will remove spaces\n",
    "s = \"   heloo,gud morning\"\n",
    "print(s.strip())\n",
    "# replace remove space inside\n",
    "str = \" Hi i am from chennai\"\n",
    "print(str.replace(' ', \"\"))"
   ]
  },
  {
   "cell_type": "raw",
   "id": "0b1bc8da",
   "metadata": {},
   "source": [
    "9 . Write a Python program to capitalize first and last letters of each word of a given string."
   ]
  },
  {
   "cell_type": "code",
   "execution_count": null,
   "id": "f72f37c1",
   "metadata": {},
   "outputs": [],
   "source": [
    "# slicing and add it\n",
    "a = 'python'\n",
    "# x=a[0] \n",
    "# w=x.upper()\n",
    "# x1=a[-1]\n",
    "# s=x1.upper()\n",
    "# xx=a[1:5]\n",
    "# print(w+xx+s)\n",
    "\n",
    "result=a[0].upper()+a[1:5]+a[-1].upper()\n",
    "print(result)"
   ]
  },
  {
   "cell_type": "raw",
   "id": "77b5cd36",
   "metadata": {},
   "source": [
    "10 . write a python program to find length of a string but should not use len keyword "
   ]
  },
  {
   "cell_type": "code",
   "execution_count": null,
   "id": "9cacc1aa",
   "metadata": {},
   "outputs": [],
   "source": [
    "a = 'python'\n",
    "count = 0\n",
    "for x in a:\n",
    "    count = count + 1\n",
    "print(count)"
   ]
  }
 ],
 "metadata": {
  "kernelspec": {
   "display_name": "Python 3 (ipykernel)",
   "language": "python",
   "name": "python3"
  },
  "language_info": {
   "codemirror_mode": {
    "name": "ipython",
    "version": 3
   },
   "file_extension": ".py",
   "mimetype": "text/x-python",
   "name": "python",
   "nbconvert_exporter": "python",
   "pygments_lexer": "ipython3",
   "version": "3.10.9"
  }
 },
 "nbformat": 4,
 "nbformat_minor": 5
}
