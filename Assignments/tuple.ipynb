{
 "cells": [
  {
   "cell_type": "markdown",
   "id": "601975cb",
   "metadata": {},
   "source": [
    "1.Write a Python program to create an empty tuple."
   ]
  },
  {
   "cell_type": "code",
   "execution_count": 21,
   "id": "a6565a7c",
   "metadata": {},
   "outputs": [
    {
     "name": "stdout",
     "output_type": "stream",
     "text": [
      "()\n",
      "<class 'tuple'>\n",
      "empty tuple \n"
     ]
    }
   ],
   "source": [
    "mytuple = tuple() # tuple parathensis\n",
    "print(mytuple)\n",
    "print(type(mytuple))\n",
    "\n",
    "# using len to find out ()\n",
    "if len(mytuple)==0:\n",
    "    print(\"empty tuple \")\n",
    "else:\n",
    "    print(\"not empty tuple\")"
   ]
  },
  {
   "cell_type": "markdown",
   "id": "b0419589",
   "metadata": {},
   "source": [
    "2.Write a Python program to access the elements of a tuple."
   ]
  },
  {
   "cell_type": "code",
   "execution_count": 27,
   "id": "5e6a58f7",
   "metadata": {},
   "outputs": [
    {
     "name": "stdout",
     "output_type": "stream",
     "text": [
      "300\n",
      "2\n",
      "3\n"
     ]
    }
   ],
   "source": [
    "name = ('leeminho',[100,200,300],'kookie','namjoon','yoongi','jhope','kookie') # access the elements \n",
    "print(name[1][2])\n",
    "print(name.count('kookie'))\n",
    "print(name.index('namjoon'))"
   ]
  },
  {
   "cell_type": "markdown",
   "id": "be0a048c",
   "metadata": {},
   "source": [
    "3.Write a Python program to concatenate two tuples."
   ]
  },
  {
   "cell_type": "code",
   "execution_count": 1,
   "id": "fedd457e",
   "metadata": {},
   "outputs": [
    {
     "name": "stdout",
     "output_type": "stream",
     "text": [
      "('apple', 'orange', 11, 13, 'grapes', 'watermelon', 12, 10)\n"
     ]
    }
   ],
   "source": [
    "value1 =('apple','orange',11,13)\n",
    "value2 =('grapes','watermelon',12,10)\n",
    "print(value1 +value2 )# + operator will add 2 tuple values and concatenate it"
   ]
  },
  {
   "cell_type": "markdown",
   "id": "68456d90",
   "metadata": {},
   "source": [
    "4: Write a Python program to convert a tuple into a list."
   ]
  },
  {
   "cell_type": "code",
   "execution_count": 5,
   "id": "a5cfeadb",
   "metadata": {},
   "outputs": [
    {
     "name": "stdout",
     "output_type": "stream",
     "text": [
      "['apple', 'orange', 11, 13, 'grapes', 'watermelon', 12, 10]\n"
     ]
    }
   ],
   "source": [
    "# tuple convert to list then use extend \n",
    "value1 =('apple','orange',11,13)\n",
    "value2 =('grapes','watermelon',12,10)\n",
    "value1 = list(value1) # coverting to list\n",
    "value2 = list(value2)\n",
    "value1.extend(value2)\n",
    "print(value1)"
   ]
  },
  {
   "cell_type": "markdown",
   "id": "89499c23",
   "metadata": {},
   "source": [
    "5.Write a Python program to find the length of a tuple."
   ]
  },
  {
   "cell_type": "code",
   "execution_count": 4,
   "id": "01a4db7a",
   "metadata": {},
   "outputs": [
    {
     "name": "stdout",
     "output_type": "stream",
     "text": [
      "5\n"
     ]
    }
   ],
   "source": [
    "value1 =('apple','orange',11,13,'mango')\n",
    "print(len(value1)) "
   ]
  },
  {
   "cell_type": "markdown",
   "id": "11a716d3",
   "metadata": {},
   "source": [
    "6.Write a Python program to find the maximum and minimum elements in a tuple."
   ]
  },
  {
   "cell_type": "code",
   "execution_count": 8,
   "id": "0862e3a8",
   "metadata": {},
   "outputs": [
    {
     "name": "stdout",
     "output_type": "stream",
     "text": [
      "Maximun elements in tuple:787\n",
      "Minimun elements in tuple:110\n"
     ]
    }
   ],
   "source": [
    "x = (212,321,110,123,453,787,332,656,444,502)\n",
    "print(f'Maximun elements in tuple:{max(x)}')\n",
    "print(f'Minimun elements in tuple:{min(x)}')"
   ]
  },
  {
   "cell_type": "markdown",
   "id": "c77d4509",
   "metadata": {},
   "source": [
    "7.Write a Python program to check if an element exists in a tuple."
   ]
  },
  {
   "cell_type": "code",
   "execution_count": 32,
   "id": "0888858e",
   "metadata": {},
   "outputs": [
    {
     "name": "stdout",
     "output_type": "stream",
     "text": [
      "True\n",
      "True\n"
     ]
    }
   ],
   "source": [
    "test_tuple = (10, 4, 5, 6, 8) \n",
    "print(10 in test_tuple)\n",
    "print(8 in test_tuple)"
   ]
  },
  {
   "cell_type": "markdown",
   "id": "a19fd079",
   "metadata": {},
   "source": [
    "8.Write a Python program to count the number of occurrences of an element in a tuple"
   ]
  },
  {
   "cell_type": "code",
   "execution_count": 47,
   "id": "61f93dcd",
   "metadata": {},
   "outputs": [
    {
     "name": "stdout",
     "output_type": "stream",
     "text": [
      "3\n"
     ]
    }
   ],
   "source": [
    "tups = (10, 4, 5, 6, 8, 4, 5, 6, 4, 5, 3,2)\n",
    "x=4\n",
    "count = 0\n",
    "for i in tups:  \n",
    "    if i==x:\n",
    "        count = count +1\n",
    "print(count)\n"
   ]
  },
  {
   "cell_type": "code",
   "execution_count": 36,
   "id": "750b06e2",
   "metadata": {},
   "outputs": [
    {
     "name": "stdout",
     "output_type": "stream",
     "text": [
      "the 4 occurrences :3\n",
      "the 6 occurrences :2\n"
     ]
    }
   ],
   "source": [
    "def Occ_num(tups,x): # x is the occurance of tuple values\n",
    "    count = 0\n",
    "    for i in tups: # tups values given to i \n",
    "        if i==x:   # if i equal to x\n",
    "            count = count +1\n",
    "    return count\n",
    "            \n",
    "tups = (10, 4, 5, 6, 8, 4, 5, 6, 4, 5, 3,2)\n",
    "x = 4\n",
    "x1= 6\n",
    "print(f'the 4 occurrences :{Occ_num(tups,x)}')\n",
    "print(f'the 6 occurrences :{Occ_num(tups,x1)}')"
   ]
  },
  {
   "cell_type": "markdown",
   "id": "d90fbb15",
   "metadata": {},
   "source": [
    "9.Write a Python program to slice a tuple"
   ]
  },
  {
   "cell_type": "code",
   "execution_count": 15,
   "id": "7e5d9d91",
   "metadata": {},
   "outputs": [
    {
     "name": "stdout",
     "output_type": "stream",
     "text": [
      "Pyt\n",
      " Programming\n",
      "gnimmargorP nohtyP\n",
      "R\n",
      "i\n",
      "d\n",
      "h\n",
      "a\n"
     ]
    }
   ],
   "source": [
    "mytuple = (\"Python Programming\")\n",
    "print(mytuple[:3])\n",
    "print(mytuple[6:])\n",
    "print(mytuple[::-1])\n",
    "tuplename = (\"Ridham\")\n",
    "print(tuplename[0])\n",
    "print(tuplename[1])\n",
    "print(tuplename[2])\n",
    "print(tuplename[3])\n",
    "print(tuplename[4])\n"
   ]
  },
  {
   "cell_type": "markdown",
   "id": "5c907342",
   "metadata": {},
   "source": [
    "10.Write a Python program to unpack a tuple into multiple variables.\n",
    "\n"
   ]
  },
  {
   "cell_type": "code",
   "execution_count": null,
   "id": "c8f9f566",
   "metadata": {},
   "outputs": [],
   "source": [
    "# values into a new tuple while in unpacking we extract those values into a single variable\n",
    "# assign value from right side to left side"
   ]
  },
  {
   "cell_type": "code",
   "execution_count": 38,
   "id": "99e0fabf",
   "metadata": {},
   "outputs": [
    {
     "name": "stdout",
     "output_type": "stream",
     "text": [
      "veltechcollege\n",
      "2023\n",
      "cse_department\n"
     ]
    }
   ],
   "source": [
    "a = (\"veltechcollege\",\"2023\",\"cse_department\")\n",
    "college_name,batch,department=a\n",
    "print(college_name)\n",
    "print(batch)\n",
    "print(department)"
   ]
  },
  {
   "cell_type": "code",
   "execution_count": null,
   "id": "06cf362e",
   "metadata": {},
   "outputs": [],
   "source": []
  }
 ],
 "metadata": {
  "kernelspec": {
   "display_name": "Python 3 (ipykernel)",
   "language": "python",
   "name": "python3"
  },
  "language_info": {
   "codemirror_mode": {
    "name": "ipython",
    "version": 3
   },
   "file_extension": ".py",
   "mimetype": "text/x-python",
   "name": "python",
   "nbconvert_exporter": "python",
   "pygments_lexer": "ipython3",
   "version": "3.10.9"
  }
 },
 "nbformat": 4,
 "nbformat_minor": 5
}
