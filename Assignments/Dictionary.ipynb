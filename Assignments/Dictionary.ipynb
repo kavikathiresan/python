{
 "cells": [
  {
   "cell_type": "markdown",
   "id": "e72959f2",
   "metadata": {},
   "source": [
    "1.Write a Python program to create an empty dictionary."
   ]
  },
  {
   "cell_type": "code",
   "execution_count": 3,
   "id": "79b855af",
   "metadata": {},
   "outputs": [
    {
     "name": "stdout",
     "output_type": "stream",
     "text": [
      "{}\n",
      "<class 'dict'>\n"
     ]
    }
   ],
   "source": [
    "empt_dict = dict({})\n",
    "print(empt_dict)\n",
    "x = {}\n",
    "print(type(x))"
   ]
  },
  {
   "cell_type": "markdown",
   "id": "289a2df3",
   "metadata": {},
   "source": [
    "2.Write a Python program to add a key-value pair to a dictionary."
   ]
  },
  {
   "cell_type": "code",
   "execution_count": 6,
   "id": "6fe487c1",
   "metadata": {},
   "outputs": [
    {
     "name": "stdout",
     "output_type": "stream",
     "text": [
      "{'bmw': 2000, 'baleno': 2006, 'porshe': 2003, 'lamghorini': 2010}\n",
      "{'bmw': 2000, 'baleno': 2006, 'porshe': 2003, 'lamghorini': 2010, 'audi': 2001, 'jaguar': 2013}\n"
     ]
    }
   ],
   "source": [
    "car_dispatch_year ={'bmw':2000,'baleno':2006,'porshe':2003,'lamghorini':2010}\n",
    "print(car_dispatch_year)\n",
    "#  add a key-value pair to a dictionary\n",
    "car_dispatch_year['audi']=2001\n",
    "car_dispatch_year['jaguar']=2013\n",
    "print(car_dispatch_year)"
   ]
  },
  {
   "cell_type": "markdown",
   "id": "05bacb55",
   "metadata": {},
   "source": [
    "3.Write a Python program to remove a key-value pair from a dictionary"
   ]
  },
  {
   "cell_type": "code",
   "execution_count": 12,
   "id": "4de8efdd",
   "metadata": {},
   "outputs": [
    {
     "name": "stdout",
     "output_type": "stream",
     "text": [
      "{'bmw': 2000, 'porshe': 2003, 'lamghorini': 2010}\n"
     ]
    }
   ],
   "source": [
    "car_dispatch_year ={'bmw':2000,'baleno':2006,'porshe':2003,'lamghorini':2010}\n",
    "car_dispatch_year.pop('baleno') # pop will remove it\n",
    "print(car_dispatch_year)"
   ]
  },
  {
   "cell_type": "markdown",
   "id": "903d05ca",
   "metadata": {},
   "source": [
    "4.Write a Python program to check if a key exists in a dictionary."
   ]
  },
  {
   "cell_type": "code",
   "execution_count": 15,
   "id": "c4ef0a4d",
   "metadata": {},
   "outputs": [
    {
     "name": "stdout",
     "output_type": "stream",
     "text": [
      "True\n",
      "False\n",
      "True\n"
     ]
    }
   ],
   "source": [
    "car_dispatch_year={'bmw': 2000, 'baleno': 2006, 'porshe': 2003, 'lamghorini': 2010, 'audi': 2001, 'jaguar': 2013}\n",
    "print('porshe' in car_dispatch_year )\n",
    "print('lamghorini' not in car_dispatch_year )\n",
    "print('jaguar'  in car_dispatch_year )"
   ]
  },
  {
   "cell_type": "markdown",
   "id": "f8c119e8",
   "metadata": {},
   "source": [
    "5: Write a Python program to iterate over the keys and values of a dictionary"
   ]
  },
  {
   "cell_type": "code",
   "execution_count": 17,
   "id": "f6ee08fe",
   "metadata": {},
   "outputs": [
    {
     "name": "stdout",
     "output_type": "stream",
     "text": [
      "key= 1\n",
      "value= apple\n",
      "key= 2\n",
      "value= mango\n",
      "key= 3\n",
      "value= orange\n"
     ]
    }
   ],
   "source": [
    "fruits= {1:'apple',2:'mango',3:'orange'}\n",
    "for i in fruits:\n",
    "    print('key=',i)\n",
    "    print('value=',fruits[i])"
   ]
  },
  {
   "cell_type": "markdown",
   "id": "6f78ef70",
   "metadata": {},
   "source": [
    "6:Write a Python program to find the length of a dictionary."
   ]
  },
  {
   "cell_type": "code",
   "execution_count": 18,
   "id": "80f2d49f",
   "metadata": {},
   "outputs": [
    {
     "name": "stdout",
     "output_type": "stream",
     "text": [
      "6\n"
     ]
    }
   ],
   "source": [
    "car_dispatch_year={'bmw': 2000, 'baleno': 2006, 'porshe': 2003, 'lamghorini': 2010, 'audi': 2001, 'jaguar': 2013}\n",
    "print(len(car_dispatch_year))"
   ]
  },
  {
   "cell_type": "markdown",
   "id": "453f1683",
   "metadata": {},
   "source": [
    "7.Write a Python program to merge two dictionaries"
   ]
  },
  {
   "cell_type": "code",
   "execution_count": 19,
   "id": "17cd8e7f",
   "metadata": {},
   "outputs": [
    {
     "name": "stdout",
     "output_type": "stream",
     "text": [
      "{'bmw': 2000, 'baleno': 2006, 'porshe': 2003, 'lamghorini': 2010, 'audi': 2001, 'jaguar': 2013, 1: 'apple', 2: 'mango', 3: 'orange'}\n"
     ]
    }
   ],
   "source": [
    "car_dispatch_year={'bmw': 2000, 'baleno': 2006, 'porshe': 2003, 'lamghorini': 2010, 'audi': 2001, 'jaguar': 2013}\n",
    "fruits= {1:'apple',2:'mango',3:'orange'}\n",
    "merge_dict=car_dispatch_year.copy() # copy  and update\n",
    "merge_dict.update(fruits)\n",
    "print(merge_dict)"
   ]
  },
  {
   "cell_type": "code",
   "execution_count": 20,
   "id": "47fe970e",
   "metadata": {},
   "outputs": [
    {
     "name": "stdout",
     "output_type": "stream",
     "text": [
      "{'bmw': 2000, 'baleno': 2006, 'porshe': 2003, 'lamghorini': 2010, 'audi': 2001, 'jaguar': 2013, 1: 'apple', 2: 'mango', 3: 'orange'}\n"
     ]
    }
   ],
   "source": [
    "car_dispatch_year={'bmw': 2000, 'baleno': 2006, 'porshe': 2003, 'lamghorini': 2010, 'audi': 2001, 'jaguar': 2013}\n",
    "fruits= {1:'apple',2:'mango',3:'orange'}\n",
    "merge_dict=dict(car_dispatch_year)  # directly given and updating the fruits dict\n",
    "merge_dict.update(fruits)\n",
    "print(merge_dict)"
   ]
  },
  {
   "cell_type": "markdown",
   "id": "d87261bb",
   "metadata": {},
   "source": [
    "8.Write a Python program to find the maximum and minimum values in a dictionary."
   ]
  },
  {
   "cell_type": "code",
   "execution_count": 28,
   "id": "3c612d42",
   "metadata": {},
   "outputs": [
    {
     "name": "stdout",
     "output_type": "stream",
     "text": [
      "the maximum values:50\n",
      "the mininuum values:10\n"
     ]
    }
   ],
   "source": [
    "x = {'a': 20, 'b': 10, 'c':50}\n",
    "print(f'the maximum values:{max(x.values())}')\n",
    "print(f'the mininuum values:{min(x.values())}')"
   ]
  },
  {
   "cell_type": "markdown",
   "id": "69ef713e",
   "metadata": {},
   "source": [
    "9.Write a Python program to count the occurrences of each value in a dictionary"
   ]
  },
  {
   "cell_type": "code",
   "execution_count": 31,
   "id": "3b7d70eb",
   "metadata": {},
   "outputs": [
    {
     "name": "stdout",
     "output_type": "stream",
     "text": [
      "2\n"
     ]
    }
   ],
   "source": [
    "employees = {\"karthi\": \"Sales\", \"hari\": \"Sales\",\"Anni\": \"Accounts\",\"ruby\": \"HR\"}\n",
    "count = 0\n",
    "for i in employees.values():\n",
    "    if i == \"Sales\":\n",
    "        count += 1\n",
    "print(count)"
   ]
  },
  {
   "cell_type": "markdown",
   "id": "e4f23ff4",
   "metadata": {},
   "source": [
    "10.Write a Python program to sort a dictionary by its values."
   ]
  },
  {
   "cell_type": "code",
   "execution_count": 30,
   "id": "0a6c6709",
   "metadata": {},
   "outputs": [
    {
     "name": "stdout",
     "output_type": "stream",
     "text": [
      "[11, 23, 27, 33, 81, 164]\n"
     ]
    }
   ],
   "source": [
    "mydict = {1: 11, 2: 81, 3: 27, 4: 164,5:33,6:23}\n",
    "print(sorted(mydict.values()))"
   ]
  },
  {
   "cell_type": "code",
   "execution_count": null,
   "id": "d7d9a5f4",
   "metadata": {},
   "outputs": [],
   "source": []
  }
 ],
 "metadata": {
  "kernelspec": {
   "display_name": "Python 3 (ipykernel)",
   "language": "python",
   "name": "python3"
  },
  "language_info": {
   "codemirror_mode": {
    "name": "ipython",
    "version": 3
   },
   "file_extension": ".py",
   "mimetype": "text/x-python",
   "name": "python",
   "nbconvert_exporter": "python",
   "pygments_lexer": "ipython3",
   "version": "3.10.9"
  }
 },
 "nbformat": 4,
 "nbformat_minor": 5
}
