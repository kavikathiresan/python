{
 "cells": [
  {
   "cell_type": "code",
   "execution_count": 5,
   "id": "adca4efb",
   "metadata": {},
   "outputs": [
    {
     "name": "stdout",
     "output_type": "stream",
     "text": [
      "hello\n",
      "you passed 10\n"
     ]
    }
   ],
   "source": [
    "def fun(x):\n",
    "    print(\"hello\")\n",
    "    print(\"you passed\",x)\n",
    "fun(10)    "
   ]
  },
  {
   "cell_type": "code",
   "execution_count": 6,
   "id": "d4f87d95",
   "metadata": {},
   "outputs": [
    {
     "name": "stdout",
     "output_type": "stream",
     "text": [
      "enter the first number is greater than  second numer \n"
     ]
    }
   ],
   "source": [
    "def num(x,y):\n",
    "    if x>=y:\n",
    "        if x % y == 0:\n",
    "            print(x,\"is divisible by\",y)\n",
    "        else:\n",
    "            print(x,\"is not divisible by\",y)\n",
    "    else:\n",
    "        print(\"enter the first number is greater than  second numer \")\n",
    "\n",
    "num(2,4)"
   ]
  },
  {
   "cell_type": "code",
   "execution_count": 7,
   "id": "e1bf6db7",
   "metadata": {},
   "outputs": [
    {
     "name": "stdout",
     "output_type": "stream",
     "text": [
      "4 is divisible by 2\n"
     ]
    }
   ],
   "source": [
    "num(4,2)"
   ]
  },
  {
   "cell_type": "code",
   "execution_count": 8,
   "id": "92d4b271",
   "metadata": {
    "scrolled": true
   },
   "outputs": [
    {
     "name": "stdout",
     "output_type": "stream",
     "text": [
      "4 is not divisible by 3\n"
     ]
    }
   ],
   "source": [
    "num(4,3)"
   ]
  },
  {
   "cell_type": "code",
   "execution_count": 53,
   "id": "bd898d77",
   "metadata": {},
   "outputs": [
    {
     "name": "stdout",
     "output_type": "stream",
     "text": [
      "My name is xyz\n",
      "My name is kamal\n"
     ]
    }
   ],
   "source": [
    "def display(name = \"xyz\"):\n",
    "    print(\"My name is\", name)\n",
    "\n",
    "display()\n",
    "display(\"kamal\")"
   ]
  },
  {
   "cell_type": "code",
   "execution_count": 52,
   "id": "44a5fd92",
   "metadata": {},
   "outputs": [
    {
     "name": "stdout",
     "output_type": "stream",
     "text": [
      "My name is ashu my age is 45 and I live in Mysore\n"
     ]
    }
   ],
   "source": [
    "def display(name, age, country):\n",
    "    print(\"My name is\", name, \"my age is\", age, \"and I live in\", country)\n",
    "\n",
    "display(\"ashu\", 45,\"Mysore\")"
   ]
  },
  {
   "cell_type": "code",
   "execution_count": 51,
   "id": "a1282df8",
   "metadata": {},
   "outputs": [
    {
     "name": "stdout",
     "output_type": "stream",
     "text": [
      "My name is ashu and my age is 9\n",
      "My name is ashu and my age is 28\n"
     ]
    }
   ],
   "source": [
    "def display(name, age=9):\n",
    "    print(\"My name is\", name, \"and my age is\", age)\n",
    "\n",
    "display(\"ashu\")\n",
    "display(\"ashu\",28)"
   ]
  },
  {
   "cell_type": "code",
   "execution_count": 47,
   "id": "3bc2e1e9",
   "metadata": {},
   "outputs": [
    {
     "name": "stdout",
     "output_type": "stream",
     "text": [
      "My name is ashu and my age is 28\n"
     ]
    }
   ],
   "source": [
    "def display(name, age):\n",
    "    print(\"My name is\", name, \"and my age is\", age)\n",
    "\n",
    "display(\"ashu\", 28)"
   ]
  },
  {
   "cell_type": "code",
   "execution_count": 48,
   "id": "6dbf15d4",
   "metadata": {},
   "outputs": [
    {
     "name": "stdout",
     "output_type": "stream",
     "text": [
      "My name is ashu and my age is 28\n"
     ]
    }
   ],
   "source": [
    "def display(name, age=9):\n",
    "    print(\"My name is\", name, \"and my age is\", age)\n",
    "\n",
    "display(\"ashu\", 28)"
   ]
  },
  {
   "cell_type": "markdown",
   "id": "6acec38d",
   "metadata": {},
   "source": [
    "# reverse the number"
   ]
  },
  {
   "cell_type": "code",
   "execution_count": 9,
   "id": "03a9592c",
   "metadata": {},
   "outputs": [
    {
     "data": {
      "text/plain": [
       "[43, 6, 2, 5, 3, 6, 4, 2]"
      ]
     },
     "execution_count": 9,
     "metadata": {},
     "output_type": "execute_result"
    }
   ],
   "source": [
    "def rev(a):\n",
    "    c=[]\n",
    "    i = len(a)-1\n",
    "    while i>=0:\n",
    "        c.append(a[i])\n",
    "        i = i-1\n",
    "    return c    \n",
    "\n",
    "a = 2, 4, 6, 3, 5, 2, 6, 43\n",
    "rev(a)"
   ]
  },
  {
   "cell_type": "code",
   "execution_count": 10,
   "id": "2106b06d",
   "metadata": {},
   "outputs": [
    {
     "name": "stdout",
     "output_type": "stream",
     "text": [
      "[43, 6, 2, 5, 3, 6, 4, 2]\n"
     ]
    }
   ],
   "source": [
    "result = rev(a)\n",
    "print(result)"
   ]
  },
  {
   "cell_type": "markdown",
   "id": "7a5a5b01",
   "metadata": {},
   "source": [
    "# function inside a function"
   ]
  },
  {
   "cell_type": "code",
   "execution_count": 13,
   "id": "7d2bd52f",
   "metadata": {},
   "outputs": [
    {
     "data": {
      "text/plain": [
       "False"
      ]
     },
     "execution_count": 13,
     "metadata": {},
     "output_type": "execute_result"
    }
   ],
   "source": [
    "def is_even(x):\n",
    "    if x%2 ==0:\n",
    "        return True\n",
    "    else:\n",
    "        return False\n",
    "def div(y):\n",
    "    if y %3==0:\n",
    "        return True\n",
    "    else:\n",
    "        return False\n",
    "div(6)\n",
    "is_even(9)"
   ]
  },
  {
   "cell_type": "markdown",
   "id": "4344e2da",
   "metadata": {},
   "source": [
    "# recursion fun"
   ]
  },
  {
   "cell_type": "code",
   "execution_count": 45,
   "id": "53930898",
   "metadata": {},
   "outputs": [
    {
     "data": {
      "text/plain": [
       "120"
      ]
     },
     "execution_count": 45,
     "metadata": {},
     "output_type": "execute_result"
    }
   ],
   "source": [
    "def rec(x):\n",
    "    if x == 0 or x == 1:\n",
    "        return 1\n",
    "    else:\n",
    "        return x * rec(x-1)\n",
    "rec(5)\n"
   ]
  },
  {
   "cell_type": "code",
   "execution_count": 46,
   "id": "3ec27f92",
   "metadata": {},
   "outputs": [
    {
     "data": {
      "text/plain": [
       "24"
      ]
     },
     "execution_count": 46,
     "metadata": {},
     "output_type": "execute_result"
    }
   ],
   "source": [
    "rec(4)"
   ]
  },
  {
   "cell_type": "markdown",
   "id": "2586e35f",
   "metadata": {},
   "source": [
    "# return with function"
   ]
  },
  {
   "cell_type": "code",
   "execution_count": 10,
   "id": "e34b1f92",
   "metadata": {},
   "outputs": [
    {
     "data": {
      "text/plain": [
       "(100, 400)"
      ]
     },
     "execution_count": 10,
     "metadata": {},
     "output_type": "execute_result"
    }
   ],
   "source": [
    "def add(a,b):\n",
    "    value1 = a * a\n",
    "    value2 = b * b\n",
    "    return  value1 , value2\n",
    "\n",
    "add(10,20)    \n",
    "    "
   ]
  },
  {
   "cell_type": "code",
   "execution_count": 11,
   "id": "ebfebb0b",
   "metadata": {},
   "outputs": [
    {
     "name": "stdout",
     "output_type": "stream",
     "text": [
      "500\n"
     ]
    }
   ],
   "source": [
    "first,second = add(10,20)\n",
    "print(first + second)"
   ]
  },
  {
   "cell_type": "code",
   "execution_count": 13,
   "id": "5c3bd0d5",
   "metadata": {},
   "outputs": [
    {
     "data": {
      "text/plain": [
       "4.0"
      ]
     },
     "execution_count": 13,
     "metadata": {},
     "output_type": "execute_result"
    }
   ],
   "source": [
    "div = second / first\n",
    "div"
   ]
  },
  {
   "cell_type": "code",
   "execution_count": 14,
   "id": "31da3f88",
   "metadata": {},
   "outputs": [
    {
     "data": {
      "text/plain": [
       "10"
      ]
     },
     "execution_count": 14,
     "metadata": {},
     "output_type": "execute_result"
    }
   ],
   "source": [
    "def my_fun(x):\n",
    "    return x+x\n",
    "my_fun(5)"
   ]
  },
  {
   "cell_type": "code",
   "execution_count": 16,
   "id": "16c7f37a",
   "metadata": {},
   "outputs": [
    {
     "name": "stdout",
     "output_type": "stream",
     "text": [
      "100\n"
     ]
    }
   ],
   "source": [
    "a = my_fun(5)\n",
    "print(a *a)"
   ]
  },
  {
   "cell_type": "code",
   "execution_count": null,
   "id": "0291eb26",
   "metadata": {},
   "outputs": [],
   "source": [
    "# list of values\n"
   ]
  },
  {
   "cell_type": "code",
   "execution_count": 21,
   "id": "51caadb0",
   "metadata": {},
   "outputs": [],
   "source": [
    "def use_case(a):\n",
    "    count = 0\n",
    "    count_3 = 0\n",
    "    for i in a:\n",
    "        if i % 2 == 0:\n",
    "            count =count + i\n",
    "    for j in a:\n",
    "        if j % 3 == 0:\n",
    "             count_3 = count_3 +j\n",
    "    return(count,count_3)"
   ]
  },
  {
   "cell_type": "code",
   "execution_count": 23,
   "id": "0182c4bb",
   "metadata": {},
   "outputs": [
    {
     "data": {
      "text/plain": [
       "(232, 150)"
      ]
     },
     "execution_count": 23,
     "metadata": {},
     "output_type": "execute_result"
    }
   ],
   "source": [
    "a = [1,2,3,4,5,6,7,100,87,55,54,23,22,44]\n",
    "use_case(a)"
   ]
  },
  {
   "cell_type": "code",
   "execution_count": 25,
   "id": "ecd5d8a9",
   "metadata": {},
   "outputs": [],
   "source": [
    "# using return we can do specific operation from result value"
   ]
  },
  {
   "cell_type": "code",
   "execution_count": 24,
   "id": "1c2da5fb",
   "metadata": {},
   "outputs": [
    {
     "name": "stdout",
     "output_type": "stream",
     "text": [
      "382\n"
     ]
    }
   ],
   "source": [
    "sol1,sol2 = use_case(a)\n",
    "print(sol1 + sol2)"
   ]
  },
  {
   "cell_type": "markdown",
   "id": "a24e6366",
   "metadata": {},
   "source": [
    "# dictionary with function"
   ]
  },
  {
   "cell_type": "code",
   "execution_count": 32,
   "id": "06950cfe",
   "metadata": {},
   "outputs": [],
   "source": [
    "def use_case(a):\n",
    "    empty_dict={}\n",
    "    for i in a:\n",
    "        if i in empty_dict.keys():\n",
    "            empty_dict[i] = empty_dict[i] +1\n",
    "        else:\n",
    "            empty_dict[i]=1\n",
    "    return empty_dict     "
   ]
  },
  {
   "cell_type": "code",
   "execution_count": 33,
   "id": "a6d81278",
   "metadata": {},
   "outputs": [
    {
     "data": {
      "text/plain": [
       "{'s': 1, 'a': 3, 'i': 1, ' ': 1, 'k': 1, 'm': 1, 'l': 1}"
      ]
     },
     "execution_count": 33,
     "metadata": {},
     "output_type": "execute_result"
    }
   ],
   "source": [
    "a = 'sai kamal'\n",
    "use_case(a)"
   ]
  },
  {
   "cell_type": "code",
   "execution_count": 4,
   "id": "ca1d4093",
   "metadata": {},
   "outputs": [
    {
     "data": {
      "text/plain": [
       "{'k': 2, 'a': 2, 'v': 1, 'i': 1, ' ': 1, 't': 1, 'h': 1}"
      ]
     },
     "execution_count": 4,
     "metadata": {},
     "output_type": "execute_result"
    }
   ],
   "source": [
    "a = 'kavi kath'\n",
    "use_case(a)"
   ]
  },
  {
   "cell_type": "code",
   "execution_count": 4,
   "id": "ea60dfe2",
   "metadata": {},
   "outputs": [
    {
     "name": "stdout",
     "output_type": "stream",
     "text": [
      "15\n",
      "30\n",
      "45\n"
     ]
    }
   ],
   "source": [
    "def odd_no(n,m):\n",
    "    for i in range(n,m):\n",
    "        if i%3 == 0 and i%5 ==0:\n",
    "            print(i)\n",
    "        \n",
    "odd_no(12,51)           "
   ]
  },
  {
   "cell_type": "code",
   "execution_count": null,
   "id": "97bb27fd",
   "metadata": {},
   "outputs": [],
   "source": []
  }
 ],
 "metadata": {
  "kernelspec": {
   "display_name": "Python 3 (ipykernel)",
   "language": "python",
   "name": "python3"
  },
  "language_info": {
   "codemirror_mode": {
    "name": "ipython",
    "version": 3
   },
   "file_extension": ".py",
   "mimetype": "text/x-python",
   "name": "python",
   "nbconvert_exporter": "python",
   "pygments_lexer": "ipython3",
   "version": "3.10.9"
  }
 },
 "nbformat": 4,
 "nbformat_minor": 5
}
